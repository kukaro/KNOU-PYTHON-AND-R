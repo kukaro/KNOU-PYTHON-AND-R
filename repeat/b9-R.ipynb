{
 "cells": [
  {
   "cell_type": "code",
   "execution_count": 1,
   "id": "65764949",
   "metadata": {},
   "outputs": [
    {
     "data": {
      "text/html": [
       "<style>\n",
       ".list-inline {list-style: none; margin:0; padding: 0}\n",
       ".list-inline>li {display: inline-block}\n",
       ".list-inline>li:not(:last-child)::after {content: \"\\00b7\"; padding: 0 .5ex}\n",
       "</style>\n",
       "<ol class=list-inline><li>25.8</li><li>24.6</li><li>26.1</li><li>22.9</li><li>25.1</li><li>27.3</li><li>24</li><li>24.5</li><li>23.9</li><li>26.2</li><li>24.3</li><li>24.6</li><li>23.3</li><li>25.5</li><li>28.1</li><li>24.8</li><li>23.5</li><li>26.3</li><li>25.4</li><li>25.5</li><li>23.9</li><li>27</li><li>24.8</li><li>22.9</li><li>25.4</li></ol>\n"
      ],
      "text/latex": [
       "\\begin{enumerate*}\n",
       "\\item 25.8\n",
       "\\item 24.6\n",
       "\\item 26.1\n",
       "\\item 22.9\n",
       "\\item 25.1\n",
       "\\item 27.3\n",
       "\\item 24\n",
       "\\item 24.5\n",
       "\\item 23.9\n",
       "\\item 26.2\n",
       "\\item 24.3\n",
       "\\item 24.6\n",
       "\\item 23.3\n",
       "\\item 25.5\n",
       "\\item 28.1\n",
       "\\item 24.8\n",
       "\\item 23.5\n",
       "\\item 26.3\n",
       "\\item 25.4\n",
       "\\item 25.5\n",
       "\\item 23.9\n",
       "\\item 27\n",
       "\\item 24.8\n",
       "\\item 22.9\n",
       "\\item 25.4\n",
       "\\end{enumerate*}\n"
      ],
      "text/markdown": [
       "1. 25.8\n",
       "2. 24.6\n",
       "3. 26.1\n",
       "4. 22.9\n",
       "5. 25.1\n",
       "6. 27.3\n",
       "7. 24\n",
       "8. 24.5\n",
       "9. 23.9\n",
       "10. 26.2\n",
       "11. 24.3\n",
       "12. 24.6\n",
       "13. 23.3\n",
       "14. 25.5\n",
       "15. 28.1\n",
       "16. 24.8\n",
       "17. 23.5\n",
       "18. 26.3\n",
       "19. 25.4\n",
       "20. 25.5\n",
       "21. 23.9\n",
       "22. 27\n",
       "23. 24.8\n",
       "24. 22.9\n",
       "25. 25.4\n",
       "\n",
       "\n"
      ],
      "text/plain": [
       " [1] 25.8 24.6 26.1 22.9 25.1 27.3 24.0 24.5 23.9 26.2 24.3 24.6 23.3 25.5 28.1\n",
       "[16] 24.8 23.5 26.3 25.4 25.5 23.9 27.0 24.8 22.9 25.4"
      ]
     },
     "metadata": {},
     "output_type": "display_data"
    }
   ],
   "source": [
    "crab <- scan('../data/crab.txt')\n",
    "crab"
   ]
  },
  {
   "cell_type": "code",
   "execution_count": 2,
   "id": "d0f00fda",
   "metadata": {},
   "outputs": [
    {
     "data": {
      "text/plain": [
       "\n",
       "\tOne Sample t-test\n",
       "\n",
       "data:  crab\n",
       "t = 2.7128, df = 24, p-value = 0.01215\n",
       "alternative hypothesis: true mean is not equal to 24.3\n",
       "95 percent confidence interval:\n",
       " 24.47413 25.58187\n",
       "sample estimates:\n",
       "mean of x \n",
       "   25.028 \n"
      ]
     },
     "metadata": {},
     "output_type": "display_data"
    }
   ],
   "source": [
    "t.test(crab, mu=24.3)"
   ]
  },
  {
   "cell_type": "code",
   "execution_count": 3,
   "id": "878a2337",
   "metadata": {},
   "outputs": [],
   "source": [
    "# 2.1 두 독립표본 평균 검정"
   ]
  },
  {
   "cell_type": "code",
   "execution_count": 4,
   "id": "7db85253",
   "metadata": {},
   "outputs": [
    {
     "data": {
      "text/html": [
       "<table class=\"dataframe\">\n",
       "<caption>A data.frame: 2 × 2</caption>\n",
       "<thead>\n",
       "\t<tr><th></th><th scope=col>drug</th><th scope=col>time</th></tr>\n",
       "\t<tr><th></th><th scope=col>&lt;chr&gt;</th><th scope=col>&lt;dbl&gt;</th></tr>\n",
       "</thead>\n",
       "<tbody>\n",
       "\t<tr><th scope=row>1</th><td>B</td><td>8.8</td></tr>\n",
       "\t<tr><th scope=row>7</th><td>G</td><td>9.9</td></tr>\n",
       "</tbody>\n",
       "</table>\n"
      ],
      "text/latex": [
       "A data.frame: 2 × 2\n",
       "\\begin{tabular}{r|ll}\n",
       "  & drug & time\\\\\n",
       "  & <chr> & <dbl>\\\\\n",
       "\\hline\n",
       "\t1 & B & 8.8\\\\\n",
       "\t7 & G & 9.9\\\\\n",
       "\\end{tabular}\n"
      ],
      "text/markdown": [
       "\n",
       "A data.frame: 2 × 2\n",
       "\n",
       "| <!--/--> | drug &lt;chr&gt; | time &lt;dbl&gt; |\n",
       "|---|---|---|\n",
       "| 1 | B | 8.8 |\n",
       "| 7 | G | 9.9 |\n",
       "\n"
      ],
      "text/plain": [
       "  drug time\n",
       "1 B    8.8 \n",
       "7 G    9.9 "
      ]
     },
     "metadata": {},
     "output_type": "display_data"
    }
   ],
   "source": [
    "drug = read.csv('../data/drug.csv', header=T)\n",
    "drug[c(1,7),]"
   ]
  },
  {
   "cell_type": "code",
   "execution_count": 5,
   "id": "9b998fe0",
   "metadata": {},
   "outputs": [
    {
     "data": {
      "text/plain": [
       "\n",
       "\tWelch Two Sample t-test\n",
       "\n",
       "data:  time by drug\n",
       "t = -2.5454, df = 10.701, p-value = 0.02774\n",
       "alternative hypothesis: true difference in means is not equal to 0\n",
       "95 percent confidence interval:\n",
       " -1.8543048 -0.1314095\n",
       "sample estimates:\n",
       "mean in group B mean in group G \n",
       "       8.750000        9.742857 \n"
      ]
     },
     "metadata": {},
     "output_type": "display_data"
    }
   ],
   "source": [
    "t.test(time ~ drug, data=drug)"
   ]
  },
  {
   "cell_type": "code",
   "execution_count": 6,
   "id": "e2f7054c",
   "metadata": {},
   "outputs": [
    {
     "data": {
      "text/plain": [
       "\n",
       "\tF test to compare two variances\n",
       "\n",
       "data:  time by drug\n",
       "F = 0.50633, num df = 5, denom df = 6, p-value = 0.4722\n",
       "alternative hypothesis: true ratio of variances is not equal to 1\n",
       "95 percent confidence interval:\n",
       " 0.08456359 3.53301988\n",
       "sample estimates:\n",
       "ratio of variances \n",
       "           0.50633 \n"
      ]
     },
     "metadata": {},
     "output_type": "display_data"
    }
   ],
   "source": [
    "var.test(time ~ drug, data=drug)"
   ]
  },
  {
   "cell_type": "code",
   "execution_count": 7,
   "id": "2883f85e",
   "metadata": {},
   "outputs": [
    {
     "data": {
      "text/plain": [
       "\n",
       "\tTwo Sample t-test\n",
       "\n",
       "data:  time by drug\n",
       "t = -2.4765, df = 11, p-value = 0.03076\n",
       "alternative hypothesis: true difference in means is not equal to 0\n",
       "95 percent confidence interval:\n",
       " -1.8752609 -0.1104534\n",
       "sample estimates:\n",
       "mean in group B mean in group G \n",
       "       8.750000        9.742857 \n"
      ]
     },
     "metadata": {},
     "output_type": "display_data"
    }
   ],
   "source": [
    "t.test(time ~ drug, var.equal=T, data=drug)"
   ]
  },
  {
   "cell_type": "code",
   "execution_count": 8,
   "id": "a74a7adc",
   "metadata": {},
   "outputs": [],
   "source": [
    "# 3. 짝지어진 표본에서 평균 검정"
   ]
  },
  {
   "cell_type": "code",
   "execution_count": 9,
   "id": "aa3fba95",
   "metadata": {},
   "outputs": [],
   "source": [
    "deer = read.csv('../data/deer.csv', header=T)"
   ]
  },
  {
   "cell_type": "code",
   "execution_count": 10,
   "id": "087fbb58",
   "metadata": {},
   "outputs": [
    {
     "data": {
      "text/html": [
       "<table class=\"dataframe\">\n",
       "<caption>A data.frame: 6 × 3</caption>\n",
       "<thead>\n",
       "\t<tr><th></th><th scope=col>id</th><th scope=col>hleg</th><th scope=col>fleg</th></tr>\n",
       "\t<tr><th></th><th scope=col>&lt;int&gt;</th><th scope=col>&lt;int&gt;</th><th scope=col>&lt;int&gt;</th></tr>\n",
       "</thead>\n",
       "<tbody>\n",
       "\t<tr><th scope=row>1</th><td>1</td><td>142</td><td>138</td></tr>\n",
       "\t<tr><th scope=row>2</th><td>2</td><td>140</td><td>136</td></tr>\n",
       "\t<tr><th scope=row>3</th><td>3</td><td>144</td><td>147</td></tr>\n",
       "\t<tr><th scope=row>4</th><td>4</td><td>144</td><td>139</td></tr>\n",
       "\t<tr><th scope=row>5</th><td>5</td><td>142</td><td>143</td></tr>\n",
       "\t<tr><th scope=row>6</th><td>6</td><td>146</td><td>141</td></tr>\n",
       "</tbody>\n",
       "</table>\n"
      ],
      "text/latex": [
       "A data.frame: 6 × 3\n",
       "\\begin{tabular}{r|lll}\n",
       "  & id & hleg & fleg\\\\\n",
       "  & <int> & <int> & <int>\\\\\n",
       "\\hline\n",
       "\t1 & 1 & 142 & 138\\\\\n",
       "\t2 & 2 & 140 & 136\\\\\n",
       "\t3 & 3 & 144 & 147\\\\\n",
       "\t4 & 4 & 144 & 139\\\\\n",
       "\t5 & 5 & 142 & 143\\\\\n",
       "\t6 & 6 & 146 & 141\\\\\n",
       "\\end{tabular}\n"
      ],
      "text/markdown": [
       "\n",
       "A data.frame: 6 × 3\n",
       "\n",
       "| <!--/--> | id &lt;int&gt; | hleg &lt;int&gt; | fleg &lt;int&gt; |\n",
       "|---|---|---|---|\n",
       "| 1 | 1 | 142 | 138 |\n",
       "| 2 | 2 | 140 | 136 |\n",
       "| 3 | 3 | 144 | 147 |\n",
       "| 4 | 4 | 144 | 139 |\n",
       "| 5 | 5 | 142 | 143 |\n",
       "| 6 | 6 | 146 | 141 |\n",
       "\n"
      ],
      "text/plain": [
       "  id hleg fleg\n",
       "1 1  142  138 \n",
       "2 2  140  136 \n",
       "3 3  144  147 \n",
       "4 4  144  139 \n",
       "5 5  142  143 \n",
       "6 6  146  141 "
      ]
     },
     "metadata": {},
     "output_type": "display_data"
    }
   ],
   "source": [
    "head(deer)"
   ]
  },
  {
   "cell_type": "code",
   "execution_count": 12,
   "id": "cf53b0d2",
   "metadata": {},
   "outputs": [
    {
     "data": {
      "text/plain": [
       "\n",
       "\tPaired t-test\n",
       "\n",
       "data:  deer$hleg and deer$fleg\n",
       "t = 3.4138, df = 9, p-value = 0.007703\n",
       "alternative hypothesis: true difference in means is not equal to 0\n",
       "95 percent confidence interval:\n",
       " 1.113248 5.486752\n",
       "sample estimates:\n",
       "mean of the differences \n",
       "                    3.3 \n"
      ]
     },
     "metadata": {},
     "output_type": "display_data"
    }
   ],
   "source": [
    "t.test(deer$hleg, deer$fleg, paired=T)"
   ]
  },
  {
   "cell_type": "code",
   "execution_count": null,
   "id": "5054da0c",
   "metadata": {},
   "outputs": [],
   "source": []
  }
 ],
 "metadata": {
  "kernelspec": {
   "display_name": "R",
   "language": "R",
   "name": "ir"
  },
  "language_info": {
   "codemirror_mode": "r",
   "file_extension": ".r",
   "mimetype": "text/x-r-source",
   "name": "R",
   "pygments_lexer": "r",
   "version": "4.0.3"
  }
 },
 "nbformat": 4,
 "nbformat_minor": 5
}
