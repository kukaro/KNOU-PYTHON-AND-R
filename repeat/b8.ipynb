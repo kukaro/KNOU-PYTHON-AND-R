{
 "cells": [
  {
   "cell_type": "code",
   "execution_count": 1,
   "id": "a89ca0e1",
   "metadata": {},
   "outputs": [],
   "source": [
    "import numpy as np\n",
    "import pandas as pd\n",
    "import matplotlib.pyplot as plt"
   ]
  },
  {
   "cell_type": "code",
   "execution_count": 2,
   "id": "553aafb9",
   "metadata": {},
   "outputs": [
    {
     "data": {
      "text/html": [
       "<div>\n",
       "<style scoped>\n",
       "    .dataframe tbody tr th:only-of-type {\n",
       "        vertical-align: middle;\n",
       "    }\n",
       "\n",
       "    .dataframe tbody tr th {\n",
       "        vertical-align: top;\n",
       "    }\n",
       "\n",
       "    .dataframe thead th {\n",
       "        text-align: right;\n",
       "    }\n",
       "</style>\n",
       "<table border=\"1\" class=\"dataframe\">\n",
       "  <thead>\n",
       "    <tr style=\"text-align: right;\">\n",
       "      <th></th>\n",
       "      <th>id</th>\n",
       "      <th>gender</th>\n",
       "      <th>midterm</th>\n",
       "      <th>final</th>\n",
       "    </tr>\n",
       "  </thead>\n",
       "  <tbody>\n",
       "    <tr>\n",
       "      <th>0</th>\n",
       "      <td>13001</td>\n",
       "      <td>f</td>\n",
       "      <td>60</td>\n",
       "      <td>80</td>\n",
       "    </tr>\n",
       "    <tr>\n",
       "      <th>1</th>\n",
       "      <td>13003</td>\n",
       "      <td>m</td>\n",
       "      <td>90</td>\n",
       "      <td>72</td>\n",
       "    </tr>\n",
       "    <tr>\n",
       "      <th>2</th>\n",
       "      <td>13013</td>\n",
       "      <td>m</td>\n",
       "      <td>76</td>\n",
       "      <td>85</td>\n",
       "    </tr>\n",
       "    <tr>\n",
       "      <th>3</th>\n",
       "      <td>13020</td>\n",
       "      <td>f</td>\n",
       "      <td>74</td>\n",
       "      <td>89</td>\n",
       "    </tr>\n",
       "    <tr>\n",
       "      <th>4</th>\n",
       "      <td>13041</td>\n",
       "      <td>f</td>\n",
       "      <td>50</td>\n",
       "      <td>53</td>\n",
       "    </tr>\n",
       "  </tbody>\n",
       "</table>\n",
       "</div>"
      ],
      "text/plain": [
       "      id gender  midterm  final\n",
       "0  13001      f       60     80\n",
       "1  13003      m       90     72\n",
       "2  13013      m       76     85\n",
       "3  13020      f       74     89\n",
       "4  13041      f       50     53"
      ]
     },
     "execution_count": 2,
     "metadata": {},
     "output_type": "execute_result"
    }
   ],
   "source": [
    "score = pd.read_csv('../data/score.csv')\n",
    "score.head()"
   ]
  },
  {
   "cell_type": "code",
   "execution_count": 3,
   "id": "c49622d8",
   "metadata": {},
   "outputs": [],
   "source": [
    "score['total'] = score['midterm'] + score['final']"
   ]
  },
  {
   "cell_type": "code",
   "execution_count": 4,
   "id": "f145b306",
   "metadata": {},
   "outputs": [
    {
     "data": {
      "text/html": [
       "<div>\n",
       "<style scoped>\n",
       "    .dataframe tbody tr th:only-of-type {\n",
       "        vertical-align: middle;\n",
       "    }\n",
       "\n",
       "    .dataframe tbody tr th {\n",
       "        vertical-align: top;\n",
       "    }\n",
       "\n",
       "    .dataframe thead th {\n",
       "        text-align: right;\n",
       "    }\n",
       "</style>\n",
       "<table border=\"1\" class=\"dataframe\">\n",
       "  <thead>\n",
       "    <tr style=\"text-align: right;\">\n",
       "      <th></th>\n",
       "      <th>id</th>\n",
       "      <th>gender</th>\n",
       "      <th>midterm</th>\n",
       "      <th>final</th>\n",
       "      <th>total</th>\n",
       "    </tr>\n",
       "  </thead>\n",
       "  <tbody>\n",
       "    <tr>\n",
       "      <th>0</th>\n",
       "      <td>13001</td>\n",
       "      <td>f</td>\n",
       "      <td>60</td>\n",
       "      <td>80</td>\n",
       "      <td>140</td>\n",
       "    </tr>\n",
       "    <tr>\n",
       "      <th>1</th>\n",
       "      <td>13003</td>\n",
       "      <td>m</td>\n",
       "      <td>90</td>\n",
       "      <td>72</td>\n",
       "      <td>162</td>\n",
       "    </tr>\n",
       "    <tr>\n",
       "      <th>2</th>\n",
       "      <td>13013</td>\n",
       "      <td>m</td>\n",
       "      <td>76</td>\n",
       "      <td>85</td>\n",
       "      <td>161</td>\n",
       "    </tr>\n",
       "  </tbody>\n",
       "</table>\n",
       "</div>"
      ],
      "text/plain": [
       "      id gender  midterm  final  total\n",
       "0  13001      f       60     80    140\n",
       "1  13003      m       90     72    162\n",
       "2  13013      m       76     85    161"
      ]
     },
     "execution_count": 4,
     "metadata": {},
     "output_type": "execute_result"
    }
   ],
   "source": [
    "score.head(3)"
   ]
  },
  {
   "cell_type": "code",
   "execution_count": 5,
   "id": "923fd2bc",
   "metadata": {},
   "outputs": [
    {
     "data": {
      "text/plain": [
       "122.65168539325843"
      ]
     },
     "execution_count": 5,
     "metadata": {},
     "output_type": "execute_result"
    }
   ],
   "source": [
    "score['total'].mean()"
   ]
  },
  {
   "cell_type": "code",
   "execution_count": 7,
   "id": "1ac2456c",
   "metadata": {},
   "outputs": [
    {
     "data": {
      "text/plain": [
       "37.882324111407364"
      ]
     },
     "execution_count": 7,
     "metadata": {},
     "output_type": "execute_result"
    }
   ],
   "source": [
    "score['total'].std()"
   ]
  },
  {
   "cell_type": "code",
   "execution_count": 8,
   "id": "4e815ce0",
   "metadata": {},
   "outputs": [
    {
     "data": {
      "text/plain": [
       "128.0"
      ]
     },
     "execution_count": 8,
     "metadata": {},
     "output_type": "execute_result"
    }
   ],
   "source": [
    "score['total'].median()"
   ]
  },
  {
   "cell_type": "code",
   "execution_count": 9,
   "id": "523ab852",
   "metadata": {},
   "outputs": [
    {
     "data": {
      "text/plain": [
       "154.0"
      ]
     },
     "execution_count": 9,
     "metadata": {},
     "output_type": "execute_result"
    }
   ],
   "source": [
    "score['total'].quantile(0.75)"
   ]
  },
  {
   "cell_type": "code",
   "execution_count": 10,
   "id": "9465e684",
   "metadata": {},
   "outputs": [],
   "source": [
    "import collections"
   ]
  },
  {
   "cell_type": "code",
   "execution_count": 11,
   "id": "02af98a6",
   "metadata": {},
   "outputs": [
    {
     "data": {
      "text/plain": [
       "Counter({'f': 35, 'm': 54})"
      ]
     },
     "execution_count": 11,
     "metadata": {},
     "output_type": "execute_result"
    }
   ],
   "source": [
    "collections.Counter(score['gender'])"
   ]
  },
  {
   "cell_type": "code",
   "execution_count": 12,
   "id": "2549f1cf",
   "metadata": {},
   "outputs": [
    {
     "data": {
      "text/html": [
       "<div>\n",
       "<style scoped>\n",
       "    .dataframe tbody tr th:only-of-type {\n",
       "        vertical-align: middle;\n",
       "    }\n",
       "\n",
       "    .dataframe tbody tr th {\n",
       "        vertical-align: top;\n",
       "    }\n",
       "\n",
       "    .dataframe thead th {\n",
       "        text-align: right;\n",
       "    }\n",
       "</style>\n",
       "<table border=\"1\" class=\"dataframe\">\n",
       "  <thead>\n",
       "    <tr style=\"text-align: right;\">\n",
       "      <th></th>\n",
       "      <th>midterm</th>\n",
       "      <th>final</th>\n",
       "      <th>total</th>\n",
       "    </tr>\n",
       "  </thead>\n",
       "  <tbody>\n",
       "    <tr>\n",
       "      <th>0</th>\n",
       "      <td>60</td>\n",
       "      <td>80</td>\n",
       "      <td>140</td>\n",
       "    </tr>\n",
       "    <tr>\n",
       "      <th>1</th>\n",
       "      <td>90</td>\n",
       "      <td>72</td>\n",
       "      <td>162</td>\n",
       "    </tr>\n",
       "    <tr>\n",
       "      <th>2</th>\n",
       "      <td>76</td>\n",
       "      <td>85</td>\n",
       "      <td>161</td>\n",
       "    </tr>\n",
       "  </tbody>\n",
       "</table>\n",
       "</div>"
      ],
      "text/plain": [
       "   midterm  final  total\n",
       "0       60     80    140\n",
       "1       90     72    162\n",
       "2       76     85    161"
      ]
     },
     "execution_count": 12,
     "metadata": {},
     "output_type": "execute_result"
    }
   ],
   "source": [
    "cols = ['midterm', 'final', 'total']\n",
    "score2 = score[cols]\n",
    "score2.head(3)"
   ]
  },
  {
   "cell_type": "code",
   "execution_count": 13,
   "id": "eef138d7",
   "metadata": {},
   "outputs": [
    {
     "data": {
      "text/html": [
       "<div>\n",
       "<style scoped>\n",
       "    .dataframe tbody tr th:only-of-type {\n",
       "        vertical-align: middle;\n",
       "    }\n",
       "\n",
       "    .dataframe tbody tr th {\n",
       "        vertical-align: top;\n",
       "    }\n",
       "\n",
       "    .dataframe thead th {\n",
       "        text-align: right;\n",
       "    }\n",
       "</style>\n",
       "<table border=\"1\" class=\"dataframe\">\n",
       "  <thead>\n",
       "    <tr style=\"text-align: right;\">\n",
       "      <th></th>\n",
       "      <th>midterm</th>\n",
       "      <th>final</th>\n",
       "      <th>total</th>\n",
       "    </tr>\n",
       "  </thead>\n",
       "  <tbody>\n",
       "    <tr>\n",
       "      <th>count</th>\n",
       "      <td>89.000000</td>\n",
       "      <td>89.000000</td>\n",
       "      <td>89.000000</td>\n",
       "    </tr>\n",
       "    <tr>\n",
       "      <th>mean</th>\n",
       "      <td>66.898876</td>\n",
       "      <td>55.752809</td>\n",
       "      <td>122.651685</td>\n",
       "    </tr>\n",
       "    <tr>\n",
       "      <th>std</th>\n",
       "      <td>19.060338</td>\n",
       "      <td>24.088040</td>\n",
       "      <td>37.882324</td>\n",
       "    </tr>\n",
       "    <tr>\n",
       "      <th>min</th>\n",
       "      <td>22.000000</td>\n",
       "      <td>0.000000</td>\n",
       "      <td>35.000000</td>\n",
       "    </tr>\n",
       "    <tr>\n",
       "      <th>25%</th>\n",
       "      <td>52.000000</td>\n",
       "      <td>40.000000</td>\n",
       "      <td>99.000000</td>\n",
       "    </tr>\n",
       "    <tr>\n",
       "      <th>50%</th>\n",
       "      <td>71.000000</td>\n",
       "      <td>55.000000</td>\n",
       "      <td>128.000000</td>\n",
       "    </tr>\n",
       "    <tr>\n",
       "      <th>75%</th>\n",
       "      <td>82.000000</td>\n",
       "      <td>75.000000</td>\n",
       "      <td>154.000000</td>\n",
       "    </tr>\n",
       "    <tr>\n",
       "      <th>max</th>\n",
       "      <td>100.000000</td>\n",
       "      <td>93.000000</td>\n",
       "      <td>193.000000</td>\n",
       "    </tr>\n",
       "  </tbody>\n",
       "</table>\n",
       "</div>"
      ],
      "text/plain": [
       "          midterm      final       total\n",
       "count   89.000000  89.000000   89.000000\n",
       "mean    66.898876  55.752809  122.651685\n",
       "std     19.060338  24.088040   37.882324\n",
       "min     22.000000   0.000000   35.000000\n",
       "25%     52.000000  40.000000   99.000000\n",
       "50%     71.000000  55.000000  128.000000\n",
       "75%     82.000000  75.000000  154.000000\n",
       "max    100.000000  93.000000  193.000000"
      ]
     },
     "execution_count": 13,
     "metadata": {},
     "output_type": "execute_result"
    }
   ],
   "source": [
    "score2.describe()"
   ]
  },
  {
   "cell_type": "code",
   "execution_count": 14,
   "id": "35abe9bc",
   "metadata": {},
   "outputs": [],
   "source": [
    "from scipy.stats import skew"
   ]
  },
  {
   "cell_type": "code",
   "execution_count": 16,
   "id": "1c0b30b0",
   "metadata": {},
   "outputs": [
    {
     "data": {
      "text/plain": [
       "array([-0.40363253, -0.5141206 , -0.45632558])"
      ]
     },
     "execution_count": 16,
     "metadata": {},
     "output_type": "execute_result"
    }
   ],
   "source": [
    "skew(score2)\n",
    "# skew는 왜도"
   ]
  },
  {
   "cell_type": "code",
   "execution_count": 17,
   "id": "61d3496e",
   "metadata": {},
   "outputs": [],
   "source": [
    "from scipy.stats import kurtosis"
   ]
  },
  {
   "cell_type": "code",
   "execution_count": 19,
   "id": "0c4ac6a5",
   "metadata": {},
   "outputs": [
    {
     "data": {
      "text/plain": [
       "array([-0.60237839, -0.4553289 , -0.64057126])"
      ]
     },
     "execution_count": 19,
     "metadata": {},
     "output_type": "execute_result"
    }
   ],
   "source": [
    "kurtosis(score2)\n",
    "# kurtosis는 첨도"
   ]
  },
  {
   "cell_type": "code",
   "execution_count": 20,
   "id": "97cfd33e",
   "metadata": {},
   "outputs": [],
   "source": [
    "# 2. 그룹별 기술통계"
   ]
  },
  {
   "cell_type": "code",
   "execution_count": 21,
   "id": "b7ae0c66",
   "metadata": {},
   "outputs": [],
   "source": [
    "import pandas as pf"
   ]
  },
  {
   "cell_type": "code",
   "execution_count": 22,
   "id": "9ef6a2b4",
   "metadata": {},
   "outputs": [],
   "source": [
    "score = pd.read_csv('../data/score.csv')"
   ]
  },
  {
   "cell_type": "code",
   "execution_count": 24,
   "id": "9e1af03b",
   "metadata": {},
   "outputs": [
    {
     "data": {
      "text/plain": [
       "0    140\n",
       "1    162\n",
       "2    161\n",
       "3    163\n",
       "4    103\n",
       "Name: total, dtype: int64"
      ]
     },
     "execution_count": 24,
     "metadata": {},
     "output_type": "execute_result"
    }
   ],
   "source": [
    "score['total'] = score['midterm'] + score['final']\n",
    "score['total'].head()"
   ]
  },
  {
   "cell_type": "code",
   "execution_count": 28,
   "id": "37a5ab2e",
   "metadata": {},
   "outputs": [
    {
     "data": {
      "text/html": [
       "<div>\n",
       "<style scoped>\n",
       "    .dataframe tbody tr th:only-of-type {\n",
       "        vertical-align: middle;\n",
       "    }\n",
       "\n",
       "    .dataframe tbody tr th {\n",
       "        vertical-align: top;\n",
       "    }\n",
       "\n",
       "    .dataframe thead th {\n",
       "        text-align: right;\n",
       "    }\n",
       "</style>\n",
       "<table border=\"1\" class=\"dataframe\">\n",
       "  <thead>\n",
       "    <tr style=\"text-align: right;\">\n",
       "      <th></th>\n",
       "      <th>count</th>\n",
       "      <th>mean</th>\n",
       "      <th>std</th>\n",
       "      <th>min</th>\n",
       "      <th>25%</th>\n",
       "      <th>50%</th>\n",
       "      <th>75%</th>\n",
       "      <th>max</th>\n",
       "    </tr>\n",
       "    <tr>\n",
       "      <th>gender</th>\n",
       "      <th></th>\n",
       "      <th></th>\n",
       "      <th></th>\n",
       "      <th></th>\n",
       "      <th></th>\n",
       "      <th></th>\n",
       "      <th></th>\n",
       "      <th></th>\n",
       "    </tr>\n",
       "  </thead>\n",
       "  <tbody>\n",
       "    <tr>\n",
       "      <th>f</th>\n",
       "      <td>35.0</td>\n",
       "      <td>122.771429</td>\n",
       "      <td>34.295503</td>\n",
       "      <td>35.0</td>\n",
       "      <td>102.5</td>\n",
       "      <td>122.0</td>\n",
       "      <td>152.0</td>\n",
       "      <td>172.0</td>\n",
       "    </tr>\n",
       "    <tr>\n",
       "      <th>m</th>\n",
       "      <td>54.0</td>\n",
       "      <td>122.574074</td>\n",
       "      <td>40.351101</td>\n",
       "      <td>36.0</td>\n",
       "      <td>91.5</td>\n",
       "      <td>133.0</td>\n",
       "      <td>156.5</td>\n",
       "      <td>193.0</td>\n",
       "    </tr>\n",
       "  </tbody>\n",
       "</table>\n",
       "</div>"
      ],
      "text/plain": [
       "        count        mean        std   min    25%    50%    75%    max\n",
       "gender                                                                \n",
       "f        35.0  122.771429  34.295503  35.0  102.5  122.0  152.0  172.0\n",
       "m        54.0  122.574074  40.351101  36.0   91.5  133.0  156.5  193.0"
      ]
     },
     "execution_count": 28,
     "metadata": {},
     "output_type": "execute_result"
    }
   ],
   "source": [
    "gstat = score.groupby('gender')['total'].describe()\n",
    "gstat"
   ]
  },
  {
   "cell_type": "code",
   "execution_count": 29,
   "id": "e361810e",
   "metadata": {},
   "outputs": [
    {
     "data": {
      "text/plain": [
       "gender\n",
       "f    122.771429\n",
       "m    122.574074\n",
       "Name: mean, dtype: float64"
      ]
     },
     "execution_count": 29,
     "metadata": {},
     "output_type": "execute_result"
    }
   ],
   "source": [
    "gstat['mean']"
   ]
  },
  {
   "cell_type": "code",
   "execution_count": 30,
   "id": "bca41134",
   "metadata": {},
   "outputs": [
    {
     "data": {
      "text/plain": [
       "gender\n",
       "f    34.295503\n",
       "m    40.351101\n",
       "Name: std, dtype: float64"
      ]
     },
     "execution_count": 30,
     "metadata": {},
     "output_type": "execute_result"
    }
   ],
   "source": [
    "gstat['std']"
   ]
  },
  {
   "cell_type": "code",
   "execution_count": 31,
   "id": "18da227f",
   "metadata": {},
   "outputs": [
    {
     "data": {
      "text/plain": [
       "gender\n",
       "f    102.5\n",
       "m     91.5\n",
       "Name: 25%, dtype: float64"
      ]
     },
     "execution_count": 31,
     "metadata": {},
     "output_type": "execute_result"
    }
   ],
   "source": [
    "gstat['25%']"
   ]
  },
  {
   "cell_type": "code",
   "execution_count": 32,
   "id": "d175c255",
   "metadata": {},
   "outputs": [],
   "source": [
    "import pandas as pf"
   ]
  },
  {
   "cell_type": "code",
   "execution_count": 33,
   "id": "e59f58a7",
   "metadata": {},
   "outputs": [],
   "source": [
    "score = pd.read_csv('../data/score.csv')\n",
    "score['total'] = score['midterm'] + score['final']"
   ]
  },
  {
   "cell_type": "code",
   "execution_count": 34,
   "id": "4749374f",
   "metadata": {},
   "outputs": [
    {
     "data": {
      "text/html": [
       "<div>\n",
       "<style scoped>\n",
       "    .dataframe tbody tr th:only-of-type {\n",
       "        vertical-align: middle;\n",
       "    }\n",
       "\n",
       "    .dataframe tbody tr th {\n",
       "        vertical-align: top;\n",
       "    }\n",
       "\n",
       "    .dataframe thead th {\n",
       "        text-align: right;\n",
       "    }\n",
       "</style>\n",
       "<table border=\"1\" class=\"dataframe\">\n",
       "  <thead>\n",
       "    <tr style=\"text-align: right;\">\n",
       "      <th></th>\n",
       "      <th>size</th>\n",
       "      <th>mean</th>\n",
       "      <th>std</th>\n",
       "      <th>min</th>\n",
       "      <th>max</th>\n",
       "    </tr>\n",
       "    <tr>\n",
       "      <th>gender</th>\n",
       "      <th></th>\n",
       "      <th></th>\n",
       "      <th></th>\n",
       "      <th></th>\n",
       "      <th></th>\n",
       "    </tr>\n",
       "  </thead>\n",
       "  <tbody>\n",
       "    <tr>\n",
       "      <th>f</th>\n",
       "      <td>35</td>\n",
       "      <td>122.771429</td>\n",
       "      <td>34.295503</td>\n",
       "      <td>35</td>\n",
       "      <td>172</td>\n",
       "    </tr>\n",
       "    <tr>\n",
       "      <th>m</th>\n",
       "      <td>54</td>\n",
       "      <td>122.574074</td>\n",
       "      <td>40.351101</td>\n",
       "      <td>36</td>\n",
       "      <td>193</td>\n",
       "    </tr>\n",
       "  </tbody>\n",
       "</table>\n",
       "</div>"
      ],
      "text/plain": [
       "        size        mean        std  min  max\n",
       "gender                                       \n",
       "f         35  122.771429  34.295503   35  172\n",
       "m         54  122.574074  40.351101   36  193"
      ]
     },
     "execution_count": 34,
     "metadata": {},
     "output_type": "execute_result"
    }
   ],
   "source": [
    "gstat_total = score.groupby('gender')['total']\n",
    "gstat_total.agg(['size','mean','std','min','max'])"
   ]
  },
  {
   "cell_type": "code",
   "execution_count": 35,
   "id": "bb39d3e5",
   "metadata": {},
   "outputs": [
    {
     "data": {
      "text/plain": [
       "size     35.000000\n",
       "mean    122.771429\n",
       "std      34.295503\n",
       "min      35.000000\n",
       "max     172.000000\n",
       "Name: f, dtype: float64"
      ]
     },
     "execution_count": 35,
     "metadata": {},
     "output_type": "execute_result"
    }
   ],
   "source": [
    "gresult = gstat_total.agg(['size','mean','std','min','max'])\n",
    "gresult.loc['f']"
   ]
  },
  {
   "cell_type": "code",
   "execution_count": 36,
   "id": "efe35efd",
   "metadata": {},
   "outputs": [
    {
     "data": {
      "text/plain": [
       "size     54.000000\n",
       "mean    122.574074\n",
       "std      40.351101\n",
       "min      36.000000\n",
       "max     193.000000\n",
       "Name: m, dtype: float64"
      ]
     },
     "execution_count": 36,
     "metadata": {},
     "output_type": "execute_result"
    }
   ],
   "source": [
    "gresult.loc['m']"
   ]
  },
  {
   "cell_type": "code",
   "execution_count": 38,
   "id": "898e638e",
   "metadata": {},
   "outputs": [],
   "source": [
    "import researchpy as rp\n",
    "import pandas as pd"
   ]
  },
  {
   "cell_type": "code",
   "execution_count": 39,
   "id": "fac441f0",
   "metadata": {},
   "outputs": [],
   "source": [
    "score = pd.read_csv('../data/score.csv')\n",
    "score['total'] = score['midterm'] + score['final']"
   ]
  },
  {
   "cell_type": "code",
   "execution_count": 40,
   "id": "1af7e104",
   "metadata": {},
   "outputs": [
    {
     "name": "stdout",
     "output_type": "stream",
     "text": [
      "\n",
      "\n"
     ]
    },
    {
     "data": {
      "text/html": [
       "<div>\n",
       "<style scoped>\n",
       "    .dataframe tbody tr th:only-of-type {\n",
       "        vertical-align: middle;\n",
       "    }\n",
       "\n",
       "    .dataframe tbody tr th {\n",
       "        vertical-align: top;\n",
       "    }\n",
       "\n",
       "    .dataframe thead th {\n",
       "        text-align: right;\n",
       "    }\n",
       "</style>\n",
       "<table border=\"1\" class=\"dataframe\">\n",
       "  <thead>\n",
       "    <tr style=\"text-align: right;\">\n",
       "      <th></th>\n",
       "      <th>Variable</th>\n",
       "      <th>N</th>\n",
       "      <th>Mean</th>\n",
       "      <th>SD</th>\n",
       "      <th>SE</th>\n",
       "      <th>95% Conf.</th>\n",
       "      <th>Interval</th>\n",
       "    </tr>\n",
       "  </thead>\n",
       "  <tbody>\n",
       "    <tr>\n",
       "      <th>0</th>\n",
       "      <td>total</td>\n",
       "      <td>89.0</td>\n",
       "      <td>122.6517</td>\n",
       "      <td>37.8823</td>\n",
       "      <td>4.0155</td>\n",
       "      <td>114.6717</td>\n",
       "      <td>130.6317</td>\n",
       "    </tr>\n",
       "  </tbody>\n",
       "</table>\n",
       "</div>"
      ],
      "text/plain": [
       "  Variable     N      Mean       SD      SE  95% Conf.  Interval\n",
       "0    total  89.0  122.6517  37.8823  4.0155   114.6717  130.6317"
      ]
     },
     "execution_count": 40,
     "metadata": {},
     "output_type": "execute_result"
    }
   ],
   "source": [
    "rp.summary_cont(score['total'])"
   ]
  },
  {
   "cell_type": "code",
   "execution_count": 41,
   "id": "9b493c7e",
   "metadata": {},
   "outputs": [
    {
     "name": "stdout",
     "output_type": "stream",
     "text": [
      "\n",
      "\n"
     ]
    },
    {
     "data": {
      "text/html": [
       "<div>\n",
       "<style scoped>\n",
       "    .dataframe tbody tr th:only-of-type {\n",
       "        vertical-align: middle;\n",
       "    }\n",
       "\n",
       "    .dataframe tbody tr th {\n",
       "        vertical-align: top;\n",
       "    }\n",
       "\n",
       "    .dataframe thead th {\n",
       "        text-align: right;\n",
       "    }\n",
       "</style>\n",
       "<table border=\"1\" class=\"dataframe\">\n",
       "  <thead>\n",
       "    <tr style=\"text-align: right;\">\n",
       "      <th></th>\n",
       "      <th>N</th>\n",
       "      <th>Mean</th>\n",
       "      <th>SD</th>\n",
       "      <th>SE</th>\n",
       "      <th>95% Conf.</th>\n",
       "      <th>Interval</th>\n",
       "    </tr>\n",
       "    <tr>\n",
       "      <th>gender</th>\n",
       "      <th></th>\n",
       "      <th></th>\n",
       "      <th></th>\n",
       "      <th></th>\n",
       "      <th></th>\n",
       "      <th></th>\n",
       "    </tr>\n",
       "  </thead>\n",
       "  <tbody>\n",
       "    <tr>\n",
       "      <th>f</th>\n",
       "      <td>35</td>\n",
       "      <td>122.7714</td>\n",
       "      <td>34.2955</td>\n",
       "      <td>5.7970</td>\n",
       "      <td>110.9905</td>\n",
       "      <td>134.5523</td>\n",
       "    </tr>\n",
       "    <tr>\n",
       "      <th>m</th>\n",
       "      <td>54</td>\n",
       "      <td>122.5741</td>\n",
       "      <td>40.3511</td>\n",
       "      <td>5.4911</td>\n",
       "      <td>111.5603</td>\n",
       "      <td>133.5878</td>\n",
       "    </tr>\n",
       "  </tbody>\n",
       "</table>\n",
       "</div>"
      ],
      "text/plain": [
       "         N      Mean       SD      SE  95% Conf.  Interval\n",
       "gender                                                    \n",
       "f       35  122.7714  34.2955  5.7970   110.9905  134.5523\n",
       "m       54  122.5741  40.3511  5.4911   111.5603  133.5878"
      ]
     },
     "execution_count": 41,
     "metadata": {},
     "output_type": "execute_result"
    }
   ],
   "source": [
    "rp.summary_cont(score.groupby(['gender'])['total'])"
   ]
  },
  {
   "cell_type": "code",
   "execution_count": 43,
   "id": "f44d44ae",
   "metadata": {},
   "outputs": [
    {
     "name": "stdout",
     "output_type": "stream",
     "text": [
      "\n",
      "\n"
     ]
    },
    {
     "data": {
      "text/html": [
       "<div>\n",
       "<style scoped>\n",
       "    .dataframe tbody tr th:only-of-type {\n",
       "        vertical-align: middle;\n",
       "    }\n",
       "\n",
       "    .dataframe tbody tr th {\n",
       "        vertical-align: top;\n",
       "    }\n",
       "\n",
       "    .dataframe thead th {\n",
       "        text-align: right;\n",
       "    }\n",
       "</style>\n",
       "<table border=\"1\" class=\"dataframe\">\n",
       "  <thead>\n",
       "    <tr style=\"text-align: right;\">\n",
       "      <th></th>\n",
       "      <th>N</th>\n",
       "      <th>Mean</th>\n",
       "      <th>SD</th>\n",
       "      <th>SE</th>\n",
       "      <th>95% Conf.</th>\n",
       "      <th>Interval</th>\n",
       "    </tr>\n",
       "    <tr>\n",
       "      <th>gender</th>\n",
       "      <th></th>\n",
       "      <th></th>\n",
       "      <th></th>\n",
       "      <th></th>\n",
       "      <th></th>\n",
       "      <th></th>\n",
       "    </tr>\n",
       "  </thead>\n",
       "  <tbody>\n",
       "    <tr>\n",
       "      <th>f</th>\n",
       "      <td>35</td>\n",
       "      <td>122.7714</td>\n",
       "      <td>34.2955</td>\n",
       "      <td>5.7970</td>\n",
       "      <td>110.9905</td>\n",
       "      <td>134.5523</td>\n",
       "    </tr>\n",
       "    <tr>\n",
       "      <th>m</th>\n",
       "      <td>54</td>\n",
       "      <td>122.5741</td>\n",
       "      <td>40.3511</td>\n",
       "      <td>5.4911</td>\n",
       "      <td>111.5603</td>\n",
       "      <td>133.5878</td>\n",
       "    </tr>\n",
       "  </tbody>\n",
       "</table>\n",
       "</div>"
      ],
      "text/plain": [
       "         N      Mean       SD      SE  95% Conf.  Interval\n",
       "gender                                                    \n",
       "f       35  122.7714  34.2955  5.7970   110.9905  134.5523\n",
       "m       54  122.5741  40.3511  5.4911   111.5603  133.5878"
      ]
     },
     "execution_count": 43,
     "metadata": {},
     "output_type": "execute_result"
    }
   ],
   "source": [
    "a = rp.summary_cont(score.groupby(['gender'])['total'])\n",
    "a"
   ]
  },
  {
   "cell_type": "code",
   "execution_count": 44,
   "id": "4ed7abae",
   "metadata": {},
   "outputs": [
    {
     "data": {
      "text/plain": [
       "gender\n",
       "f    122.7714\n",
       "m    122.5741\n",
       "Name: Mean, dtype: float64"
      ]
     },
     "execution_count": 44,
     "metadata": {},
     "output_type": "execute_result"
    }
   ],
   "source": [
    "a['Mean']"
   ]
  },
  {
   "cell_type": "code",
   "execution_count": 47,
   "id": "b938e363",
   "metadata": {},
   "outputs": [],
   "source": [
    "import pandas as pd\n",
    "import stemgraphic"
   ]
  },
  {
   "cell_type": "code",
   "execution_count": 48,
   "id": "e2ee13e5",
   "metadata": {},
   "outputs": [],
   "source": [
    "score = pd.read_csv('../data/score.csv')\n",
    "score['total'] = score['midterm'] + score['final']"
   ]
  },
  {
   "cell_type": "code",
   "execution_count": 49,
   "id": "4b0328a4",
   "metadata": {},
   "outputs": [
    {
     "data": {
      "text/plain": [
       "(<Figure size 540x360 with 1 Axes>, <Axes:>)"
      ]
     },
     "execution_count": 49,
     "metadata": {},
     "output_type": "execute_result"
    },
    {
     "data": {
      "image/png": "[encoded data removed]",
      "text/plain": [
       "<Figure size 540x360 with 1 Axes>"
      ]
     },
     "metadata": {
      "needs_background": "light"
     },
     "output_type": "display_data"
    }
   ],
   "source": [
    "stemgraphic.stem_graphic(score.total, scale=10)"
   ]
  },
  {
   "cell_type": "code",
   "execution_count": 50,
   "id": "1a90f6b5",
   "metadata": {},
   "outputs": [],
   "source": [
    "# 3.2 상자그림"
   ]
  },
  {
   "cell_type": "code",
   "execution_count": 51,
   "id": "a6f0cf13",
   "metadata": {},
   "outputs": [],
   "source": [
    "import pandas as pd\n",
    "import seaborn as sns"
   ]
  },
  {
   "cell_type": "code",
   "execution_count": 52,
   "id": "2bd8cb46",
   "metadata": {},
   "outputs": [],
   "source": [
    "score = pd.read_csv('../data/score.csv')\n",
    "score['total'] = score['midterm'] + score['final']"
   ]
  },
  {
   "cell_type": "code",
   "execution_count": 53,
   "id": "36caff7d",
   "metadata": {},
   "outputs": [
    {
     "data": {
      "text/plain": [
       "<AxesSubplot:xlabel='total'>"
      ]
     },
     "execution_count": 53,
     "metadata": {},
     "output_type": "execute_result"
    },
    {
     "data": {
      "image/png": "[encoded data removed]",
      "text/plain": [
       "<Figure size 432x288 with 1 Axes>"
      ]
     },
     "metadata": {},
     "output_type": "display_data"
    }
   ],
   "source": [
    "sns.set(style='whitegrid')\n",
    "sns.boxplot(x='total', data=score)"
   ]
  },
  {
   "cell_type": "code",
   "execution_count": 54,
   "id": "b233a4a4",
   "metadata": {},
   "outputs": [
    {
     "data": {
      "text/plain": [
       "<AxesSubplot:ylabel='total'>"
      ]
     },
     "execution_count": 54,
     "metadata": {},
     "output_type": "execute_result"
    },
    {
     "data": {
      "image/png": "[encoded data removed]",
      "text/plain": [
       "<Figure size 432x288 with 1 Axes>"
      ]
     },
     "metadata": {},
     "output_type": "display_data"
    }
   ],
   "source": [
    "sns.boxplot(y='total', data=score)"
   ]
  },
  {
   "cell_type": "code",
   "execution_count": 61,
   "id": "3c74bc9b",
   "metadata": {},
   "outputs": [
    {
     "data": {
      "text/plain": [
       "<AxesSubplot:xlabel='gender', ylabel='total'>"
      ]
     },
     "execution_count": 61,
     "metadata": {},
     "output_type": "execute_result"
    },
    {
     "data": {
      "image/png": "[encoded data removed]",
      "text/plain": [
       "<Figure size 432x288 with 1 Axes>"
      ]
     },
     "metadata": {},
     "output_type": "display_data"
    }
   ],
   "source": [
    "sns.boxplot(x='gender', y='total', data=score)"
   ]
  },
  {
   "cell_type": "code",
   "execution_count": 62,
   "id": "3034ff9b",
   "metadata": {},
   "outputs": [],
   "source": [
    "# 3.3 히스토그램"
   ]
  },
  {
   "cell_type": "code",
   "execution_count": 64,
   "id": "c2908789",
   "metadata": {},
   "outputs": [],
   "source": [
    "import pandas as pd\n",
    "import seaborn as sns\n",
    "import matplotlib.pyplot as plt"
   ]
  },
  {
   "cell_type": "code",
   "execution_count": 65,
   "id": "9952313f",
   "metadata": {},
   "outputs": [],
   "source": [
    "score = pd.read_csv('../data/score.csv')\n",
    "score['total'] = score['midterm'] + score['final']"
   ]
  },
  {
   "cell_type": "code",
   "execution_count": 66,
   "id": "c7d65768",
   "metadata": {},
   "outputs": [
    {
     "data": {
      "text/plain": [
       "(array([ 3.,  7.,  6.,  6., 13., 11., 12., 16., 13.,  2.]),\n",
       " array([ 35. ,  50.8,  66.6,  82.4,  98.2, 114. , 129.8, 145.6, 161.4,\n",
       "        177.2, 193. ]),\n",
       " <BarContainer object of 10 artists>)"
      ]
     },
     "execution_count": 66,
     "metadata": {},
     "output_type": "execute_result"
    },
    {
     "data": {
      "image/png": "[encoded data removed]",
      "text/plain": [
       "<Figure size 432x288 with 1 Axes>"
      ]
     },
     "metadata": {},
     "output_type": "display_data"
    }
   ],
   "source": [
    "plt.hist(score.total)"
   ]
  },
  {
   "cell_type": "code",
   "execution_count": 67,
   "id": "3edc375f",
   "metadata": {},
   "outputs": [],
   "source": [
    "ftotal = score.loc[score.gender=='f','total']"
   ]
  },
  {
   "cell_type": "code",
   "execution_count": 68,
   "id": "e478809e",
   "metadata": {},
   "outputs": [],
   "source": [
    "mtotal = score.loc[score.gender=='m','total']"
   ]
  },
  {
   "cell_type": "code",
   "execution_count": 71,
   "id": "5f4f533c",
   "metadata": {},
   "outputs": [
    {
     "data": {
      "text/plain": [
       "{'alpha': 0.5, 'bins': 10}"
      ]
     },
     "execution_count": 71,
     "metadata": {},
     "output_type": "execute_result"
    }
   ],
   "source": [
    "args = dict(alpha=0.5, bins=10)\n",
    "args"
   ]
  },
  {
   "cell_type": "code",
   "execution_count": 74,
   "id": "4327f601",
   "metadata": {},
   "outputs": [
    {
     "data": {
      "image/png": "[encoded data removed]",
      "text/plain": [
       "<Figure size 432x288 with 1 Axes>"
      ]
     },
     "metadata": {},
     "output_type": "display_data"
    }
   ],
   "source": [
    "plt.hist(ftotal, **args, color='b', label='female')\n",
    "plt.hist(mtotal, **args, color='r', label='male')\n",
    "plt.gca().set(title='Frequency Histogram of Score.total', ylabel='Frequency')\n",
    "plt.legend()\n",
    "plt.show()"
   ]
  },
  {
   "cell_type": "code",
   "execution_count": 1,
   "id": "93112bf3",
   "metadata": {},
   "outputs": [],
   "source": [
    "# 4.1 빈도표 및 분할표(1)"
   ]
  },
  {
   "cell_type": "code",
   "execution_count": 2,
   "id": "fc5673c5",
   "metadata": {},
   "outputs": [],
   "source": [
    "import pandas as pd\n",
    "import numpy as np\n",
    "import matplotlib.pyplot as plt"
   ]
  },
  {
   "cell_type": "code",
   "execution_count": 3,
   "id": "653f2544",
   "metadata": {},
   "outputs": [],
   "source": [
    "enqete = pd.read_csv('../data/enqete.csv')"
   ]
  },
  {
   "cell_type": "code",
   "execution_count": 4,
   "id": "4c4fc306",
   "metadata": {},
   "outputs": [
    {
     "data": {
      "text/html": [
       "<div>\n",
       "<style scoped>\n",
       "    .dataframe tbody tr th:only-of-type {\n",
       "        vertical-align: middle;\n",
       "    }\n",
       "\n",
       "    .dataframe tbody tr th {\n",
       "        vertical-align: top;\n",
       "    }\n",
       "\n",
       "    .dataframe thead th {\n",
       "        text-align: right;\n",
       "    }\n",
       "</style>\n",
       "<table border=\"1\" class=\"dataframe\">\n",
       "  <thead>\n",
       "    <tr style=\"text-align: right;\">\n",
       "      <th></th>\n",
       "      <th>college</th>\n",
       "      <th>grade</th>\n",
       "      <th>q1</th>\n",
       "      <th>q2</th>\n",
       "    </tr>\n",
       "  </thead>\n",
       "  <tbody>\n",
       "    <tr>\n",
       "      <th>0</th>\n",
       "      <td>med</td>\n",
       "      <td>1</td>\n",
       "      <td>1.0</td>\n",
       "      <td>1</td>\n",
       "    </tr>\n",
       "    <tr>\n",
       "      <th>1</th>\n",
       "      <td>med</td>\n",
       "      <td>1</td>\n",
       "      <td>1.0</td>\n",
       "      <td>1</td>\n",
       "    </tr>\n",
       "    <tr>\n",
       "      <th>2</th>\n",
       "      <td>med</td>\n",
       "      <td>1</td>\n",
       "      <td>1.0</td>\n",
       "      <td>1</td>\n",
       "    </tr>\n",
       "    <tr>\n",
       "      <th>3</th>\n",
       "      <td>med</td>\n",
       "      <td>2</td>\n",
       "      <td>1.0</td>\n",
       "      <td>2</td>\n",
       "    </tr>\n",
       "    <tr>\n",
       "      <th>4</th>\n",
       "      <td>med</td>\n",
       "      <td>2</td>\n",
       "      <td>2.0</td>\n",
       "      <td>1</td>\n",
       "    </tr>\n",
       "  </tbody>\n",
       "</table>\n",
       "</div>"
      ],
      "text/plain": [
       "  college  grade   q1  q2\n",
       "0     med      1  1.0   1\n",
       "1     med      1  1.0   1\n",
       "2     med      1  1.0   1\n",
       "3     med      2  1.0   2\n",
       "4     med      2  2.0   1"
      ]
     },
     "execution_count": 4,
     "metadata": {},
     "output_type": "execute_result"
    }
   ],
   "source": [
    "enqete.head()"
   ]
  },
  {
   "cell_type": "code",
   "execution_count": 5,
   "id": "98a1a4b5",
   "metadata": {},
   "outputs": [],
   "source": [
    "enqete_table = pd.crosstab(index=enqete['grade'], colnames=['Grade'], columns='count')"
   ]
  },
  {
   "cell_type": "code",
   "execution_count": 6,
   "id": "0cbc04a6",
   "metadata": {},
   "outputs": [
    {
     "data": {
      "text/html": [
       "<div>\n",
       "<style scoped>\n",
       "    .dataframe tbody tr th:only-of-type {\n",
       "        vertical-align: middle;\n",
       "    }\n",
       "\n",
       "    .dataframe tbody tr th {\n",
       "        vertical-align: top;\n",
       "    }\n",
       "\n",
       "    .dataframe thead th {\n",
       "        text-align: right;\n",
       "    }\n",
       "</style>\n",
       "<table border=\"1\" class=\"dataframe\">\n",
       "  <thead>\n",
       "    <tr style=\"text-align: right;\">\n",
       "      <th>Grade</th>\n",
       "      <th>count</th>\n",
       "    </tr>\n",
       "    <tr>\n",
       "      <th>grade</th>\n",
       "      <th></th>\n",
       "    </tr>\n",
       "  </thead>\n",
       "  <tbody>\n",
       "    <tr>\n",
       "      <th>1</th>\n",
       "      <td>103</td>\n",
       "    </tr>\n",
       "    <tr>\n",
       "      <th>2</th>\n",
       "      <td>103</td>\n",
       "    </tr>\n",
       "    <tr>\n",
       "      <th>3</th>\n",
       "      <td>100</td>\n",
       "    </tr>\n",
       "    <tr>\n",
       "      <th>4</th>\n",
       "      <td>94</td>\n",
       "    </tr>\n",
       "  </tbody>\n",
       "</table>\n",
       "</div>"
      ],
      "text/plain": [
       "Grade  count\n",
       "grade       \n",
       "1        103\n",
       "2        103\n",
       "3        100\n",
       "4         94"
      ]
     },
     "execution_count": 6,
     "metadata": {},
     "output_type": "execute_result"
    }
   ],
   "source": [
    "enqete_table"
   ]
  },
  {
   "cell_type": "code",
   "execution_count": 7,
   "id": "6ea74a4b",
   "metadata": {},
   "outputs": [],
   "source": [
    "enqete_table.index = ['1학년', '2학년', '3학년', '4학년']"
   ]
  },
  {
   "cell_type": "code",
   "execution_count": 8,
   "id": "2467f84c",
   "metadata": {},
   "outputs": [
    {
     "data": {
      "text/html": [
       "<div>\n",
       "<style scoped>\n",
       "    .dataframe tbody tr th:only-of-type {\n",
       "        vertical-align: middle;\n",
       "    }\n",
       "\n",
       "    .dataframe tbody tr th {\n",
       "        vertical-align: top;\n",
       "    }\n",
       "\n",
       "    .dataframe thead th {\n",
       "        text-align: right;\n",
       "    }\n",
       "</style>\n",
       "<table border=\"1\" class=\"dataframe\">\n",
       "  <thead>\n",
       "    <tr style=\"text-align: right;\">\n",
       "      <th>Grade</th>\n",
       "      <th>count</th>\n",
       "    </tr>\n",
       "  </thead>\n",
       "  <tbody>\n",
       "    <tr>\n",
       "      <th>1학년</th>\n",
       "      <td>103</td>\n",
       "    </tr>\n",
       "    <tr>\n",
       "      <th>2학년</th>\n",
       "      <td>103</td>\n",
       "    </tr>\n",
       "    <tr>\n",
       "      <th>3학년</th>\n",
       "      <td>100</td>\n",
       "    </tr>\n",
       "    <tr>\n",
       "      <th>4학년</th>\n",
       "      <td>94</td>\n",
       "    </tr>\n",
       "  </tbody>\n",
       "</table>\n",
       "</div>"
      ],
      "text/plain": [
       "Grade  count\n",
       "1학년      103\n",
       "2학년      103\n",
       "3학년      100\n",
       "4학년       94"
      ]
     },
     "execution_count": 8,
     "metadata": {},
     "output_type": "execute_result"
    }
   ],
   "source": [
    "enqete_table"
   ]
  },
  {
   "cell_type": "code",
   "execution_count": 13,
   "id": "42857242",
   "metadata": {},
   "outputs": [],
   "source": [
    "import pandas as pd\n",
    "import numpy as np"
   ]
  },
  {
   "cell_type": "code",
   "execution_count": 14,
   "id": "89fe1f59",
   "metadata": {},
   "outputs": [
    {
     "data": {
      "text/html": [
       "<div>\n",
       "<style scoped>\n",
       "    .dataframe tbody tr th:only-of-type {\n",
       "        vertical-align: middle;\n",
       "    }\n",
       "\n",
       "    .dataframe tbody tr th {\n",
       "        vertical-align: top;\n",
       "    }\n",
       "\n",
       "    .dataframe thead th {\n",
       "        text-align: right;\n",
       "    }\n",
       "</style>\n",
       "<table border=\"1\" class=\"dataframe\">\n",
       "  <thead>\n",
       "    <tr style=\"text-align: right;\">\n",
       "      <th>q1</th>\n",
       "      <th>0.0</th>\n",
       "      <th>1.0</th>\n",
       "      <th>2.0</th>\n",
       "    </tr>\n",
       "  </thead>\n",
       "  <tbody>\n",
       "    <tr>\n",
       "      <th>1학년</th>\n",
       "      <td>0</td>\n",
       "      <td>80</td>\n",
       "      <td>23</td>\n",
       "    </tr>\n",
       "    <tr>\n",
       "      <th>2학년</th>\n",
       "      <td>0</td>\n",
       "      <td>66</td>\n",
       "      <td>37</td>\n",
       "    </tr>\n",
       "    <tr>\n",
       "      <th>3학년</th>\n",
       "      <td>0</td>\n",
       "      <td>55</td>\n",
       "      <td>44</td>\n",
       "    </tr>\n",
       "    <tr>\n",
       "      <th>4학년</th>\n",
       "      <td>1</td>\n",
       "      <td>55</td>\n",
       "      <td>38</td>\n",
       "    </tr>\n",
       "  </tbody>\n",
       "</table>\n",
       "</div>"
      ],
      "text/plain": [
       "q1   0.0  1.0  2.0\n",
       "1학년    0   80   23\n",
       "2학년    0   66   37\n",
       "3학년    0   55   44\n",
       "4학년    1   55   38"
      ]
     },
     "execution_count": 14,
     "metadata": {},
     "output_type": "execute_result"
    }
   ],
   "source": [
    "grade_q1 = pd.crosstab(index=enqete['grade'], columns=enqete['q1'])\n",
    "grade_q1.index = ['1학년', '2학년', '3학년', '4학년']\n",
    "grade_q1"
   ]
  },
  {
   "cell_type": "code",
   "execution_count": 16,
   "id": "165a2834",
   "metadata": {},
   "outputs": [
    {
     "data": {
      "text/html": [
       "<div>\n",
       "<style scoped>\n",
       "    .dataframe tbody tr th:only-of-type {\n",
       "        vertical-align: middle;\n",
       "    }\n",
       "\n",
       "    .dataframe tbody tr th {\n",
       "        vertical-align: top;\n",
       "    }\n",
       "\n",
       "    .dataframe thead th {\n",
       "        text-align: right;\n",
       "    }\n",
       "</style>\n",
       "<table border=\"1\" class=\"dataframe\">\n",
       "  <thead>\n",
       "    <tr style=\"text-align: right;\">\n",
       "      <th>q1</th>\n",
       "      <th>1.0</th>\n",
       "      <th>2.0</th>\n",
       "    </tr>\n",
       "  </thead>\n",
       "  <tbody>\n",
       "    <tr>\n",
       "      <th>1학년</th>\n",
       "      <td>80</td>\n",
       "      <td>23</td>\n",
       "    </tr>\n",
       "    <tr>\n",
       "      <th>2학년</th>\n",
       "      <td>66</td>\n",
       "      <td>37</td>\n",
       "    </tr>\n",
       "    <tr>\n",
       "      <th>3학년</th>\n",
       "      <td>55</td>\n",
       "      <td>44</td>\n",
       "    </tr>\n",
       "    <tr>\n",
       "      <th>4학년</th>\n",
       "      <td>55</td>\n",
       "      <td>38</td>\n",
       "    </tr>\n",
       "  </tbody>\n",
       "</table>\n",
       "</div>"
      ],
      "text/plain": [
       "q1   1.0  2.0\n",
       "1학년   80   23\n",
       "2학년   66   37\n",
       "3학년   55   44\n",
       "4학년   55   38"
      ]
     },
     "execution_count": 16,
     "metadata": {},
     "output_type": "execute_result"
    }
   ],
   "source": [
    "enqete['q1'] = enqete['q1'].replace(0, np.NaN)\n",
    "grade_q1 = pd.crosstab(index=enqete['grade'], columns=enqete['q1'])\n",
    "grade_q1.index = ['1학년', '2학년', '3학년', '4학년']\n",
    "grade_q1"
   ]
  },
  {
   "cell_type": "code",
   "execution_count": 18,
   "id": "d0142d48",
   "metadata": {},
   "outputs": [],
   "source": [
    "from scipy.stats import chi2_contingency"
   ]
  },
  {
   "cell_type": "code",
   "execution_count": 19,
   "id": "e4b019c1",
   "metadata": {},
   "outputs": [
    {
     "data": {
      "text/plain": [
       "(12.402787258488466,\n",
       " 0.0061233649734963305,\n",
       " 3,\n",
       " array([[66.25125628, 36.74874372],\n",
       "        [66.25125628, 36.74874372],\n",
       "        [63.67839196, 35.32160804],\n",
       "        [59.81909548, 33.18090452]]))"
      ]
     },
     "execution_count": 19,
     "metadata": {},
     "output_type": "execute_result"
    }
   ],
   "source": [
    "chi2_contingency(grade_q1)"
   ]
  },
  {
   "cell_type": "code",
   "execution_count": 21,
   "id": "275442d9",
   "metadata": {},
   "outputs": [],
   "source": [
    "import pandas as pd\n",
    "import matplotlib.pyplot as plt"
   ]
  },
  {
   "cell_type": "code",
   "execution_count": 22,
   "id": "4400a208",
   "metadata": {},
   "outputs": [],
   "source": [
    "enqete = pd.read_csv('../data/enqete.csv')\n",
    "enqete_table = pd.crosstab(index=enqete['grade'], colnames=['Grade'], columns='count')"
   ]
  },
  {
   "cell_type": "code",
   "execution_count": 24,
   "id": "03997221",
   "metadata": {},
   "outputs": [
    {
     "data": {
      "text/plain": [
       "<BarContainer object of 4 artists>"
      ]
     },
     "execution_count": 24,
     "metadata": {},
     "output_type": "execute_result"
    },
    {
     "data": {
      "image/png": "[encoded data removed]",
      "text/plain": [
       "<Figure size 432x288 with 1 Axes>"
      ]
     },
     "metadata": {
      "needs_background": "light"
     },
     "output_type": "display_data"
    }
   ],
   "source": [
    "enqete_table.index = ['Gr1','Gr2','Gr3','Gr4']\n",
    "plt.bar(enqete_table.index, enqete_table['count'])"
   ]
  },
  {
   "cell_type": "code",
   "execution_count": 29,
   "id": "854b0842",
   "metadata": {},
   "outputs": [
    {
     "data": {
      "text/plain": [
       "([<matplotlib.patches.Wedge at 0x135e42220>,\n",
       "  <matplotlib.patches.Wedge at 0x135e429d0>,\n",
       "  <matplotlib.patches.Wedge at 0x135e50160>,\n",
       "  <matplotlib.patches.Wedge at 0x135e508b0>],\n",
       " [Text(-0.795926740046034, 0.7592763821426907, 'Gr1'),\n",
       "  Text(-0.7209402440089245, -0.83080994491421, 'Gr2'),\n",
       "  Text(0.8475645040313471, -0.7011664649040888, 'Gr3'),\n",
       "  Text(0.7403138395114514, 0.8135941365495534, 'Gr4')])"
      ]
     },
     "execution_count": 29,
     "metadata": {},
     "output_type": "execute_result"
    },
    {
     "data": {
      "image/png": "[encoded data removed]",
      "text/plain": [
       "<Figure size 432x288 with 1 Axes>"
      ]
     },
     "metadata": {},
     "output_type": "display_data"
    }
   ],
   "source": [
    "plt.pie(enqete_table['count'], labels=enqete_table.index, shadow=True, startangle=90)"
   ]
  },
  {
   "cell_type": "code",
   "execution_count": 30,
   "id": "bd5e485f",
   "metadata": {},
   "outputs": [
    {
     "data": {
      "text/plain": [
       "<matplotlib.legend.Legend at 0x108cdde20>"
      ]
     },
     "execution_count": 30,
     "metadata": {},
     "output_type": "execute_result"
    },
    {
     "data": {
      "image/png": "[encoded data removed]",
      "text/plain": [
       "<Figure size 432x288 with 1 Axes>"
      ]
     },
     "metadata": {
      "needs_background": "light"
     },
     "output_type": "display_data"
    }
   ],
   "source": [
    "grade_q1.index=['Gr1', 'Gr2', 'Gr3', 'Gr4']\n",
    "grade_q1.plot.bar(stacked=True)\n",
    "plt.legend(title='Question1')"
   ]
  },
  {
   "cell_type": "code",
   "execution_count": null,
   "id": "ebef08a6",
   "metadata": {},
   "outputs": [],
   "source": []
  }
 ],
 "metadata": {
  "kernelspec": {
   "display_name": "Python 3 (ipykernel)",
   "language": "python",
   "name": "python3"
  },
  "language_info": {
   "codemirror_mode": {
    "name": "ipython",
    "version": 3
   },
   "file_extension": ".py",
   "mimetype": "text/x-python",
   "name": "python",
   "nbconvert_exporter": "python",
   "pygments_lexer": "ipython3",
   "version": "3.9.6"
  }
 },
 "nbformat": 4,
 "nbformat_minor": 5
}
