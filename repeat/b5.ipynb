{
 "cells": [
  {
   "cell_type": "code",
   "execution_count": 1,
   "id": "7d0153fc",
   "metadata": {},
   "outputs": [],
   "source": [
    "# 1.2 파이썬 명령어 줄 입력"
   ]
  },
  {
   "cell_type": "code",
   "execution_count": 6,
   "id": "e33f7df6",
   "metadata": {},
   "outputs": [],
   "source": [
    "import datetime\n",
    "def birthyear():\n",
    "    age = input('Enter age:')\n",
    "    now = datetime.datetime.now()\n",
    "    curyear = now.year\n",
    "    b_year = curyear - int(age)\n",
    "    print('born.year= ', b_year)"
   ]
  },
  {
   "cell_type": "code",
   "execution_count": 7,
   "id": "3655b3f2",
   "metadata": {},
   "outputs": [
    {
     "name": "stdout",
     "output_type": "stream",
     "text": [
      "Enter age:50\n",
      "born.year=  1971\n"
     ]
    }
   ],
   "source": [
    "birthyear()"
   ]
  },
  {
   "cell_type": "code",
   "execution_count": 8,
   "id": "296a9a2f",
   "metadata": {},
   "outputs": [],
   "source": [
    "# 5.2 파이썬에서 문자열 합치기와 분리하기, 문자 개수"
   ]
  },
  {
   "cell_type": "code",
   "execution_count": 10,
   "id": "86f1c4ad",
   "metadata": {},
   "outputs": [
    {
     "name": "stdout",
     "output_type": "stream",
     "text": [
      "3\n"
     ]
    }
   ],
   "source": [
    "a = 'abc'\n",
    "print(len(a))"
   ]
  },
  {
   "cell_type": "code",
   "execution_count": 11,
   "id": "1529ba44",
   "metadata": {},
   "outputs": [
    {
     "data": {
      "text/plain": [
       "'b'"
      ]
     },
     "execution_count": 11,
     "metadata": {},
     "output_type": "execute_result"
    }
   ],
   "source": [
    "a[1]"
   ]
  },
  {
   "cell_type": "code",
   "execution_count": 12,
   "id": "af858a45",
   "metadata": {},
   "outputs": [],
   "source": [
    "x, y, z = a"
   ]
  },
  {
   "cell_type": "code",
   "execution_count": 13,
   "id": "3d783ae5",
   "metadata": {},
   "outputs": [
    {
     "data": {
      "text/plain": [
       "'a'"
      ]
     },
     "execution_count": 13,
     "metadata": {},
     "output_type": "execute_result"
    }
   ],
   "source": [
    "x"
   ]
  },
  {
   "cell_type": "code",
   "execution_count": 14,
   "id": "297aa6e5",
   "metadata": {},
   "outputs": [
    {
     "name": "stdout",
     "output_type": "stream",
     "text": [
      "['A', 'test', 'string'] ['A test str', 'ng']\n"
     ]
    }
   ],
   "source": [
    "bb = 'A test string'\n",
    "blist0 = bb.split()\n",
    "blist1 = bb.split('i')\n",
    "print(blist0, blist1)"
   ]
  },
  {
   "cell_type": "code",
   "execution_count": 15,
   "id": "7f15d793",
   "metadata": {},
   "outputs": [],
   "source": [
    "aa = a + 'ABC'\n",
    "aaa = a * 3"
   ]
  },
  {
   "cell_type": "code",
   "execution_count": 16,
   "id": "c796972e",
   "metadata": {},
   "outputs": [
    {
     "data": {
      "text/plain": [
       "'abcABC'"
      ]
     },
     "execution_count": 16,
     "metadata": {},
     "output_type": "execute_result"
    }
   ],
   "source": [
    "aa"
   ]
  },
  {
   "cell_type": "code",
   "execution_count": 17,
   "id": "3df78842",
   "metadata": {},
   "outputs": [
    {
     "data": {
      "text/plain": [
       "'abcabcabc'"
      ]
     },
     "execution_count": 17,
     "metadata": {},
     "output_type": "execute_result"
    }
   ],
   "source": [
    "aaa"
   ]
  },
  {
   "cell_type": "code",
   "execution_count": 18,
   "id": "d078ac6e",
   "metadata": {},
   "outputs": [
    {
     "data": {
      "text/plain": [
       "(3, 0, 8, 'ABcdeABcAB')"
      ]
     },
     "execution_count": 18,
     "metadata": {},
     "output_type": "execute_result"
    }
   ],
   "source": [
    "mystr = 'abcdeabcab'\n",
    "n0 = mystr.count('ab')\n",
    "n1 = mystr.find('ab')\n",
    "n2 = mystr.rfind('ab')\n",
    "newstr = mystr.replace('ab','AB')\n",
    "n0, n1, n2, newstr"
   ]
  },
  {
   "cell_type": "code",
   "execution_count": 19,
   "id": "137f3d24",
   "metadata": {},
   "outputs": [],
   "source": [
    "##########\n",
    "# 워크북\n",
    "##########"
   ]
  },
  {
   "cell_type": "code",
   "execution_count": 22,
   "id": "627ab733",
   "metadata": {},
   "outputs": [
    {
     "data": {
      "text/plain": [
       "'abcabcabc'"
      ]
     },
     "execution_count": 22,
     "metadata": {},
     "output_type": "execute_result"
    }
   ],
   "source": [
    "# 10. 파이썬에서 다음을 수행한 결과는?\n",
    "a = 'abc'\n",
    "aaa = a*3\n",
    "aaa"
   ]
  },
  {
   "cell_type": "code",
   "execution_count": null,
   "id": "cff2d7bf",
   "metadata": {},
   "outputs": [],
   "source": []
  }
 ],
 "metadata": {
  "kernelspec": {
   "display_name": "Python 3 (ipykernel)",
   "language": "python",
   "name": "python3"
  },
  "language_info": {
   "codemirror_mode": {
    "name": "ipython",
    "version": 3
   },
   "file_extension": ".py",
   "mimetype": "text/x-python",
   "name": "python",
   "nbconvert_exporter": "python",
   "pygments_lexer": "ipython3",
   "version": "3.9.6"
  }
 },
 "nbformat": 4,
 "nbformat_minor": 5
}
