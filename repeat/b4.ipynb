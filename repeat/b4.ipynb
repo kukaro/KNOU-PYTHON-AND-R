{
 "cells": [
  {
   "cell_type": "code",
   "execution_count": 1,
   "id": "f6c8c22b",
   "metadata": {},
   "outputs": [],
   "source": [
    "# 5.2 파이썬에서의 클래스의 정의와 활용"
   ]
  },
  {
   "cell_type": "code",
   "execution_count": 2,
   "id": "05c3e2fb",
   "metadata": {},
   "outputs": [],
   "source": [
    "class Student:\n",
    "    def __init__(self, first, last):\n",
    "        self.first = first\n",
    "        self.last = last\n",
    "        \n",
    "    def capital_first(self):\n",
    "        return self.first.upper()"
   ]
  },
  {
   "cell_type": "code",
   "execution_count": 3,
   "id": "aa286e28",
   "metadata": {},
   "outputs": [],
   "source": [
    "class StudentGrade(Student):\n",
    "    def __init__(self, first, last, score):\n",
    "        super().__init__(first,last)\n",
    "        self.score = score\n",
    "    \n",
    "    def grade(self):\n",
    "        if self.score < 80:\n",
    "            grade = 'B'\n",
    "        else:\n",
    "            grade = 'A'\n",
    "        return grade"
   ]
  },
  {
   "cell_type": "code",
   "execution_count": 4,
   "id": "8232ad9d",
   "metadata": {},
   "outputs": [],
   "source": [
    "aa = StudentGrade('John', 'Doe', 75)\n",
    "bb = StudentGrade('Jane', 'Doe', 95)"
   ]
  },
  {
   "cell_type": "code",
   "execution_count": 5,
   "id": "cd6ab291",
   "metadata": {},
   "outputs": [
    {
     "data": {
      "text/plain": [
       "('John', 'Doe')"
      ]
     },
     "execution_count": 5,
     "metadata": {},
     "output_type": "execute_result"
    }
   ],
   "source": [
    "aa.first, aa.last"
   ]
  },
  {
   "cell_type": "code",
   "execution_count": 8,
   "id": "a0bb1e82",
   "metadata": {},
   "outputs": [],
   "source": [
    "b = aa.first, aa.last"
   ]
  },
  {
   "cell_type": "code",
   "execution_count": 9,
   "id": "95f3e77d",
   "metadata": {},
   "outputs": [
    {
     "data": {
      "text/plain": [
       "tuple"
      ]
     },
     "execution_count": 9,
     "metadata": {},
     "output_type": "execute_result"
    }
   ],
   "source": [
    "type(b)"
   ]
  },
  {
   "cell_type": "code",
   "execution_count": 10,
   "id": "db287d30",
   "metadata": {},
   "outputs": [
    {
     "data": {
      "text/plain": [
       "(75, 'B')"
      ]
     },
     "execution_count": 10,
     "metadata": {},
     "output_type": "execute_result"
    }
   ],
   "source": [
    "aa.score, aa.grade()"
   ]
  },
  {
   "cell_type": "code",
   "execution_count": 11,
   "id": "05b8d759",
   "metadata": {},
   "outputs": [
    {
     "data": {
      "text/plain": [
       "(95, 'A')"
      ]
     },
     "execution_count": 11,
     "metadata": {},
     "output_type": "execute_result"
    }
   ],
   "source": [
    "bb.score, bb.grade()"
   ]
  },
  {
   "cell_type": "code",
   "execution_count": 12,
   "id": "48f87d82",
   "metadata": {},
   "outputs": [
    {
     "data": {
      "text/plain": [
       "'JANE'"
      ]
     },
     "execution_count": 12,
     "metadata": {},
     "output_type": "execute_result"
    }
   ],
   "source": [
    "bb.capital_first()"
   ]
  },
  {
   "cell_type": "code",
   "execution_count": 13,
   "id": "09531dfe",
   "metadata": {},
   "outputs": [],
   "source": [
    "##########\n",
    "# 워크북\n",
    "##########"
   ]
  },
  {
   "cell_type": "code",
   "execution_count": 15,
   "id": "6222fd74",
   "metadata": {},
   "outputs": [],
   "source": [
    "# 2. 다음 파이썬 프로그램에서 ( ) 안에 들어갈 코드는?\n",
    "def if_test(x):\n",
    "    if(x%2==0):\n",
    "        print('x는 짝수입니다')\n",
    "    elif(x%2==1):\n",
    "#   ( ) (x%2==1):\n",
    "        print('x는 홀수입니다')\n",
    "    else:\n",
    "        print('x는 자연수가 아닙니다.')"
   ]
  },
  {
   "cell_type": "code",
   "execution_count": null,
   "id": "3e9044c0",
   "metadata": {},
   "outputs": [],
   "source": []
  }
 ],
 "metadata": {
  "kernelspec": {
   "display_name": "Python 3 (ipykernel)",
   "language": "python",
   "name": "python3"
  },
  "language_info": {
   "codemirror_mode": {
    "name": "ipython",
    "version": 3
   },
   "file_extension": ".py",
   "mimetype": "text/x-python",
   "name": "python",
   "nbconvert_exporter": "python",
   "pygments_lexer": "ipython3",
   "version": "3.9.6"
  }
 },
 "nbformat": 4,
 "nbformat_minor": 5
}
