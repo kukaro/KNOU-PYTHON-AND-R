{
 "cells": [
  {
   "cell_type": "code",
   "execution_count": 4,
   "id": "45f7b3ac",
   "metadata": {},
   "outputs": [
    {
     "name": "stdout",
     "output_type": "stream",
     "text": [
      "1234\n"
     ]
    },
    {
     "data": {
      "text/html": [
       "'1234'"
      ],
      "text/latex": [
       "'1234'"
      ],
      "text/markdown": [
       "'1234'"
      ],
      "text/plain": [
       "[1] \"1234\""
      ]
     },
     "metadata": {},
     "output_type": "display_data"
    }
   ],
   "source": [
    "# 1.1 R 명령어 줄 입력\n",
    "a <- readline(prompt=\"\")\n",
    "a"
   ]
  },
  {
   "cell_type": "code",
   "execution_count": 6,
   "id": "e49963c9",
   "metadata": {},
   "outputs": [
    {
     "name": "stdout",
     "output_type": "stream",
     "text": [
      "Enter age: 50\n"
     ]
    },
    {
     "data": {
      "text/html": [
       "<strong>$born.year</strong> = 1971"
      ],
      "text/latex": [
       "\\textbf{\\$born.year} = 1971"
      ],
      "text/markdown": [
       "**$born.year** = 1971"
      ],
      "text/plain": [
       "$born.year\n",
       "[1] 1971\n"
      ]
     },
     "metadata": {},
     "output_type": "display_data"
    }
   ],
   "source": [
    "birthyear <- function(){\n",
    "    age = readline(prompt=\"Enter age: \")\n",
    "    curyear = as.numeric(format(Sys.Date(), \"%Y\"))\n",
    "    b.year = curyear - as.numeric(age)\n",
    "    list(born.year=b.year)\n",
    "}\n",
    "birthyear()"
   ]
  },
  {
   "cell_type": "code",
   "execution_count": 10,
   "id": "da9050a6",
   "metadata": {},
   "outputs": [],
   "source": [
    "# read.table은 텍스트 파일을 읽어온다\n",
    "# myiris <- read.table(location, header=T)"
   ]
  },
  {
   "cell_type": "code",
   "execution_count": 13,
   "id": "c6d26d08",
   "metadata": {},
   "outputs": [
    {
     "name": "stdout",
     "output_type": "stream",
     "text": [
      "\"mpg\" \"cyl\" \"disp\" \"hp\" \"drat\" \"wt\" \"qsec\" \"vs\" \"am\" \"gear\" \"carb\"\n",
      "\"Mazda RX4\" 21 6 160 110 3.9 2.62 16.46 0 1 4 4\n",
      "\"Mazda RX4 Wag\" 21 6 160 110 3.9 2.875 17.02 0 1 4 4\n",
      "\"Datsun 710\" 22.8 4 108 93 3.85 2.32 18.61 1 1 4 1\n",
      "\"Hornet 4 Drive\" 21.4 6 258 110 3.08 3.215 19.44 1 0 3 1\n",
      "\"Hornet Sportabout\" 18.7 8 360 175 3.15 3.44 17.02 0 0 3 2\n",
      "\"Valiant\" 18.1 6 225 105 2.76 3.46 20.22 1 0 3 1\n",
      "\"Duster 360\" 14.3 8 360 245 3.21 3.57 15.84 0 0 3 4\n",
      "\"Merc 240D\" 24.4 4 146.7 62 3.69 3.19 20 1 0 4 2\n",
      "\"Merc 230\" 22.8 4 140.8 95 3.92 3.15 22.9 1 0 4 2\n",
      "\"Merc 280\" 19.2 6 167.6 123 3.92 3.44 18.3 1 0 4 4\n",
      "\"Merc 280C\" 17.8 6 167.6 123 3.92 3.44 18.9 1 0 4 4\n",
      "\"Merc 450SE\" 16.4 8 275.8 180 3.07 4.07 17.4 0 0 3 3\n",
      "\"Merc 450SL\" 17.3 8 275.8 180 3.07 3.73 17.6 0 0 3 3\n",
      "\"Merc 450SLC\" 15.2 8 275.8 180 3.07 3.78 18 0 0 3 3\n",
      "\"Cadillac Fleetwood\" 10.4 8 472 205 2.93 5.25 17.98 0 0 3 4\n",
      "\"Lincoln Continental\" 10.4 8 460 215 3 5.424 17.82 0 0 3 4\n",
      "\"Chrysler Imperial\" 14.7 8 440 230 3.23 5.345 17.42 0 0 3 4\n",
      "\"Fiat 128\" 32.4 4 78.7 66 4.08 2.2 19.47 1 1 4 1\n",
      "\"Honda Civic\" 30.4 4 75.7 52 4.93 1.615 18.52 1 1 4 2\n",
      "\"Toyota Corolla\" 33.9 4 71.1 65 4.22 1.835 19.9 1 1 4 1\n",
      "\"Toyota Corona\" 21.5 4 120.1 97 3.7 2.465 20.01 1 0 3 1\n",
      "\"Dodge Challenger\" 15.5 8 318 150 2.76 3.52 16.87 0 0 3 2\n",
      "\"AMC Javelin\" 15.2 8 304 150 3.15 3.435 17.3 0 0 3 2\n",
      "\"Camaro Z28\" 13.3 8 350 245 3.73 3.84 15.41 0 0 3 4\n",
      "\"Pontiac Firebird\" 19.2 8 400 175 3.08 3.845 17.05 0 0 3 2\n",
      "\"Fiat X1-9\" 27.3 4 79 66 4.08 1.935 18.9 1 1 4 1\n",
      "\"Porsche 914-2\" 26 4 120.3 91 4.43 2.14 16.7 0 1 5 2\n",
      "\"Lotus Europa\" 30.4 4 95.1 113 3.77 1.513 16.9 1 1 5 2\n",
      "\"Ford Pantera L\" 15.8 8 351 264 4.22 3.17 14.5 0 1 5 4\n",
      "\"Ferrari Dino\" 19.7 6 145 175 3.62 2.77 15.5 0 1 5 6\n",
      "\"Maserati Bora\" 15 8 301 335 3.54 3.57 14.6 0 1 5 8\n",
      "\"Volvo 142E\" 21.4 4 121 109 4.11 2.78 18.6 1 1 4 2\n"
     ]
    }
   ],
   "source": [
    "# 3.1 R에서 텍스트 파일 쓰기\n",
    "write.table(mtcars, \"\")"
   ]
  },
  {
   "cell_type": "code",
   "execution_count": 14,
   "id": "ae38b41b",
   "metadata": {},
   "outputs": [
    {
     "name": "stdout",
     "output_type": "stream",
     "text": [
      "mpg cyl disp hp drat wt qsec vs am gear carb\n",
      "21 6 160 110 3.9 2.62 16.46 0 1 4 4\n",
      "21 6 160 110 3.9 2.875 17.02 0 1 4 4\n",
      "22.8 4 108 93 3.85 2.32 18.61 1 1 4 1\n",
      "21.4 6 258 110 3.08 3.215 19.44 1 0 3 1\n",
      "18.7 8 360 175 3.15 3.44 17.02 0 0 3 2\n",
      "18.1 6 225 105 2.76 3.46 20.22 1 0 3 1\n",
      "14.3 8 360 245 3.21 3.57 15.84 0 0 3 4\n",
      "24.4 4 146.7 62 3.69 3.19 20 1 0 4 2\n",
      "22.8 4 140.8 95 3.92 3.15 22.9 1 0 4 2\n",
      "19.2 6 167.6 123 3.92 3.44 18.3 1 0 4 4\n",
      "17.8 6 167.6 123 3.92 3.44 18.9 1 0 4 4\n",
      "16.4 8 275.8 180 3.07 4.07 17.4 0 0 3 3\n",
      "17.3 8 275.8 180 3.07 3.73 17.6 0 0 3 3\n",
      "15.2 8 275.8 180 3.07 3.78 18 0 0 3 3\n",
      "10.4 8 472 205 2.93 5.25 17.98 0 0 3 4\n",
      "10.4 8 460 215 3 5.424 17.82 0 0 3 4\n",
      "14.7 8 440 230 3.23 5.345 17.42 0 0 3 4\n",
      "32.4 4 78.7 66 4.08 2.2 19.47 1 1 4 1\n",
      "30.4 4 75.7 52 4.93 1.615 18.52 1 1 4 2\n",
      "33.9 4 71.1 65 4.22 1.835 19.9 1 1 4 1\n",
      "21.5 4 120.1 97 3.7 2.465 20.01 1 0 3 1\n",
      "15.5 8 318 150 2.76 3.52 16.87 0 0 3 2\n",
      "15.2 8 304 150 3.15 3.435 17.3 0 0 3 2\n",
      "13.3 8 350 245 3.73 3.84 15.41 0 0 3 4\n",
      "19.2 8 400 175 3.08 3.845 17.05 0 0 3 2\n",
      "27.3 4 79 66 4.08 1.935 18.9 1 1 4 1\n",
      "26 4 120.3 91 4.43 2.14 16.7 0 1 5 2\n",
      "30.4 4 95.1 113 3.77 1.513 16.9 1 1 5 2\n",
      "15.8 8 351 264 4.22 3.17 14.5 0 1 5 4\n",
      "19.7 6 145 175 3.62 2.77 15.5 0 1 5 6\n",
      "15 8 301 335 3.54 3.57 14.6 0 1 5 8\n",
      "21.4 4 121 109 4.11 2.78 18.6 1 1 4 2\n"
     ]
    }
   ],
   "source": [
    "write.table(mtcars, \"\", row.names=F, quote=F)"
   ]
  },
  {
   "cell_type": "code",
   "execution_count": 15,
   "id": "672355b7",
   "metadata": {},
   "outputs": [],
   "source": [
    "# 5.1 R에서 문자열 합치기와 분리하기, 문자 개수"
   ]
  },
  {
   "cell_type": "code",
   "execution_count": 16,
   "id": "ef80b2aa",
   "metadata": {},
   "outputs": [
    {
     "data": {
      "text/html": [
       "3"
      ],
      "text/latex": [
       "3"
      ],
      "text/markdown": [
       "3"
      ],
      "text/plain": [
       "[1] 3"
      ]
     },
     "metadata": {},
     "output_type": "display_data"
    }
   ],
   "source": [
    "a <- 'abc'\n",
    "nchar(a)"
   ]
  },
  {
   "cell_type": "code",
   "execution_count": 17,
   "id": "306f9556",
   "metadata": {},
   "outputs": [
    {
     "data": {
      "text/html": [
       "<ol>\n",
       "\t<li><style>\n",
       ".list-inline {list-style: none; margin:0; padding: 0}\n",
       ".list-inline>li {display: inline-block}\n",
       ".list-inline>li:not(:last-child)::after {content: \"\\00b7\"; padding: 0 .5ex}\n",
       "</style>\n",
       "<ol class=list-inline><li>'a'</li><li>'b'</li><li>'c'</li></ol>\n",
       "</li>\n",
       "</ol>\n"
      ],
      "text/latex": [
       "\\begin{enumerate}\n",
       "\\item \\begin{enumerate*}\n",
       "\\item 'a'\n",
       "\\item 'b'\n",
       "\\item 'c'\n",
       "\\end{enumerate*}\n",
       "\n",
       "\\end{enumerate}\n"
      ],
      "text/markdown": [
       "1. 1. 'a'\n",
       "2. 'b'\n",
       "3. 'c'\n",
       "\n",
       "\n",
       "\n",
       "\n",
       "\n"
      ],
      "text/plain": [
       "[[1]]\n",
       "[1] \"a\" \"b\" \"c\"\n"
      ]
     },
     "metadata": {},
     "output_type": "display_data"
    }
   ],
   "source": [
    "xx <- strsplit(a, split='')\n",
    "xx"
   ]
  },
  {
   "cell_type": "code",
   "execution_count": 18,
   "id": "e367c027",
   "metadata": {},
   "outputs": [
    {
     "data": {
      "text/html": [
       "<ol>\n",
       "\t<li><style>\n",
       ".list-inline {list-style: none; margin:0; padding: 0}\n",
       ".list-inline>li {display: inline-block}\n",
       ".list-inline>li:not(:last-child)::after {content: \"\\00b7\"; padding: 0 .5ex}\n",
       "</style>\n",
       "<ol class=list-inline><li>'a'</li><li>'ca'</li><li>'a'</li></ol>\n",
       "</li>\n",
       "</ol>\n"
      ],
      "text/latex": [
       "\\begin{enumerate}\n",
       "\\item \\begin{enumerate*}\n",
       "\\item 'a'\n",
       "\\item 'ca'\n",
       "\\item 'a'\n",
       "\\end{enumerate*}\n",
       "\n",
       "\\end{enumerate}\n"
      ],
      "text/markdown": [
       "1. 1. 'a'\n",
       "2. 'ca'\n",
       "3. 'a'\n",
       "\n",
       "\n",
       "\n",
       "\n",
       "\n"
      ],
      "text/plain": [
       "[[1]]\n",
       "[1] \"a\"  \"ca\" \"a\" \n"
      ]
     },
     "metadata": {},
     "output_type": "display_data"
    }
   ],
   "source": [
    "strsplit('abcabab', split='b')"
   ]
  },
  {
   "cell_type": "code",
   "execution_count": 19,
   "id": "210e0e6d",
   "metadata": {},
   "outputs": [
    {
     "data": {
      "text/html": [
       "'abcABC'"
      ],
      "text/latex": [
       "'abcABC'"
      ],
      "text/markdown": [
       "'abcABC'"
      ],
      "text/plain": [
       "[1] \"abcABC\""
      ]
     },
     "metadata": {},
     "output_type": "display_data"
    }
   ],
   "source": [
    "paste(a, 'ABC', sep='')"
   ]
  },
  {
   "cell_type": "code",
   "execution_count": 20,
   "id": "394ab85d",
   "metadata": {},
   "outputs": [
    {
     "data": {
      "text/html": [
       "<style>\n",
       ".list-inline {list-style: none; margin:0; padding: 0}\n",
       ".list-inline>li {display: inline-block}\n",
       ".list-inline>li:not(:last-child)::after {content: \"\\00b7\"; padding: 0 .5ex}\n",
       "</style>\n",
       "<ol class=list-inline><li>'abc'</li><li>'abc'</li><li>'abc'</li><li>'abc'</li><li>'abc'</li></ol>\n"
      ],
      "text/latex": [
       "\\begin{enumerate*}\n",
       "\\item 'abc'\n",
       "\\item 'abc'\n",
       "\\item 'abc'\n",
       "\\item 'abc'\n",
       "\\item 'abc'\n",
       "\\end{enumerate*}\n"
      ],
      "text/markdown": [
       "1. 'abc'\n",
       "2. 'abc'\n",
       "3. 'abc'\n",
       "4. 'abc'\n",
       "5. 'abc'\n",
       "\n",
       "\n"
      ],
      "text/plain": [
       "[1] \"abc\" \"abc\" \"abc\" \"abc\" \"abc\""
      ]
     },
     "metadata": {},
     "output_type": "display_data"
    }
   ],
   "source": [
    "rep(a, 5)"
   ]
  },
  {
   "cell_type": "code",
   "execution_count": 22,
   "id": "0cc7b75e",
   "metadata": {},
   "outputs": [],
   "source": [
    "# 5.3 문자열 비교와 찾기"
   ]
  },
  {
   "cell_type": "code",
   "execution_count": 23,
   "id": "2f98345f",
   "metadata": {},
   "outputs": [
    {
     "data": {
      "text/html": [
       "'defg'"
      ],
      "text/latex": [
       "'defg'"
      ],
      "text/markdown": [
       "'defg'"
      ],
      "text/plain": [
       "[1] \"defg\""
      ]
     },
     "metadata": {},
     "output_type": "display_data"
    }
   ],
   "source": [
    "a <- 'abcdefgabcab'\n",
    "substr(a, 4, 7)"
   ]
  },
  {
   "cell_type": "code",
   "execution_count": 24,
   "id": "9948e747",
   "metadata": {},
   "outputs": [
    {
     "data": {
      "text/html": [
       "1"
      ],
      "text/latex": [
       "1"
      ],
      "text/markdown": [
       "1"
      ],
      "text/plain": [
       "[1] 1\n",
       "attr(,\"match.length\")\n",
       "[1] 1\n",
       "attr(,\"index.type\")\n",
       "[1] \"chars\"\n",
       "attr(,\"useBytes\")\n",
       "[1] TRUE"
      ]
     },
     "metadata": {},
     "output_type": "display_data"
    }
   ],
   "source": [
    "regexpr('a', a, fixed=T, useB=F)"
   ]
  },
  {
   "cell_type": "code",
   "execution_count": 25,
   "id": "7e8cee7c",
   "metadata": {},
   "outputs": [
    {
     "data": {
      "text/html": [
       "<ol>\n",
       "\t<li><style>\n",
       ".list-inline {list-style: none; margin:0; padding: 0}\n",
       ".list-inline>li {display: inline-block}\n",
       ".list-inline>li:not(:last-child)::after {content: \"\\00b7\"; padding: 0 .5ex}\n",
       "</style>\n",
       "<ol class=list-inline><li>1</li><li>8</li><li>11</li></ol>\n",
       "</li>\n",
       "</ol>\n"
      ],
      "text/latex": [
       "\\begin{enumerate}\n",
       "\\item \\begin{enumerate*}\n",
       "\\item 1\n",
       "\\item 8\n",
       "\\item 11\n",
       "\\end{enumerate*}\n",
       "\n",
       "\\end{enumerate}\n"
      ],
      "text/markdown": [
       "1. 1. 1\n",
       "2. 8\n",
       "3. 11\n",
       "\n",
       "\n",
       "\n",
       "\n",
       "\n"
      ],
      "text/plain": [
       "[[1]]\n",
       "[1]  1  8 11\n",
       "attr(,\"match.length\")\n",
       "[1] 1 1 1\n",
       "attr(,\"index.type\")\n",
       "[1] \"chars\"\n",
       "attr(,\"useBytes\")\n",
       "[1] TRUE\n"
      ]
     },
     "metadata": {},
     "output_type": "display_data"
    }
   ],
   "source": [
    "gregexpr('a', a, fixed=T, useB=F)"
   ]
  },
  {
   "cell_type": "code",
   "execution_count": 29,
   "id": "df6ac133",
   "metadata": {},
   "outputs": [
    {
     "data": {
      "text/html": [
       "<style>\n",
       ".list-inline {list-style: none; margin:0; padding: 0}\n",
       ".list-inline>li {display: inline-block}\n",
       ".list-inline>li:not(:last-child)::after {content: \"\\00b7\"; padding: 0 .5ex}\n",
       "</style>\n",
       "<ol class=list-inline><li>1</li><li>8</li><li>11</li></ol>\n"
      ],
      "text/latex": [
       "\\begin{enumerate*}\n",
       "\\item 1\n",
       "\\item 8\n",
       "\\item 11\n",
       "\\end{enumerate*}\n"
      ],
      "text/markdown": [
       "1. 1\n",
       "2. 8\n",
       "3. 11\n",
       "\n",
       "\n"
      ],
      "text/plain": [
       "[1]  1  8 11"
      ]
     },
     "metadata": {},
     "output_type": "display_data"
    }
   ],
   "source": [
    "unlist(gregexpr('a', a, fixed=T, useB=F))\n",
    "# list를 벡터로 -> unlist"
   ]
  },
  {
   "cell_type": "code",
   "execution_count": 31,
   "id": "74bb6802",
   "metadata": {},
   "outputs": [
    {
     "data": {
      "text/html": [
       "<style>\n",
       ".list-inline {list-style: none; margin:0; padding: 0}\n",
       ".list-inline>li {display: inline-block}\n",
       ".list-inline>li:not(:last-child)::after {content: \"\\00b7\"; padding: 0 .5ex}\n",
       "</style>\n",
       "<ol class=list-inline><li>'Abc'</li><li>'bcd'</li><li>'cdef'</li><li>'defg'</li></ol>\n"
      ],
      "text/latex": [
       "\\begin{enumerate*}\n",
       "\\item 'Abc'\n",
       "\\item 'bcd'\n",
       "\\item 'cdef'\n",
       "\\item 'defg'\n",
       "\\end{enumerate*}\n"
      ],
      "text/markdown": [
       "1. 'Abc'\n",
       "2. 'bcd'\n",
       "3. 'cdef'\n",
       "4. 'defg'\n",
       "\n",
       "\n"
      ],
      "text/plain": [
       "[1] \"Abc\"  \"bcd\"  \"cdef\" \"defg\""
      ]
     },
     "metadata": {},
     "output_type": "display_data"
    }
   ],
   "source": [
    "strvec <- c('Abc', 'bcd', 'cdef', 'defg')\n",
    "strvec"
   ]
  },
  {
   "cell_type": "code",
   "execution_count": 32,
   "id": "8ce29c67",
   "metadata": {},
   "outputs": [
    {
     "data": {
      "text/html": [
       "<style>\n",
       ".list-inline {list-style: none; margin:0; padding: 0}\n",
       ".list-inline>li {display: inline-block}\n",
       ".list-inline>li:not(:last-child)::after {content: \"\\00b7\"; padding: 0 .5ex}\n",
       "</style>\n",
       "<ol class=list-inline><li>1</li><li>2</li></ol>\n"
      ],
      "text/latex": [
       "\\begin{enumerate*}\n",
       "\\item 1\n",
       "\\item 2\n",
       "\\end{enumerate*}\n"
      ],
      "text/markdown": [
       "1. 1\n",
       "2. 2\n",
       "\n",
       "\n"
      ],
      "text/plain": [
       "[1] 1 2"
      ]
     },
     "metadata": {},
     "output_type": "display_data"
    }
   ],
   "source": [
    "grep('b', strvec)"
   ]
  },
  {
   "cell_type": "code",
   "execution_count": 33,
   "id": "7cde9c03",
   "metadata": {},
   "outputs": [
    {
     "data": {
      "text/html": [
       "<style>\n",
       ".list-inline {list-style: none; margin:0; padding: 0}\n",
       ".list-inline>li {display: inline-block}\n",
       ".list-inline>li:not(:last-child)::after {content: \"\\00b7\"; padding: 0 .5ex}\n",
       "</style>\n",
       "<ol class=list-inline><li>TRUE</li><li>TRUE</li><li>FALSE</li><li>FALSE</li></ol>\n"
      ],
      "text/latex": [
       "\\begin{enumerate*}\n",
       "\\item TRUE\n",
       "\\item TRUE\n",
       "\\item FALSE\n",
       "\\item FALSE\n",
       "\\end{enumerate*}\n"
      ],
      "text/markdown": [
       "1. TRUE\n",
       "2. TRUE\n",
       "3. FALSE\n",
       "4. FALSE\n",
       "\n",
       "\n"
      ],
      "text/plain": [
       "[1]  TRUE  TRUE FALSE FALSE"
      ]
     },
     "metadata": {},
     "output_type": "display_data"
    }
   ],
   "source": [
    "grepl('b', strvec)"
   ]
  },
  {
   "cell_type": "code",
   "execution_count": 36,
   "id": "3af396b3",
   "metadata": {},
   "outputs": [
    {
     "data": {
      "text/html": [
       "'abcdefgabcab'"
      ],
      "text/latex": [
       "'abcdefgabcab'"
      ],
      "text/markdown": [
       "'abcdefgabcab'"
      ],
      "text/plain": [
       "[1] \"abcdefgabcab\""
      ]
     },
     "metadata": {},
     "output_type": "display_data"
    },
    {
     "data": {
      "text/html": [
       "'AAbcdefgabcab'"
      ],
      "text/latex": [
       "'AAbcdefgabcab'"
      ],
      "text/markdown": [
       "'AAbcdefgabcab'"
      ],
      "text/plain": [
       "[1] \"AAbcdefgabcab\""
      ]
     },
     "metadata": {},
     "output_type": "display_data"
    }
   ],
   "source": [
    "a\n",
    "sub('a', 'AA', a)"
   ]
  },
  {
   "cell_type": "code",
   "execution_count": 37,
   "id": "4102c641",
   "metadata": {},
   "outputs": [
    {
     "data": {
      "text/html": [
       "'abcdefgabcab'"
      ],
      "text/latex": [
       "'abcdefgabcab'"
      ],
      "text/markdown": [
       "'abcdefgabcab'"
      ],
      "text/plain": [
       "[1] \"abcdefgabcab\""
      ]
     },
     "metadata": {},
     "output_type": "display_data"
    },
    {
     "data": {
      "text/html": [
       "'AAbcdefgAAbcAAb'"
      ],
      "text/latex": [
       "'AAbcdefgAAbcAAb'"
      ],
      "text/markdown": [
       "'AAbcdefgAAbcAAb'"
      ],
      "text/plain": [
       "[1] \"AAbcdefgAAbcAAb\""
      ]
     },
     "metadata": {},
     "output_type": "display_data"
    }
   ],
   "source": [
    "a\n",
    "gsub('a', 'AA', a)"
   ]
  },
  {
   "cell_type": "code",
   "execution_count": 38,
   "id": "9d90690c",
   "metadata": {},
   "outputs": [],
   "source": [
    "##########\n",
    "# 워크북\n",
    "##########"
   ]
  },
  {
   "cell_type": "code",
   "execution_count": 42,
   "id": "ef865818",
   "metadata": {},
   "outputs": [
    {
     "data": {
      "text/html": [
       "'abcABC'"
      ],
      "text/latex": [
       "'abcABC'"
      ],
      "text/markdown": [
       "'abcABC'"
      ],
      "text/plain": [
       "[1] \"abcABC\""
      ]
     },
     "metadata": {},
     "output_type": "display_data"
    },
    {
     "data": {
      "text/html": [
       "'abcABC'"
      ],
      "text/latex": [
       "'abcABC'"
      ],
      "text/markdown": [
       "'abcABC'"
      ],
      "text/plain": [
       "[1] \"abcABC\""
      ]
     },
     "metadata": {},
     "output_type": "display_data"
    }
   ],
   "source": [
    "# 9. R에서 다음을 수행한 결과는?\n",
    "a <- 'abc'\n",
    "paste(a, 'ABC', sep='')\n",
    "paste0(a, 'ABC')"
   ]
  },
  {
   "cell_type": "code",
   "execution_count": 43,
   "id": "e243be3f",
   "metadata": {},
   "outputs": [],
   "source": [
    "# R텍스트 파일\n",
    "# read.table\n",
    "# write.table\n",
    "# read_excel\n",
    "# read.xlsx\n",
    "# write.xlsx\n",
    "\n",
    "# python텍스트 파일\n",
    "# pd.read_csv\n",
    "# df.to_csv\n",
    "# pd.read_excel\n",
    "# df.to_excel"
   ]
  },
  {
   "cell_type": "code",
   "execution_count": null,
   "id": "ed315427",
   "metadata": {},
   "outputs": [],
   "source": []
  }
 ],
 "metadata": {
  "kernelspec": {
   "display_name": "R",
   "language": "R",
   "name": "ir"
  },
  "language_info": {
   "codemirror_mode": "r",
   "file_extension": ".r",
   "mimetype": "text/x-r-source",
   "name": "R",
   "pygments_lexer": "r",
   "version": "4.0.3"
  }
 },
 "nbformat": 4,
 "nbformat_minor": 5
}
