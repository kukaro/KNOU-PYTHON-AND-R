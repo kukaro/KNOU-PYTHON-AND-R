{
 "cells": [
  {
   "cell_type": "code",
   "execution_count": 1,
   "id": "53e3b73f",
   "metadata": {},
   "outputs": [],
   "source": [
    "# 3.1 R의 next와 break 명령"
   ]
  },
  {
   "cell_type": "code",
   "execution_count": 2,
   "id": "c1eaf9db",
   "metadata": {},
   "outputs": [
    {
     "name": "stdout",
     "output_type": "stream",
     "text": [
      "1  2  4  5  "
     ]
    }
   ],
   "source": [
    "x <- 1:5\n",
    "for (j in x) {\n",
    "    if (j==3) next\n",
    "    cat(j, \" \")\n",
    "}"
   ]
  },
  {
   "cell_type": "code",
   "execution_count": 3,
   "id": "68636fdf",
   "metadata": {},
   "outputs": [],
   "source": [
    "#next는 쉽게 말하면 continue이다"
   ]
  },
  {
   "cell_type": "code",
   "execution_count": 4,
   "id": "17f618f5",
   "metadata": {},
   "outputs": [
    {
     "name": "stdout",
     "output_type": "stream",
     "text": [
      "1  2  "
     ]
    }
   ],
   "source": [
    "x <- 1:5\n",
    "for (j in x) {\n",
    "    if (j==3) break\n",
    "    cat(j, \" \")\n",
    "}"
   ]
  },
  {
   "cell_type": "code",
   "execution_count": 5,
   "id": "e935e9a8",
   "metadata": {},
   "outputs": [],
   "source": [
    "##########\n",
    "# 워크북\n",
    "##########"
   ]
  },
  {
   "cell_type": "code",
   "execution_count": 6,
   "id": "baeaf944",
   "metadata": {},
   "outputs": [
    {
     "name": "stdout",
     "output_type": "stream",
     "text": [
      "x는 자연수가 아닙니다.\n"
     ]
    }
   ],
   "source": [
    "# 1. 다음 R 프로그램에서 test(20.5) 수행 결과는?\n",
    "test <- function(x){\n",
    "    if(x%%2==0){\n",
    "        cat('x는 짝수입니다\\n')\n",
    "    }else if(x%%2==1){\n",
    "        cat('x는 홀수입니다\\n')\n",
    "    }else{\n",
    "        cat('x는 자연수가 아닙니다.\\n')\n",
    "    }\n",
    "}\n",
    "test(20.5)"
   ]
  },
  {
   "cell_type": "code",
   "execution_count": null,
   "id": "cfadf8c1",
   "metadata": {},
   "outputs": [],
   "source": []
  }
 ],
 "metadata": {
  "kernelspec": {
   "display_name": "R",
   "language": "R",
   "name": "ir"
  },
  "language_info": {
   "codemirror_mode": "r",
   "file_extension": ".r",
   "mimetype": "text/x-r-source",
   "name": "R",
   "pygments_lexer": "r",
   "version": "4.0.3"
  }
 },
 "nbformat": 4,
 "nbformat_minor": 5
}
