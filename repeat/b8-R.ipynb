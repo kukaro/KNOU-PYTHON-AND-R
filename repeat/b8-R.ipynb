{
 "cells": [
  {
   "cell_type": "code",
   "execution_count": 2,
   "id": "bb676f68",
   "metadata": {},
   "outputs": [
    {
     "data": {
      "text/html": [
       "<table class=\"dataframe\">\n",
       "<caption>A data.frame: 6 × 4</caption>\n",
       "<thead>\n",
       "\t<tr><th></th><th scope=col>id</th><th scope=col>gender</th><th scope=col>midterm</th><th scope=col>final</th></tr>\n",
       "\t<tr><th></th><th scope=col>&lt;int&gt;</th><th scope=col>&lt;chr&gt;</th><th scope=col>&lt;int&gt;</th><th scope=col>&lt;int&gt;</th></tr>\n",
       "</thead>\n",
       "<tbody>\n",
       "\t<tr><th scope=row>1</th><td>13001</td><td>f</td><td>60</td><td>80</td></tr>\n",
       "\t<tr><th scope=row>2</th><td>13003</td><td>m</td><td>90</td><td>72</td></tr>\n",
       "\t<tr><th scope=row>3</th><td>13013</td><td>m</td><td>76</td><td>85</td></tr>\n",
       "\t<tr><th scope=row>4</th><td>13020</td><td>f</td><td>74</td><td>89</td></tr>\n",
       "\t<tr><th scope=row>5</th><td>13041</td><td>f</td><td>50</td><td>53</td></tr>\n",
       "\t<tr><th scope=row>6</th><td>13065</td><td>m</td><td>86</td><td>64</td></tr>\n",
       "</tbody>\n",
       "</table>\n"
      ],
      "text/latex": [
       "A data.frame: 6 × 4\n",
       "\\begin{tabular}{r|llll}\n",
       "  & id & gender & midterm & final\\\\\n",
       "  & <int> & <chr> & <int> & <int>\\\\\n",
       "\\hline\n",
       "\t1 & 13001 & f & 60 & 80\\\\\n",
       "\t2 & 13003 & m & 90 & 72\\\\\n",
       "\t3 & 13013 & m & 76 & 85\\\\\n",
       "\t4 & 13020 & f & 74 & 89\\\\\n",
       "\t5 & 13041 & f & 50 & 53\\\\\n",
       "\t6 & 13065 & m & 86 & 64\\\\\n",
       "\\end{tabular}\n"
      ],
      "text/markdown": [
       "\n",
       "A data.frame: 6 × 4\n",
       "\n",
       "| <!--/--> | id &lt;int&gt; | gender &lt;chr&gt; | midterm &lt;int&gt; | final &lt;int&gt; |\n",
       "|---|---|---|---|---|\n",
       "| 1 | 13001 | f | 60 | 80 |\n",
       "| 2 | 13003 | m | 90 | 72 |\n",
       "| 3 | 13013 | m | 76 | 85 |\n",
       "| 4 | 13020 | f | 74 | 89 |\n",
       "| 5 | 13041 | f | 50 | 53 |\n",
       "| 6 | 13065 | m | 86 | 64 |\n",
       "\n"
      ],
      "text/plain": [
       "  id    gender midterm final\n",
       "1 13001 f      60      80   \n",
       "2 13003 m      90      72   \n",
       "3 13013 m      76      85   \n",
       "4 13020 f      74      89   \n",
       "5 13041 f      50      53   \n",
       "6 13065 m      86      64   "
      ]
     },
     "metadata": {},
     "output_type": "display_data"
    }
   ],
   "source": [
    "score = read.csv('../data/score.csv', header=T)\n",
    "head(score)"
   ]
  },
  {
   "cell_type": "code",
   "execution_count": 2,
   "id": "f80db4ca",
   "metadata": {},
   "outputs": [
    {
     "data": {
      "text/html": [
       "<table class=\"dataframe\">\n",
       "<caption>A data.frame: 3 × 4</caption>\n",
       "<thead>\n",
       "\t<tr><th></th><th scope=col>id</th><th scope=col>gender</th><th scope=col>midterm</th><th scope=col>final</th></tr>\n",
       "\t<tr><th></th><th scope=col>&lt;int&gt;</th><th scope=col>&lt;chr&gt;</th><th scope=col>&lt;int&gt;</th><th scope=col>&lt;int&gt;</th></tr>\n",
       "</thead>\n",
       "<tbody>\n",
       "\t<tr><th scope=row>1</th><td>13001</td><td>f</td><td>60</td><td>80</td></tr>\n",
       "\t<tr><th scope=row>2</th><td>13003</td><td>m</td><td>90</td><td>72</td></tr>\n",
       "\t<tr><th scope=row>3</th><td>13013</td><td>m</td><td>76</td><td>85</td></tr>\n",
       "</tbody>\n",
       "</table>\n"
      ],
      "text/latex": [
       "A data.frame: 3 × 4\n",
       "\\begin{tabular}{r|llll}\n",
       "  & id & gender & midterm & final\\\\\n",
       "  & <int> & <chr> & <int> & <int>\\\\\n",
       "\\hline\n",
       "\t1 & 13001 & f & 60 & 80\\\\\n",
       "\t2 & 13003 & m & 90 & 72\\\\\n",
       "\t3 & 13013 & m & 76 & 85\\\\\n",
       "\\end{tabular}\n"
      ],
      "text/markdown": [
       "\n",
       "A data.frame: 3 × 4\n",
       "\n",
       "| <!--/--> | id &lt;int&gt; | gender &lt;chr&gt; | midterm &lt;int&gt; | final &lt;int&gt; |\n",
       "|---|---|---|---|---|\n",
       "| 1 | 13001 | f | 60 | 80 |\n",
       "| 2 | 13003 | m | 90 | 72 |\n",
       "| 3 | 13013 | m | 76 | 85 |\n",
       "\n"
      ],
      "text/plain": [
       "  id    gender midterm final\n",
       "1 13001 f      60      80   \n",
       "2 13003 m      90      72   \n",
       "3 13013 m      76      85   "
      ]
     },
     "metadata": {},
     "output_type": "display_data"
    }
   ],
   "source": [
    "head(score, 3)"
   ]
  },
  {
   "cell_type": "code",
   "execution_count": 3,
   "id": "0302f612",
   "metadata": {},
   "outputs": [
    {
     "data": {
      "text/html": [
       "<style>\n",
       ".list-inline {list-style: none; margin:0; padding: 0}\n",
       ".list-inline>li {display: inline-block}\n",
       ".list-inline>li:not(:last-child)::after {content: \"\\00b7\"; padding: 0 .5ex}\n",
       "</style>\n",
       "<ol class=list-inline><li>89</li><li>4</li></ol>\n"
      ],
      "text/latex": [
       "\\begin{enumerate*}\n",
       "\\item 89\n",
       "\\item 4\n",
       "\\end{enumerate*}\n"
      ],
      "text/markdown": [
       "1. 89\n",
       "2. 4\n",
       "\n",
       "\n"
      ],
      "text/plain": [
       "[1] 89  4"
      ]
     },
     "metadata": {},
     "output_type": "display_data"
    }
   ],
   "source": [
    "dim(score)"
   ]
  },
  {
   "cell_type": "code",
   "execution_count": 4,
   "id": "d4efcb6c",
   "metadata": {},
   "outputs": [],
   "source": [
    "score$total = score$midterm + score$final"
   ]
  },
  {
   "cell_type": "code",
   "execution_count": 6,
   "id": "60ebb466",
   "metadata": {},
   "outputs": [
    {
     "data": {
      "text/html": [
       "<style>\n",
       ".dl-inline {width: auto; margin:0; padding: 0}\n",
       ".dl-inline>dt, .dl-inline>dd {float: none; width: auto; display: inline-block}\n",
       ".dl-inline>dt::after {content: \":\\0020\"; padding-right: .5ex}\n",
       ".dl-inline>dt:not(:first-of-type) {padding-left: .5ex}\n",
       "</style><dl class=dl-inline><dt>midterm</dt><dd>66.8988764044944</dd><dt>final</dt><dd>55.752808988764</dd><dt>total</dt><dd>122.651685393258</dd></dl>\n"
      ],
      "text/latex": [
       "\\begin{description*}\n",
       "\\item[midterm] 66.8988764044944\n",
       "\\item[final] 55.752808988764\n",
       "\\item[total] 122.651685393258\n",
       "\\end{description*}\n"
      ],
      "text/markdown": [
       "midterm\n",
       ":   66.8988764044944final\n",
       ":   55.752808988764total\n",
       ":   122.651685393258\n",
       "\n"
      ],
      "text/plain": [
       "  midterm     final     total \n",
       " 66.89888  55.75281 122.65169 "
      ]
     },
     "metadata": {},
     "output_type": "display_data"
    }
   ],
   "source": [
    "sapply(score[,-c(1:2)],mean, na.rm=T)"
   ]
  },
  {
   "cell_type": "code",
   "execution_count": 8,
   "id": "1f349de4",
   "metadata": {},
   "outputs": [
    {
     "data": {
      "text/html": [
       "<style>\n",
       ".dl-inline {width: auto; margin:0; padding: 0}\n",
       ".dl-inline>dt, .dl-inline>dd {float: none; width: auto; display: inline-block}\n",
       ".dl-inline>dt::after {content: \":\\0020\"; padding-right: .5ex}\n",
       ".dl-inline>dt:not(:first-of-type) {padding-left: .5ex}\n",
       "</style><dl class=dl-inline><dt>midterm</dt><dd>19.0603377723459</dd><dt>final</dt><dd>24.0880397042318</dd><dt>total</dt><dd>37.8823241114074</dd></dl>\n"
      ],
      "text/latex": [
       "\\begin{description*}\n",
       "\\item[midterm] 19.0603377723459\n",
       "\\item[final] 24.0880397042318\n",
       "\\item[total] 37.8823241114074\n",
       "\\end{description*}\n"
      ],
      "text/markdown": [
       "midterm\n",
       ":   19.0603377723459final\n",
       ":   24.0880397042318total\n",
       ":   37.8823241114074\n",
       "\n"
      ],
      "text/plain": [
       " midterm    final    total \n",
       "19.06034 24.08804 37.88232 "
      ]
     },
     "metadata": {},
     "output_type": "display_data"
    }
   ],
   "source": [
    "sapply(score[,-c(1:2)], sd, na.rm=T)"
   ]
  },
  {
   "cell_type": "code",
   "execution_count": 9,
   "id": "e6450699",
   "metadata": {},
   "outputs": [
    {
     "data": {
      "text/plain": [
       "    gender             midterm          final           total      \n",
       " Length:89          Min.   : 22.0   Min.   : 0.00   Min.   : 35.0  \n",
       " Class :character   1st Qu.: 52.0   1st Qu.:40.00   1st Qu.: 99.0  \n",
       " Mode  :character   Median : 71.0   Median :55.00   Median :128.0  \n",
       "                    Mean   : 66.9   Mean   :55.75   Mean   :122.7  \n",
       "                    3rd Qu.: 82.0   3rd Qu.:75.00   3rd Qu.:154.0  \n",
       "                    Max.   :100.0   Max.   :93.00   Max.   :193.0  "
      ]
     },
     "metadata": {},
     "output_type": "display_data"
    }
   ],
   "source": [
    "summary(score[,-1])"
   ]
  },
  {
   "cell_type": "code",
   "execution_count": 10,
   "id": "92b5b504",
   "metadata": {},
   "outputs": [
    {
     "data": {
      "text/html": [
       "'character'"
      ],
      "text/latex": [
       "'character'"
      ],
      "text/markdown": [
       "'character'"
      ],
      "text/plain": [
       "[1] \"character\""
      ]
     },
     "metadata": {},
     "output_type": "display_data"
    }
   ],
   "source": [
    "class(score$gender)"
   ]
  },
  {
   "cell_type": "code",
   "execution_count": 11,
   "id": "b9b791c7",
   "metadata": {},
   "outputs": [
    {
     "data": {
      "text/html": [
       "'integer'"
      ],
      "text/latex": [
       "'integer'"
      ],
      "text/markdown": [
       "'integer'"
      ],
      "text/plain": [
       "[1] \"integer\""
      ]
     },
     "metadata": {},
     "output_type": "display_data"
    }
   ],
   "source": [
    "class(score$midterm)"
   ]
  },
  {
   "cell_type": "code",
   "execution_count": 12,
   "id": "aa3b92ad",
   "metadata": {},
   "outputs": [
    {
     "data": {
      "text/html": [
       "<style>\n",
       ".list-inline {list-style: none; margin:0; padding: 0}\n",
       ".list-inline>li {display: inline-block}\n",
       ".list-inline>li:not(:last-child)::after {content: \"\\00b7\"; padding: 0 .5ex}\n",
       "</style>\n",
       "<ol class=list-inline><li>35</li><li>99</li><li>128</li><li>154</li><li>193</li></ol>\n"
      ],
      "text/latex": [
       "\\begin{enumerate*}\n",
       "\\item 35\n",
       "\\item 99\n",
       "\\item 128\n",
       "\\item 154\n",
       "\\item 193\n",
       "\\end{enumerate*}\n"
      ],
      "text/markdown": [
       "1. 35\n",
       "2. 99\n",
       "3. 128\n",
       "4. 154\n",
       "5. 193\n",
       "\n",
       "\n"
      ],
      "text/plain": [
       "[1]  35  99 128 154 193"
      ]
     },
     "metadata": {},
     "output_type": "display_data"
    }
   ],
   "source": [
    "fivenum(score$total)"
   ]
  },
  {
   "cell_type": "code",
   "execution_count": 14,
   "id": "7b2b57f2",
   "metadata": {},
   "outputs": [],
   "source": [
    "library(psych)"
   ]
  },
  {
   "cell_type": "code",
   "execution_count": 15,
   "id": "ac9787ae",
   "metadata": {},
   "outputs": [
    {
     "data": {
      "text/html": [
       "<table class=\"dataframe\">\n",
       "<caption>A psych: 3 × 13</caption>\n",
       "<thead>\n",
       "\t<tr><th></th><th scope=col>vars</th><th scope=col>n</th><th scope=col>mean</th><th scope=col>sd</th><th scope=col>median</th><th scope=col>trimmed</th><th scope=col>mad</th><th scope=col>min</th><th scope=col>max</th><th scope=col>range</th><th scope=col>skew</th><th scope=col>kurtosis</th><th scope=col>se</th></tr>\n",
       "\t<tr><th></th><th scope=col>&lt;int&gt;</th><th scope=col>&lt;dbl&gt;</th><th scope=col>&lt;dbl&gt;</th><th scope=col>&lt;dbl&gt;</th><th scope=col>&lt;dbl&gt;</th><th scope=col>&lt;dbl&gt;</th><th scope=col>&lt;dbl&gt;</th><th scope=col>&lt;dbl&gt;</th><th scope=col>&lt;dbl&gt;</th><th scope=col>&lt;dbl&gt;</th><th scope=col>&lt;dbl&gt;</th><th scope=col>&lt;dbl&gt;</th><th scope=col>&lt;dbl&gt;</th></tr>\n",
       "</thead>\n",
       "<tbody>\n",
       "\t<tr><th scope=row>midterm</th><td>1</td><td>89</td><td> 66.89888</td><td>19.06034</td><td> 71</td><td> 67.84932</td><td>19.2738</td><td>22</td><td>100</td><td> 78</td><td>-0.3968489</td><td>-0.6559548</td><td>2.020392</td></tr>\n",
       "\t<tr><th scope=row>final</th><td>2</td><td>89</td><td> 55.75281</td><td>24.08804</td><td> 55</td><td> 57.45205</td><td>25.2042</td><td> 0</td><td> 93</td><td> 93</td><td>-0.5054800</td><td>-0.5121913</td><td>2.553327</td></tr>\n",
       "\t<tr><th scope=row>total</th><td>3</td><td>89</td><td>122.65169</td><td>37.88232</td><td>128</td><td>124.76712</td><td>40.0302</td><td>35</td><td>193</td><td>158</td><td>-0.4486563</td><td>-0.6932943</td><td>4.015518</td></tr>\n",
       "</tbody>\n",
       "</table>\n"
      ],
      "text/latex": [
       "A psych: 3 × 13\n",
       "\\begin{tabular}{r|lllllllllllll}\n",
       "  & vars & n & mean & sd & median & trimmed & mad & min & max & range & skew & kurtosis & se\\\\\n",
       "  & <int> & <dbl> & <dbl> & <dbl> & <dbl> & <dbl> & <dbl> & <dbl> & <dbl> & <dbl> & <dbl> & <dbl> & <dbl>\\\\\n",
       "\\hline\n",
       "\tmidterm & 1 & 89 &  66.89888 & 19.06034 &  71 &  67.84932 & 19.2738 & 22 & 100 &  78 & -0.3968489 & -0.6559548 & 2.020392\\\\\n",
       "\tfinal & 2 & 89 &  55.75281 & 24.08804 &  55 &  57.45205 & 25.2042 &  0 &  93 &  93 & -0.5054800 & -0.5121913 & 2.553327\\\\\n",
       "\ttotal & 3 & 89 & 122.65169 & 37.88232 & 128 & 124.76712 & 40.0302 & 35 & 193 & 158 & -0.4486563 & -0.6932943 & 4.015518\\\\\n",
       "\\end{tabular}\n"
      ],
      "text/markdown": [
       "\n",
       "A psych: 3 × 13\n",
       "\n",
       "| <!--/--> | vars &lt;int&gt; | n &lt;dbl&gt; | mean &lt;dbl&gt; | sd &lt;dbl&gt; | median &lt;dbl&gt; | trimmed &lt;dbl&gt; | mad &lt;dbl&gt; | min &lt;dbl&gt; | max &lt;dbl&gt; | range &lt;dbl&gt; | skew &lt;dbl&gt; | kurtosis &lt;dbl&gt; | se &lt;dbl&gt; |\n",
       "|---|---|---|---|---|---|---|---|---|---|---|---|---|---|\n",
       "| midterm | 1 | 89 |  66.89888 | 19.06034 |  71 |  67.84932 | 19.2738 | 22 | 100 |  78 | -0.3968489 | -0.6559548 | 2.020392 |\n",
       "| final | 2 | 89 |  55.75281 | 24.08804 |  55 |  57.45205 | 25.2042 |  0 |  93 |  93 | -0.5054800 | -0.5121913 | 2.553327 |\n",
       "| total | 3 | 89 | 122.65169 | 37.88232 | 128 | 124.76712 | 40.0302 | 35 | 193 | 158 | -0.4486563 | -0.6932943 | 4.015518 |\n",
       "\n"
      ],
      "text/plain": [
       "        vars n  mean      sd       median trimmed   mad     min max range\n",
       "midterm 1    89  66.89888 19.06034  71     67.84932 19.2738 22  100  78  \n",
       "final   2    89  55.75281 24.08804  55     57.45205 25.2042  0   93  93  \n",
       "total   3    89 122.65169 37.88232 128    124.76712 40.0302 35  193 158  \n",
       "        skew       kurtosis   se      \n",
       "midterm -0.3968489 -0.6559548 2.020392\n",
       "final   -0.5054800 -0.5121913 2.553327\n",
       "total   -0.4486563 -0.6932943 4.015518"
      ]
     },
     "metadata": {},
     "output_type": "display_data"
    }
   ],
   "source": [
    "describe(score[,-c(1:2)])"
   ]
  },
  {
   "cell_type": "code",
   "execution_count": 16,
   "id": "8ae41d82",
   "metadata": {},
   "outputs": [
    {
     "data": {
      "text/html": [
       "<table class=\"dataframe\">\n",
       "<caption>A psych: 5 × 13</caption>\n",
       "<thead>\n",
       "\t<tr><th></th><th scope=col>vars</th><th scope=col>n</th><th scope=col>mean</th><th scope=col>sd</th><th scope=col>median</th><th scope=col>trimmed</th><th scope=col>mad</th><th scope=col>min</th><th scope=col>max</th><th scope=col>range</th><th scope=col>skew</th><th scope=col>kurtosis</th><th scope=col>se</th></tr>\n",
       "\t<tr><th></th><th scope=col>&lt;int&gt;</th><th scope=col>&lt;dbl&gt;</th><th scope=col>&lt;dbl&gt;</th><th scope=col>&lt;dbl&gt;</th><th scope=col>&lt;dbl&gt;</th><th scope=col>&lt;dbl&gt;</th><th scope=col>&lt;dbl&gt;</th><th scope=col>&lt;dbl&gt;</th><th scope=col>&lt;dbl&gt;</th><th scope=col>&lt;dbl&gt;</th><th scope=col>&lt;dbl&gt;</th><th scope=col>&lt;dbl&gt;</th><th scope=col>&lt;dbl&gt;</th></tr>\n",
       "</thead>\n",
       "<tbody>\n",
       "\t<tr><th scope=row>id</th><td>1</td><td>89</td><td>66186.325843</td><td>14374.604484</td><td>70028</td><td>70027.164384</td><td>23.7216</td><td>13001</td><td>70060</td><td>57059</td><td>-3.3924557</td><td> 9.6172145</td><td>1.523705e+03</td></tr>\n",
       "\t<tr><th scope=row>gender*</th><td>2</td><td>89</td><td>    1.606742</td><td>    0.491241</td><td>    2</td><td>    1.630137</td><td> 0.0000</td><td>    1</td><td>    2</td><td>    1</td><td>-0.4296964</td><td>-1.8356085</td><td>5.207144e-02</td></tr>\n",
       "\t<tr><th scope=row>midterm</th><td>3</td><td>89</td><td>   66.898876</td><td>   19.060338</td><td>   71</td><td>   67.849315</td><td>19.2738</td><td>   22</td><td>  100</td><td>   78</td><td>-0.3968489</td><td>-0.6559548</td><td>2.020392e+00</td></tr>\n",
       "\t<tr><th scope=row>final</th><td>4</td><td>89</td><td>   55.752809</td><td>   24.088040</td><td>   55</td><td>   57.452055</td><td>25.2042</td><td>    0</td><td>   93</td><td>   93</td><td>-0.5054800</td><td>-0.5121913</td><td>2.553327e+00</td></tr>\n",
       "\t<tr><th scope=row>total</th><td>5</td><td>89</td><td>  122.651685</td><td>   37.882324</td><td>  128</td><td>  124.767123</td><td>40.0302</td><td>   35</td><td>  193</td><td>  158</td><td>-0.4486563</td><td>-0.6932943</td><td>4.015518e+00</td></tr>\n",
       "</tbody>\n",
       "</table>\n"
      ],
      "text/latex": [
       "A psych: 5 × 13\n",
       "\\begin{tabular}{r|lllllllllllll}\n",
       "  & vars & n & mean & sd & median & trimmed & mad & min & max & range & skew & kurtosis & se\\\\\n",
       "  & <int> & <dbl> & <dbl> & <dbl> & <dbl> & <dbl> & <dbl> & <dbl> & <dbl> & <dbl> & <dbl> & <dbl> & <dbl>\\\\\n",
       "\\hline\n",
       "\tid & 1 & 89 & 66186.325843 & 14374.604484 & 70028 & 70027.164384 & 23.7216 & 13001 & 70060 & 57059 & -3.3924557 &  9.6172145 & 1.523705e+03\\\\\n",
       "\tgender* & 2 & 89 &     1.606742 &     0.491241 &     2 &     1.630137 &  0.0000 &     1 &     2 &     1 & -0.4296964 & -1.8356085 & 5.207144e-02\\\\\n",
       "\tmidterm & 3 & 89 &    66.898876 &    19.060338 &    71 &    67.849315 & 19.2738 &    22 &   100 &    78 & -0.3968489 & -0.6559548 & 2.020392e+00\\\\\n",
       "\tfinal & 4 & 89 &    55.752809 &    24.088040 &    55 &    57.452055 & 25.2042 &     0 &    93 &    93 & -0.5054800 & -0.5121913 & 2.553327e+00\\\\\n",
       "\ttotal & 5 & 89 &   122.651685 &    37.882324 &   128 &   124.767123 & 40.0302 &    35 &   193 &   158 & -0.4486563 & -0.6932943 & 4.015518e+00\\\\\n",
       "\\end{tabular}\n"
      ],
      "text/markdown": [
       "\n",
       "A psych: 5 × 13\n",
       "\n",
       "| <!--/--> | vars &lt;int&gt; | n &lt;dbl&gt; | mean &lt;dbl&gt; | sd &lt;dbl&gt; | median &lt;dbl&gt; | trimmed &lt;dbl&gt; | mad &lt;dbl&gt; | min &lt;dbl&gt; | max &lt;dbl&gt; | range &lt;dbl&gt; | skew &lt;dbl&gt; | kurtosis &lt;dbl&gt; | se &lt;dbl&gt; |\n",
       "|---|---|---|---|---|---|---|---|---|---|---|---|---|---|\n",
       "| id | 1 | 89 | 66186.325843 | 14374.604484 | 70028 | 70027.164384 | 23.7216 | 13001 | 70060 | 57059 | -3.3924557 |  9.6172145 | 1.523705e+03 |\n",
       "| gender* | 2 | 89 |     1.606742 |     0.491241 |     2 |     1.630137 |  0.0000 |     1 |     2 |     1 | -0.4296964 | -1.8356085 | 5.207144e-02 |\n",
       "| midterm | 3 | 89 |    66.898876 |    19.060338 |    71 |    67.849315 | 19.2738 |    22 |   100 |    78 | -0.3968489 | -0.6559548 | 2.020392e+00 |\n",
       "| final | 4 | 89 |    55.752809 |    24.088040 |    55 |    57.452055 | 25.2042 |     0 |    93 |    93 | -0.5054800 | -0.5121913 | 2.553327e+00 |\n",
       "| total | 5 | 89 |   122.651685 |    37.882324 |   128 |   124.767123 | 40.0302 |    35 |   193 |   158 | -0.4486563 | -0.6932943 | 4.015518e+00 |\n",
       "\n"
      ],
      "text/plain": [
       "        vars n  mean         sd           median trimmed      mad     min  \n",
       "id      1    89 66186.325843 14374.604484 70028  70027.164384 23.7216 13001\n",
       "gender* 2    89     1.606742     0.491241     2      1.630137  0.0000     1\n",
       "midterm 3    89    66.898876    19.060338    71     67.849315 19.2738    22\n",
       "final   4    89    55.752809    24.088040    55     57.452055 25.2042     0\n",
       "total   5    89   122.651685    37.882324   128    124.767123 40.0302    35\n",
       "        max   range skew       kurtosis   se          \n",
       "id      70060 57059 -3.3924557  9.6172145 1.523705e+03\n",
       "gender*     2     1 -0.4296964 -1.8356085 5.207144e-02\n",
       "midterm   100    78 -0.3968489 -0.6559548 2.020392e+00\n",
       "final      93    93 -0.5054800 -0.5121913 2.553327e+00\n",
       "total     193   158 -0.4486563 -0.6932943 4.015518e+00"
      ]
     },
     "metadata": {},
     "output_type": "display_data"
    }
   ],
   "source": [
    "describe(score)"
   ]
  },
  {
   "cell_type": "code",
   "execution_count": 17,
   "id": "5c56855c",
   "metadata": {},
   "outputs": [],
   "source": [
    "Dscore = describe(score[,-c(1:2)])"
   ]
  },
  {
   "cell_type": "code",
   "execution_count": 18,
   "id": "52903779",
   "metadata": {},
   "outputs": [
    {
     "data": {
      "text/html": [
       "<style>\n",
       ".list-inline {list-style: none; margin:0; padding: 0}\n",
       ".list-inline>li {display: inline-block}\n",
       ".list-inline>li:not(:last-child)::after {content: \"\\00b7\"; padding: 0 .5ex}\n",
       "</style>\n",
       "<ol class=list-inline><li>'vars'</li><li>'n'</li><li>'mean'</li><li>'sd'</li><li>'median'</li><li>'trimmed'</li><li>'mad'</li><li>'min'</li><li>'max'</li><li>'range'</li><li>'skew'</li><li>'kurtosis'</li><li>'se'</li></ol>\n"
      ],
      "text/latex": [
       "\\begin{enumerate*}\n",
       "\\item 'vars'\n",
       "\\item 'n'\n",
       "\\item 'mean'\n",
       "\\item 'sd'\n",
       "\\item 'median'\n",
       "\\item 'trimmed'\n",
       "\\item 'mad'\n",
       "\\item 'min'\n",
       "\\item 'max'\n",
       "\\item 'range'\n",
       "\\item 'skew'\n",
       "\\item 'kurtosis'\n",
       "\\item 'se'\n",
       "\\end{enumerate*}\n"
      ],
      "text/markdown": [
       "1. 'vars'\n",
       "2. 'n'\n",
       "3. 'mean'\n",
       "4. 'sd'\n",
       "5. 'median'\n",
       "6. 'trimmed'\n",
       "7. 'mad'\n",
       "8. 'min'\n",
       "9. 'max'\n",
       "10. 'range'\n",
       "11. 'skew'\n",
       "12. 'kurtosis'\n",
       "13. 'se'\n",
       "\n",
       "\n"
      ],
      "text/plain": [
       " [1] \"vars\"     \"n\"        \"mean\"     \"sd\"       \"median\"   \"trimmed\" \n",
       " [7] \"mad\"      \"min\"      \"max\"      \"range\"    \"skew\"     \"kurtosis\"\n",
       "[13] \"se\"      "
      ]
     },
     "metadata": {},
     "output_type": "display_data"
    }
   ],
   "source": [
    "names(Dscore)"
   ]
  },
  {
   "cell_type": "code",
   "execution_count": 19,
   "id": "e101e8b1",
   "metadata": {},
   "outputs": [],
   "source": [
    "# 2그룹별 기술통계"
   ]
  },
  {
   "cell_type": "code",
   "execution_count": 20,
   "id": "11ee46fc",
   "metadata": {},
   "outputs": [
    {
     "data": {
      "text/html": [
       "<table class=\"dataframe\">\n",
       "<caption>A data.frame: 3 × 5</caption>\n",
       "<thead>\n",
       "\t<tr><th></th><th scope=col>id</th><th scope=col>gender</th><th scope=col>midterm</th><th scope=col>final</th><th scope=col>total</th></tr>\n",
       "\t<tr><th></th><th scope=col>&lt;int&gt;</th><th scope=col>&lt;chr&gt;</th><th scope=col>&lt;int&gt;</th><th scope=col>&lt;int&gt;</th><th scope=col>&lt;int&gt;</th></tr>\n",
       "</thead>\n",
       "<tbody>\n",
       "\t<tr><th scope=row>1</th><td>13001</td><td>f</td><td>60</td><td>80</td><td>140</td></tr>\n",
       "\t<tr><th scope=row>2</th><td>13003</td><td>m</td><td>90</td><td>72</td><td>162</td></tr>\n",
       "\t<tr><th scope=row>3</th><td>13013</td><td>m</td><td>76</td><td>85</td><td>161</td></tr>\n",
       "</tbody>\n",
       "</table>\n"
      ],
      "text/latex": [
       "A data.frame: 3 × 5\n",
       "\\begin{tabular}{r|lllll}\n",
       "  & id & gender & midterm & final & total\\\\\n",
       "  & <int> & <chr> & <int> & <int> & <int>\\\\\n",
       "\\hline\n",
       "\t1 & 13001 & f & 60 & 80 & 140\\\\\n",
       "\t2 & 13003 & m & 90 & 72 & 162\\\\\n",
       "\t3 & 13013 & m & 76 & 85 & 161\\\\\n",
       "\\end{tabular}\n"
      ],
      "text/markdown": [
       "\n",
       "A data.frame: 3 × 5\n",
       "\n",
       "| <!--/--> | id &lt;int&gt; | gender &lt;chr&gt; | midterm &lt;int&gt; | final &lt;int&gt; | total &lt;int&gt; |\n",
       "|---|---|---|---|---|---|\n",
       "| 1 | 13001 | f | 60 | 80 | 140 |\n",
       "| 2 | 13003 | m | 90 | 72 | 162 |\n",
       "| 3 | 13013 | m | 76 | 85 | 161 |\n",
       "\n"
      ],
      "text/plain": [
       "  id    gender midterm final total\n",
       "1 13001 f      60      80    140  \n",
       "2 13003 m      90      72    162  \n",
       "3 13013 m      76      85    161  "
      ]
     },
     "metadata": {},
     "output_type": "display_data"
    }
   ],
   "source": [
    "head(score, 3)"
   ]
  },
  {
   "cell_type": "code",
   "execution_count": 29,
   "id": "c3a7294c",
   "metadata": {},
   "outputs": [
    {
     "data": {
      "text/html": [
       "<style>\n",
       ".dl-inline {width: auto; margin:0; padding: 0}\n",
       ".dl-inline>dt, .dl-inline>dd {float: none; width: auto; display: inline-block}\n",
       ".dl-inline>dt::after {content: \":\\0020\"; padding-right: .5ex}\n",
       ".dl-inline>dt:not(:first-of-type) {padding-left: .5ex}\n",
       "</style><dl class=dl-inline><dt>f</dt><dd>122.771428571429</dd><dt>m</dt><dd>122.574074074074</dd></dl>\n"
      ],
      "text/latex": [
       "\\begin{description*}\n",
       "\\item[f] 122.771428571429\n",
       "\\item[m] 122.574074074074\n",
       "\\end{description*}\n"
      ],
      "text/markdown": [
       "f\n",
       ":   122.771428571429m\n",
       ":   122.574074074074\n",
       "\n"
      ],
      "text/plain": [
       "       f        m \n",
       "122.7714 122.5741 "
      ]
     },
     "metadata": {},
     "output_type": "display_data"
    }
   ],
   "source": [
    "m <- tapply(score$total, score$gender, mean)\n",
    "m"
   ]
  },
  {
   "cell_type": "code",
   "execution_count": 30,
   "id": "82abdc36",
   "metadata": {},
   "outputs": [
    {
     "data": {
      "text/html": [
       "<style>\n",
       ".dl-inline {width: auto; margin:0; padding: 0}\n",
       ".dl-inline>dt, .dl-inline>dd {float: none; width: auto; display: inline-block}\n",
       ".dl-inline>dt::after {content: \":\\0020\"; padding-right: .5ex}\n",
       ".dl-inline>dt:not(:first-of-type) {padding-left: .5ex}\n",
       "</style><dl class=dl-inline><dt>f</dt><dd>34.2955028043772</dd><dt>m</dt><dd>40.3511014798347</dd></dl>\n"
      ],
      "text/latex": [
       "\\begin{description*}\n",
       "\\item[f] 34.2955028043772\n",
       "\\item[m] 40.3511014798347\n",
       "\\end{description*}\n"
      ],
      "text/markdown": [
       "f\n",
       ":   34.2955028043772m\n",
       ":   40.3511014798347\n",
       "\n"
      ],
      "text/plain": [
       "      f       m \n",
       "34.2955 40.3511 "
      ]
     },
     "metadata": {},
     "output_type": "display_data"
    }
   ],
   "source": [
    "s <- tapply(score$total, score$gender, sd)\n",
    "s"
   ]
  },
  {
   "cell_type": "code",
   "execution_count": 31,
   "id": "fb10459a",
   "metadata": {},
   "outputs": [
    {
     "data": {
      "text/html": [
       "<style>\n",
       ".dl-inline {width: auto; margin:0; padding: 0}\n",
       ".dl-inline>dt, .dl-inline>dd {float: none; width: auto; display: inline-block}\n",
       ".dl-inline>dt::after {content: \":\\0020\"; padding-right: .5ex}\n",
       ".dl-inline>dt:not(:first-of-type) {padding-left: .5ex}\n",
       "</style><dl class=dl-inline><dt>f</dt><dd>35</dd><dt>m</dt><dd>54</dd></dl>\n"
      ],
      "text/latex": [
       "\\begin{description*}\n",
       "\\item[f] 35\n",
       "\\item[m] 54\n",
       "\\end{description*}\n"
      ],
      "text/markdown": [
       "f\n",
       ":   35m\n",
       ":   54\n",
       "\n"
      ],
      "text/plain": [
       " f  m \n",
       "35 54 "
      ]
     },
     "metadata": {},
     "output_type": "display_data"
    }
   ],
   "source": [
    "l <- tapply(score$total, score$gender, length)\n",
    "l"
   ]
  },
  {
   "cell_type": "code",
   "execution_count": 28,
   "id": "210811b1",
   "metadata": {},
   "outputs": [
    {
     "data": {
      "text/html": [
       "<table class=\"dataframe\">\n",
       "<caption>A matrix: 2 × 3 of type dbl</caption>\n",
       "<thead>\n",
       "\t<tr><th></th><th scope=col>mean</th><th scope=col>stdev</th><th scope=col>n</th></tr>\n",
       "</thead>\n",
       "<tbody>\n",
       "\t<tr><th scope=row>f</th><td>122.7714</td><td>34.2955</td><td>35</td></tr>\n",
       "\t<tr><th scope=row>m</th><td>122.5741</td><td>40.3511</td><td>54</td></tr>\n",
       "</tbody>\n",
       "</table>\n"
      ],
      "text/latex": [
       "A matrix: 2 × 3 of type dbl\n",
       "\\begin{tabular}{r|lll}\n",
       "  & mean & stdev & n\\\\\n",
       "\\hline\n",
       "\tf & 122.7714 & 34.2955 & 35\\\\\n",
       "\tm & 122.5741 & 40.3511 & 54\\\\\n",
       "\\end{tabular}\n"
      ],
      "text/markdown": [
       "\n",
       "A matrix: 2 × 3 of type dbl\n",
       "\n",
       "| <!--/--> | mean | stdev | n |\n",
       "|---|---|---|---|\n",
       "| f | 122.7714 | 34.2955 | 35 |\n",
       "| m | 122.5741 | 40.3511 | 54 |\n",
       "\n"
      ],
      "text/plain": [
       "  mean     stdev   n \n",
       "f 122.7714 34.2955 35\n",
       "m 122.5741 40.3511 54"
      ]
     },
     "metadata": {},
     "output_type": "display_data"
    }
   ],
   "source": [
    "cbind(mean=m,stdev=s,n=l)"
   ]
  },
  {
   "cell_type": "code",
   "execution_count": 32,
   "id": "8f85c811",
   "metadata": {},
   "outputs": [],
   "source": [
    "# 2.2 aggregate 함수 이용"
   ]
  },
  {
   "cell_type": "code",
   "execution_count": 33,
   "id": "e4fa904e",
   "metadata": {},
   "outputs": [
    {
     "data": {
      "text/html": [
       "<table class=\"dataframe\">\n",
       "<caption>A data.frame: 2 × 4</caption>\n",
       "<thead>\n",
       "\t<tr><th scope=col>gender</th><th scope=col>midterm</th><th scope=col>final</th><th scope=col>total</th></tr>\n",
       "\t<tr><th scope=col>&lt;chr&gt;</th><th scope=col>&lt;dbl&gt;</th><th scope=col>&lt;dbl&gt;</th><th scope=col>&lt;dbl&gt;</th></tr>\n",
       "</thead>\n",
       "<tbody>\n",
       "\t<tr><td>f</td><td>65.57143</td><td>57.20000</td><td>122.7714</td></tr>\n",
       "\t<tr><td>m</td><td>67.75926</td><td>54.81481</td><td>122.5741</td></tr>\n",
       "</tbody>\n",
       "</table>\n"
      ],
      "text/latex": [
       "A data.frame: 2 × 4\n",
       "\\begin{tabular}{llll}\n",
       " gender & midterm & final & total\\\\\n",
       " <chr> & <dbl> & <dbl> & <dbl>\\\\\n",
       "\\hline\n",
       "\t f & 65.57143 & 57.20000 & 122.7714\\\\\n",
       "\t m & 67.75926 & 54.81481 & 122.5741\\\\\n",
       "\\end{tabular}\n"
      ],
      "text/markdown": [
       "\n",
       "A data.frame: 2 × 4\n",
       "\n",
       "| gender &lt;chr&gt; | midterm &lt;dbl&gt; | final &lt;dbl&gt; | total &lt;dbl&gt; |\n",
       "|---|---|---|---|\n",
       "| f | 65.57143 | 57.20000 | 122.7714 |\n",
       "| m | 67.75926 | 54.81481 | 122.5741 |\n",
       "\n"
      ],
      "text/plain": [
       "  gender midterm  final    total   \n",
       "1 f      65.57143 57.20000 122.7714\n",
       "2 m      67.75926 54.81481 122.5741"
      ]
     },
     "metadata": {},
     "output_type": "display_data"
    }
   ],
   "source": [
    "aggregate(score[c('midterm','final','total')], list(gender=score$gender), mean)"
   ]
  },
  {
   "cell_type": "code",
   "execution_count": 35,
   "id": "298a754a",
   "metadata": {},
   "outputs": [
    {
     "data": {
      "text/html": [
       "<table class=\"dataframe\">\n",
       "<caption>A data.frame: 2 × 4</caption>\n",
       "<thead>\n",
       "\t<tr><th scope=col>gender</th><th scope=col>midterm</th><th scope=col>final</th><th scope=col>total</th></tr>\n",
       "\t<tr><th scope=col>&lt;chr&gt;</th><th scope=col>&lt;dbl&gt;</th><th scope=col>&lt;dbl&gt;</th><th scope=col>&lt;dbl&gt;</th></tr>\n",
       "</thead>\n",
       "<tbody>\n",
       "\t<tr><td>f</td><td>16.37122</td><td>21.99305</td><td>34.2955</td></tr>\n",
       "\t<tr><td>m</td><td>20.72091</td><td>25.51143</td><td>40.3511</td></tr>\n",
       "</tbody>\n",
       "</table>\n"
      ],
      "text/latex": [
       "A data.frame: 2 × 4\n",
       "\\begin{tabular}{llll}\n",
       " gender & midterm & final & total\\\\\n",
       " <chr> & <dbl> & <dbl> & <dbl>\\\\\n",
       "\\hline\n",
       "\t f & 16.37122 & 21.99305 & 34.2955\\\\\n",
       "\t m & 20.72091 & 25.51143 & 40.3511\\\\\n",
       "\\end{tabular}\n"
      ],
      "text/markdown": [
       "\n",
       "A data.frame: 2 × 4\n",
       "\n",
       "| gender &lt;chr&gt; | midterm &lt;dbl&gt; | final &lt;dbl&gt; | total &lt;dbl&gt; |\n",
       "|---|---|---|---|\n",
       "| f | 16.37122 | 21.99305 | 34.2955 |\n",
       "| m | 20.72091 | 25.51143 | 40.3511 |\n",
       "\n"
      ],
      "text/plain": [
       "  gender midterm  final    total  \n",
       "1 f      16.37122 21.99305 34.2955\n",
       "2 m      20.72091 25.51143 40.3511"
      ]
     },
     "metadata": {},
     "output_type": "display_data"
    }
   ],
   "source": [
    "aggregate(score[c('midterm','final','total')], list(gender=score$gender), sd)"
   ]
  },
  {
   "cell_type": "code",
   "execution_count": 36,
   "id": "5c11d931",
   "metadata": {},
   "outputs": [
    {
     "data": {
      "text/html": [
       "<table class=\"dataframe\">\n",
       "<caption>A data.frame: 2 × 4</caption>\n",
       "<thead>\n",
       "\t<tr><th scope=col>gender</th><th scope=col>midterm</th><th scope=col>final</th><th scope=col>total</th></tr>\n",
       "\t<tr><th scope=col>&lt;chr&gt;</th><th scope=col>&lt;int&gt;</th><th scope=col>&lt;int&gt;</th><th scope=col>&lt;int&gt;</th></tr>\n",
       "</thead>\n",
       "<tbody>\n",
       "\t<tr><td>f</td><td>35</td><td>35</td><td>35</td></tr>\n",
       "\t<tr><td>m</td><td>54</td><td>54</td><td>54</td></tr>\n",
       "</tbody>\n",
       "</table>\n"
      ],
      "text/latex": [
       "A data.frame: 2 × 4\n",
       "\\begin{tabular}{llll}\n",
       " gender & midterm & final & total\\\\\n",
       " <chr> & <int> & <int> & <int>\\\\\n",
       "\\hline\n",
       "\t f & 35 & 35 & 35\\\\\n",
       "\t m & 54 & 54 & 54\\\\\n",
       "\\end{tabular}\n"
      ],
      "text/markdown": [
       "\n",
       "A data.frame: 2 × 4\n",
       "\n",
       "| gender &lt;chr&gt; | midterm &lt;int&gt; | final &lt;int&gt; | total &lt;int&gt; |\n",
       "|---|---|---|---|\n",
       "| f | 35 | 35 | 35 |\n",
       "| m | 54 | 54 | 54 |\n",
       "\n"
      ],
      "text/plain": [
       "  gender midterm final total\n",
       "1 f      35      35    35   \n",
       "2 m      54      54    54   "
      ]
     },
     "metadata": {},
     "output_type": "display_data"
    }
   ],
   "source": [
    "aggregate(score[c('midterm','final','total')], list(gender=score$gender), length)"
   ]
  },
  {
   "cell_type": "code",
   "execution_count": 37,
   "id": "ea29f14a",
   "metadata": {},
   "outputs": [],
   "source": [
    "# 2.3 by 함수 이용"
   ]
  },
  {
   "cell_type": "code",
   "execution_count": 38,
   "id": "17579b97",
   "metadata": {},
   "outputs": [
    {
     "data": {
      "text/plain": [
       "score$gender: f\n",
       "    midterm           final          total      \n",
       " Min.   : 33.00   Min.   : 0.0   Min.   : 35.0  \n",
       " 1st Qu.: 52.50   1st Qu.:44.5   1st Qu.:102.5  \n",
       " Median : 64.00   Median :55.0   Median :122.0  \n",
       " Mean   : 65.57   Mean   :57.2   Mean   :122.8  \n",
       " 3rd Qu.: 76.50   3rd Qu.:76.5   3rd Qu.:152.0  \n",
       " Max.   :100.00   Max.   :89.0   Max.   :172.0  \n",
       "------------------------------------------------------------ \n",
       "score$gender: m\n",
       "    midterm           final           total      \n",
       " Min.   : 22.00   Min.   : 0.00   Min.   : 36.0  \n",
       " 1st Qu.: 50.50   1st Qu.:38.00   1st Qu.: 91.5  \n",
       " Median : 72.00   Median :56.00   Median :133.0  \n",
       " Mean   : 67.76   Mean   :54.81   Mean   :122.6  \n",
       " 3rd Qu.: 82.75   3rd Qu.:74.75   3rd Qu.:156.5  \n",
       " Max.   :100.00   Max.   :93.00   Max.   :193.0  "
      ]
     },
     "metadata": {},
     "output_type": "display_data"
    }
   ],
   "source": [
    "by(score[,3:5], score$gender, summary)"
   ]
  },
  {
   "cell_type": "code",
   "execution_count": 39,
   "id": "7d858df0",
   "metadata": {},
   "outputs": [],
   "source": [
    "# 2.4 psych::describeBy 함수 이용"
   ]
  },
  {
   "cell_type": "code",
   "execution_count": 40,
   "id": "c12a4282",
   "metadata": {},
   "outputs": [],
   "source": [
    "library(psych)"
   ]
  },
  {
   "cell_type": "code",
   "execution_count": 41,
   "id": "f6c0e85f",
   "metadata": {},
   "outputs": [
    {
     "data": {
      "text/plain": [
       "\n",
       " Descriptive statistics by group \n",
       "group: f\n",
       "        vars  n   mean    sd median trimmed   mad min max range  skew kurtosis\n",
       "midterm    1 35  65.57 16.37     64   65.69 17.79  33 100    67  0.05    -0.76\n",
       "final      2 35  57.20 21.99     55   58.83 23.72   0  89    89 -0.60    -0.06\n",
       "total      3 35 122.77 34.30    122  125.24 38.55  35 172   137 -0.56    -0.47\n",
       "          se\n",
       "midterm 2.77\n",
       "final   3.72\n",
       "total   5.80\n",
       "------------------------------------------------------------ \n",
       "group: m\n",
       "        vars  n   mean    sd median trimmed   mad min max range  skew kurtosis\n",
       "midterm    1 54  67.76 20.72     72   69.09 19.27  22 100    78 -0.57    -0.72\n",
       "final      2 54  54.81 25.51     56   56.39 27.43   0  93    93 -0.42    -0.82\n",
       "total      3 54 122.57 40.35    133  124.50 42.25  36 193   157 -0.39    -0.90\n",
       "          se\n",
       "midterm 2.82\n",
       "final   3.47\n",
       "total   5.49"
      ]
     },
     "metadata": {},
     "output_type": "display_data"
    }
   ],
   "source": [
    "describeBy(score[,3:5], score$gender)"
   ]
  },
  {
   "cell_type": "code",
   "execution_count": 42,
   "id": "7ca773ac",
   "metadata": {},
   "outputs": [],
   "source": [
    "# 3. 줄기-잎 그림, 상자그림, 히스토그램"
   ]
  },
  {
   "cell_type": "code",
   "execution_count": 43,
   "id": "f35377e0",
   "metadata": {},
   "outputs": [
    {
     "name": "stdout",
     "output_type": "stream",
     "text": [
      "\n",
      "  The decimal point is 1 digit(s) to the right of the |\n",
      "\n",
      "  0 | 004667\n",
      "  1 | 39\n",
      "  2 | 0116\n",
      "  3 | 1335688889\n",
      "  4 | 0044577889\n",
      "  5 | 00111222344558\n",
      "  6 | 023333445588\n",
      "  7 | 0001224556778\n",
      "  8 | 0001345667778999\n",
      "  9 | 13\n",
      "\n"
     ]
    }
   ],
   "source": [
    "stem(score$final)"
   ]
  },
  {
   "cell_type": "code",
   "execution_count": 44,
   "id": "54df0841",
   "metadata": {},
   "outputs": [
    {
     "name": "stdout",
     "output_type": "stream",
     "text": [
      "\n",
      "  The decimal point is 1 digit(s) to the right of the |\n",
      "\n",
      "   2 | 56\n",
      "   4 | 32569\n",
      "   6 | 66602389\n",
      "   8 | 04590789\n",
      "  10 | 2335568811236689\n",
      "  12 | 12278892444567\n",
      "  14 | 0112266890222456778\n",
      "  16 | 012334556778237\n",
      "  18 | 93\n",
      "\n"
     ]
    }
   ],
   "source": [
    "stem(score$total)"
   ]
  },
  {
   "cell_type": "code",
   "execution_count": 45,
   "id": "d4264754",
   "metadata": {},
   "outputs": [
    {
     "name": "stdout",
     "output_type": "stream",
     "text": [
      "\n",
      "  The decimal point is 1 digit(s) to the right of the |\n",
      "\n",
      "   3 | 56\n",
      "   4 | 3\n",
      "   5 | 2569\n",
      "   6 | 666\n",
      "   7 | 02389\n",
      "   8 | 0459\n",
      "   9 | 0789\n",
      "  10 | 23355688\n",
      "  11 | 11236689\n",
      "  12 | 1227889\n",
      "  13 | 2444567\n",
      "  14 | 011226689\n",
      "  15 | 0222456778\n",
      "  16 | 012334556778\n",
      "  17 | 237\n",
      "  18 | 9\n",
      "  19 | 3\n",
      "\n"
     ]
    }
   ],
   "source": [
    "stem(score$total, scale=2)"
   ]
  },
  {
   "cell_type": "code",
   "execution_count": 8,
   "id": "321a358a",
   "metadata": {},
   "outputs": [],
   "source": [
    "library(aplpack)"
   ]
  },
  {
   "cell_type": "code",
   "execution_count": 5,
   "id": "631d52b9",
   "metadata": {},
   "outputs": [
    {
     "data": {
      "text/html": [
       "<style>\n",
       ".list-inline {list-style: none; margin:0; padding: 0}\n",
       ".list-inline>li {display: inline-block}\n",
       ".list-inline>li:not(:last-child)::after {content: \"\\00b7\"; padding: 0 .5ex}\n",
       "</style>\n",
       "<ol class=list-inline><li>162</li><li>161</li><li>150</li><li>165</li><li>193</li><li>173</li><li>163</li><li>189</li><li>167</li><li>155</li><li>135</li><li>134</li><li>136</li><li>66</li><li>177</li><li>113</li><li>166</li><li>157</li><li>164</li><li>70</li><li>116</li><li>142</li><li>85</li><li>84</li><li>66</li><li>106</li><li>127</li><li>36</li><li>89</li><li>122</li><li>79</li><li>142</li><li>128</li><li>103</li><li>105</li><li>52</li><li>158</li><li>146</li><li>167</li><li>43</li><li>134</li><li>56</li><li>78</li><li>119</li><li>146</li><li>72</li><li>55</li><li>134</li><li>137</li><li>108</li><li>132</li><li>149</li><li>108</li><li>99</li></ol>\n"
      ],
      "text/latex": [
       "\\begin{enumerate*}\n",
       "\\item 162\n",
       "\\item 161\n",
       "\\item 150\n",
       "\\item 165\n",
       "\\item 193\n",
       "\\item 173\n",
       "\\item 163\n",
       "\\item 189\n",
       "\\item 167\n",
       "\\item 155\n",
       "\\item 135\n",
       "\\item 134\n",
       "\\item 136\n",
       "\\item 66\n",
       "\\item 177\n",
       "\\item 113\n",
       "\\item 166\n",
       "\\item 157\n",
       "\\item 164\n",
       "\\item 70\n",
       "\\item 116\n",
       "\\item 142\n",
       "\\item 85\n",
       "\\item 84\n",
       "\\item 66\n",
       "\\item 106\n",
       "\\item 127\n",
       "\\item 36\n",
       "\\item 89\n",
       "\\item 122\n",
       "\\item 79\n",
       "\\item 142\n",
       "\\item 128\n",
       "\\item 103\n",
       "\\item 105\n",
       "\\item 52\n",
       "\\item 158\n",
       "\\item 146\n",
       "\\item 167\n",
       "\\item 43\n",
       "\\item 134\n",
       "\\item 56\n",
       "\\item 78\n",
       "\\item 119\n",
       "\\item 146\n",
       "\\item 72\n",
       "\\item 55\n",
       "\\item 134\n",
       "\\item 137\n",
       "\\item 108\n",
       "\\item 132\n",
       "\\item 149\n",
       "\\item 108\n",
       "\\item 99\n",
       "\\end{enumerate*}\n"
      ],
      "text/markdown": [
       "1. 162\n",
       "2. 161\n",
       "3. 150\n",
       "4. 165\n",
       "5. 193\n",
       "6. 173\n",
       "7. 163\n",
       "8. 189\n",
       "9. 167\n",
       "10. 155\n",
       "11. 135\n",
       "12. 134\n",
       "13. 136\n",
       "14. 66\n",
       "15. 177\n",
       "16. 113\n",
       "17. 166\n",
       "18. 157\n",
       "19. 164\n",
       "20. 70\n",
       "21. 116\n",
       "22. 142\n",
       "23. 85\n",
       "24. 84\n",
       "25. 66\n",
       "26. 106\n",
       "27. 127\n",
       "28. 36\n",
       "29. 89\n",
       "30. 122\n",
       "31. 79\n",
       "32. 142\n",
       "33. 128\n",
       "34. 103\n",
       "35. 105\n",
       "36. 52\n",
       "37. 158\n",
       "38. 146\n",
       "39. 167\n",
       "40. 43\n",
       "41. 134\n",
       "42. 56\n",
       "43. 78\n",
       "44. 119\n",
       "45. 146\n",
       "46. 72\n",
       "47. 55\n",
       "48. 134\n",
       "49. 137\n",
       "50. 108\n",
       "51. 132\n",
       "52. 149\n",
       "53. 108\n",
       "54. 99\n",
       "\n",
       "\n"
      ],
      "text/plain": [
       " [1] 162 161 150 165 193 173 163 189 167 155 135 134 136  66 177 113 166 157 164\n",
       "[20]  70 116 142  85  84  66 106 127  36  89 122  79 142 128 103 105  52 158 146\n",
       "[39] 167  43 134  56  78 119 146  72  55 134 137 108 132 149 108  99"
      ]
     },
     "metadata": {},
     "output_type": "display_data"
    }
   ],
   "source": [
    "maleScore = score$total[score$gender=='m']\n",
    "maleScore"
   ]
  },
  {
   "cell_type": "code",
   "execution_count": 6,
   "id": "800dde7a",
   "metadata": {},
   "outputs": [
    {
     "data": {
      "text/html": [
       "<style>\n",
       ".list-inline {list-style: none; margin:0; padding: 0}\n",
       ".list-inline>li {display: inline-block}\n",
       ".list-inline>li:not(:last-child)::after {content: \"\\00b7\"; padding: 0 .5ex}\n",
       "</style>\n",
       "<ol class=list-inline><li>140</li><li>163</li><li>103</li><li>122</li><li>66</li><li>157</li><li>165</li><li>172</li><li>111</li><li>152</li><li>148</li><li>73</li><li>154</li><li>97</li><li>90</li><li>118</li><li>98</li><li>105</li><li>102</li><li>160</li><li>35</li><li>112</li><li>129</li><li>152</li><li>116</li><li>121</li><li>80</li><li>141</li><li>128</li><li>168</li><li>152</li><li>59</li><li>141</li><li>111</li><li>156</li></ol>\n"
      ],
      "text/latex": [
       "\\begin{enumerate*}\n",
       "\\item 140\n",
       "\\item 163\n",
       "\\item 103\n",
       "\\item 122\n",
       "\\item 66\n",
       "\\item 157\n",
       "\\item 165\n",
       "\\item 172\n",
       "\\item 111\n",
       "\\item 152\n",
       "\\item 148\n",
       "\\item 73\n",
       "\\item 154\n",
       "\\item 97\n",
       "\\item 90\n",
       "\\item 118\n",
       "\\item 98\n",
       "\\item 105\n",
       "\\item 102\n",
       "\\item 160\n",
       "\\item 35\n",
       "\\item 112\n",
       "\\item 129\n",
       "\\item 152\n",
       "\\item 116\n",
       "\\item 121\n",
       "\\item 80\n",
       "\\item 141\n",
       "\\item 128\n",
       "\\item 168\n",
       "\\item 152\n",
       "\\item 59\n",
       "\\item 141\n",
       "\\item 111\n",
       "\\item 156\n",
       "\\end{enumerate*}\n"
      ],
      "text/markdown": [
       "1. 140\n",
       "2. 163\n",
       "3. 103\n",
       "4. 122\n",
       "5. 66\n",
       "6. 157\n",
       "7. 165\n",
       "8. 172\n",
       "9. 111\n",
       "10. 152\n",
       "11. 148\n",
       "12. 73\n",
       "13. 154\n",
       "14. 97\n",
       "15. 90\n",
       "16. 118\n",
       "17. 98\n",
       "18. 105\n",
       "19. 102\n",
       "20. 160\n",
       "21. 35\n",
       "22. 112\n",
       "23. 129\n",
       "24. 152\n",
       "25. 116\n",
       "26. 121\n",
       "27. 80\n",
       "28. 141\n",
       "29. 128\n",
       "30. 168\n",
       "31. 152\n",
       "32. 59\n",
       "33. 141\n",
       "34. 111\n",
       "35. 156\n",
       "\n",
       "\n"
      ],
      "text/plain": [
       " [1] 140 163 103 122  66 157 165 172 111 152 148  73 154  97  90 118  98 105 102\n",
       "[20] 160  35 112 129 152 116 121  80 141 128 168 152  59 141 111 156"
      ]
     },
     "metadata": {},
     "output_type": "display_data"
    }
   ],
   "source": [
    "femaleScore = score$total[score$gender=='f']\n",
    "femaleScore"
   ]
  },
  {
   "cell_type": "code",
   "execution_count": 9,
   "id": "67a7a27e",
   "metadata": {},
   "outputs": [
    {
     "name": "stdout",
     "output_type": "stream",
     "text": [
      "____________________________________\n",
      "  1 | 2: represents 12, leaf unit: 1 \n",
      "      maleScore      femaleScore\n",
      "____________________________________\n",
      "   1          6|  3 |5          1   \n",
      "   2          3|  4 |               \n",
      "   5        652|  5 |9          2   \n",
      "   7         66|  6 |6          3   \n",
      "  11       9820|  7 |3          4   \n",
      "  14        954|  8 |0          5   \n",
      "  15          9|  9 |078        8   \n",
      "  20      88653| 10 |235       11   \n",
      "  23        963| 11 |11268     16   \n",
      "  26        872| 12 |1289      (4)  \n",
      "  (7)   7654442| 13 |               \n",
      "  21      96622| 14 |0118      15   \n",
      "  16       8750| 15 |222467    11   \n",
      "  12   77654321| 16 |0358       5   \n",
      "   4         73| 17 |2          1   \n",
      "   2          9| 18 |               \n",
      "   1          3| 19 |               \n",
      "               | 20 |               \n",
      "____________________________________\n",
      "n:           54      35         \n",
      "____________________________________\n"
     ]
    }
   ],
   "source": [
    "stem.leaf.backback(maleScore, femaleScore)"
   ]
  },
  {
   "cell_type": "code",
   "execution_count": 10,
   "id": "dc237aa6",
   "metadata": {},
   "outputs": [
    {
     "data": {
      "text/html": [
       "133"
      ],
      "text/latex": [
       "133"
      ],
      "text/markdown": [
       "133"
      ],
      "text/plain": [
       "[1] 133"
      ]
     },
     "metadata": {},
     "output_type": "display_data"
    }
   ],
   "source": [
    "median(maleScore)"
   ]
  },
  {
   "cell_type": "code",
   "execution_count": 11,
   "id": "f8843c08",
   "metadata": {},
   "outputs": [
    {
     "data": {
      "text/html": [
       "122"
      ],
      "text/latex": [
       "122"
      ],
      "text/markdown": [
       "122"
      ],
      "text/plain": [
       "[1] 122"
      ]
     },
     "metadata": {},
     "output_type": "display_data"
    }
   ],
   "source": [
    "median(femaleScore)"
   ]
  },
  {
   "cell_type": "code",
   "execution_count": 12,
   "id": "0e909556",
   "metadata": {},
   "outputs": [],
   "source": [
    "# R 3.3 상자그림"
   ]
  },
  {
   "cell_type": "code",
   "execution_count": 13,
   "id": "81614a7a",
   "metadata": {},
   "outputs": [],
   "source": [
    "par(mfrow=c(1, 2))"
   ]
  },
  {
   "cell_type": "code",
   "execution_count": 15,
   "id": "3f69d5ca",
   "metadata": {},
   "outputs": [
    {
     "data": {
      "image/png": "[encoded data removed]",
      "text/plain": [
       "Plot with title “boxplot: total~gender”"
      ]
     },
     "metadata": {
      "image/png": {
       "height": 420,
       "width": 420
      }
     },
     "output_type": "display_data"
    }
   ],
   "source": [
    "boxplot(total ~ gender, data=score)\n",
    "title('boxplot: total~gender')"
   ]
  },
  {
   "cell_type": "code",
   "execution_count": 17,
   "id": "ede56096",
   "metadata": {},
   "outputs": [
    {
     "data": {
      "image/png": "[encoded data removed]",
      "text/plain": [
       "Plot with title “boxplot: variables”"
      ]
     },
     "metadata": {
      "image/png": {
       "height": 420,
       "width": 420
      }
     },
     "output_type": "display_data"
    }
   ],
   "source": [
    "boxplot(femaleScore, maleScore)\n",
    "title('boxplot: variables')"
   ]
  },
  {
   "cell_type": "code",
   "execution_count": 21,
   "id": "75395a2f",
   "metadata": {},
   "outputs": [
    {
     "data": {
      "image/png": "[encoded data removed]",
      "text/plain": [
       "Plot with title “Histogram of femaleScore”"
      ]
     },
     "metadata": {
      "image/png": {
       "height": 420,
       "width": 420
      }
     },
     "output_type": "display_data"
    }
   ],
   "source": [
    "par(mfrow=c(2,1))\n",
    "hist(maleScore, col=2)\n",
    "hist(femaleScore, col=3)"
   ]
  },
  {
   "cell_type": "code",
   "execution_count": 1,
   "id": "f2cee9f6",
   "metadata": {},
   "outputs": [],
   "source": [
    "# 4.1 빈도표 및 분할표"
   ]
  },
  {
   "cell_type": "code",
   "execution_count": 3,
   "id": "16677d54",
   "metadata": {},
   "outputs": [
    {
     "data": {
      "text/html": [
       "<table class=\"dataframe\">\n",
       "<caption>A data.frame: 6 × 4</caption>\n",
       "<thead>\n",
       "\t<tr><th></th><th scope=col>college</th><th scope=col>grade</th><th scope=col>q1</th><th scope=col>q2</th></tr>\n",
       "\t<tr><th></th><th scope=col>&lt;chr&gt;</th><th scope=col>&lt;int&gt;</th><th scope=col>&lt;int&gt;</th><th scope=col>&lt;int&gt;</th></tr>\n",
       "</thead>\n",
       "<tbody>\n",
       "\t<tr><th scope=row>1</th><td>med</td><td>1</td><td>1</td><td>1</td></tr>\n",
       "\t<tr><th scope=row>2</th><td>med</td><td>1</td><td>1</td><td>1</td></tr>\n",
       "\t<tr><th scope=row>3</th><td>med</td><td>1</td><td>1</td><td>1</td></tr>\n",
       "\t<tr><th scope=row>4</th><td>med</td><td>2</td><td>1</td><td>2</td></tr>\n",
       "\t<tr><th scope=row>5</th><td>med</td><td>2</td><td>2</td><td>1</td></tr>\n",
       "\t<tr><th scope=row>6</th><td>med</td><td>2</td><td>1</td><td>1</td></tr>\n",
       "</tbody>\n",
       "</table>\n"
      ],
      "text/latex": [
       "A data.frame: 6 × 4\n",
       "\\begin{tabular}{r|llll}\n",
       "  & college & grade & q1 & q2\\\\\n",
       "  & <chr> & <int> & <int> & <int>\\\\\n",
       "\\hline\n",
       "\t1 & med & 1 & 1 & 1\\\\\n",
       "\t2 & med & 1 & 1 & 1\\\\\n",
       "\t3 & med & 1 & 1 & 1\\\\\n",
       "\t4 & med & 2 & 1 & 2\\\\\n",
       "\t5 & med & 2 & 2 & 1\\\\\n",
       "\t6 & med & 2 & 1 & 1\\\\\n",
       "\\end{tabular}\n"
      ],
      "text/markdown": [
       "\n",
       "A data.frame: 6 × 4\n",
       "\n",
       "| <!--/--> | college &lt;chr&gt; | grade &lt;int&gt; | q1 &lt;int&gt; | q2 &lt;int&gt; |\n",
       "|---|---|---|---|---|\n",
       "| 1 | med | 1 | 1 | 1 |\n",
       "| 2 | med | 1 | 1 | 1 |\n",
       "| 3 | med | 1 | 1 | 1 |\n",
       "| 4 | med | 2 | 1 | 2 |\n",
       "| 5 | med | 2 | 2 | 1 |\n",
       "| 6 | med | 2 | 1 | 1 |\n",
       "\n"
      ],
      "text/plain": [
       "  college grade q1 q2\n",
       "1 med     1     1  1 \n",
       "2 med     1     1  1 \n",
       "3 med     1     1  1 \n",
       "4 med     2     1  2 \n",
       "5 med     2     2  1 \n",
       "6 med     2     1  1 "
      ]
     },
     "metadata": {},
     "output_type": "display_data"
    }
   ],
   "source": [
    "enqete <- read.csv('../data/enqete.csv', header=T)\n",
    "head(enqete)"
   ]
  },
  {
   "cell_type": "code",
   "execution_count": 5,
   "id": "fd8bffd0",
   "metadata": {},
   "outputs": [
    {
     "data": {
      "text/html": [
       "<style>\n",
       ".list-inline {list-style: none; margin:0; padding: 0}\n",
       ".list-inline>li {display: inline-block}\n",
       ".list-inline>li:not(:last-child)::after {content: \"\\00b7\"; padding: 0 .5ex}\n",
       "</style>\n",
       "<ol class=list-inline><li>1</li><li>1</li><li>1</li><li>2</li><li>2</li><li>2</li><li>2</li><li>3</li><li>3</li><li>3</li><li>4</li><li>4</li><li>4</li><li>4</li><li>1</li><li>1</li><li>1</li><li>1</li><li>2</li><li>2</li><li>2</li><li>2</li><li>2</li><li>3</li><li>3</li><li>3</li><li>3</li><li>3</li><li>3</li><li>3</li><li>3</li><li>3</li><li>3</li><li>3</li><li>3</li><li>4</li><li>4</li><li>4</li><li>4</li><li>4</li><li>4</li><li>2</li><li>2</li><li>2</li><li>2</li><li>3</li><li>3</li><li>3</li><li>3</li><li>3</li><li>4</li><li>4</li><li>4</li><li>4</li><li>4</li><li>1</li><li>1</li><li>1</li><li>1</li><li>1</li><li>2</li><li>1</li><li>1</li><li>1</li><li>1</li><li>1</li><li>1</li><li>1</li><li>1</li><li>1</li><li>1</li><li>2</li><li>2</li><li>2</li><li>2</li><li>2</li><li>2</li><li>2</li><li>2</li><li>2</li><li>3</li><li>3</li><li>4</li><li>4</li><li>4</li><li>4</li><li>4</li><li>4</li><li>4</li><li>4</li><li>1</li><li>1</li><li>1</li><li>1</li><li>1</li><li>1</li><li>1</li><li>1</li><li>1</li><li>1</li><li>1</li><li>1</li><li>2</li><li>2</li><li>2</li><li>2</li><li>2</li><li>2</li><li>2</li><li>2</li><li>2</li><li>2</li><li>3</li><li>3</li><li>3</li><li>3</li><li>3</li><li>3</li><li>3</li><li>3</li><li>3</li><li>3</li><li>4</li><li>4</li><li>4</li><li>4</li><li>4</li><li>4</li><li>1</li><li>1</li><li>1</li><li>1</li><li>1</li><li>2</li><li>2</li><li>2</li><li>2</li><li>2</li><li>3</li><li>3</li><li>3</li><li>3</li><li>3</li><li>4</li><li>4</li><li>4</li><li>4</li><li>4</li><li>4</li><li>4</li><li>4</li><li>4</li><li>4</li><li>4</li><li>4</li><li>4</li><li>4</li><li>4</li><li>1</li><li>2</li><li>2</li><li>2</li><li>2</li><li>2</li><li>2</li><li>2</li><li>2</li><li>2</li><li>2</li><li>2</li><li>2</li><li>2</li><li>2</li><li>2</li><li>2</li><li>2</li><li>2</li><li>2</li><li>2</li><li>2</li><li>1</li><li>1</li><li>1</li><li>1</li><li>1</li><li>1</li><li>1</li><li>1</li><li>1</li><li>1</li><li>1</li><li>1</li><li>1</li><li>1</li><li>1</li><li>1</li><li>1</li><li>1</li><li>1</li><li>1</li><li>3</li><li>3</li><li>3</li><li>3</li><li>1</li><li>3</li><li>3</li><li>3</li><li>3</li><li>3</li><li>3</li><li>3</li><li>3</li><li>3</li><li>3</li><li>3</li><li>3</li><li>3</li><li>3</li><li>3</li><li>3</li><li>3</li><li>2</li><li>4</li><li>4</li><li>4</li><li>4</li><li>4</li><li>3</li><li>2</li><li>2</li><li>1</li><li>1</li><li>1</li><li>1</li><li>1</li><li>1</li><li>4</li><li>4</li><li>4</li><li>4</li><li>4</li><li>4</li><li>4</li><li>3</li><li>3</li><li>3</li><li>3</li><li>3</li><li>3</li><li>3</li><li>2</li><li>2</li><li>2</li><li>2</li><li>2</li><li>2</li><li>2</li><li>2</li><li>4</li><li>1</li><li>1</li><li>1</li><li>1</li><li>1</li><li>1</li><li>1</li><li>1</li><li>1</li><li>1</li><li>1</li><li>2</li><li>2</li><li>2</li><li>2</li><li>2</li><li>2</li><li>2</li><li>2</li><li>2</li><li>3</li><li>3</li><li>3</li><li>3</li><li>3</li><li>3</li><li>3</li><li>3</li><li>3</li><li>3</li><li>4</li><li>4</li><li>4</li><li>4</li><li>4</li><li>4</li><li>4</li><li>4</li><li>4</li><li>4</li><li>1</li><li>1</li><li>1</li><li>2</li><li>2</li><li>2</li><li>2</li><li>3</li><li>3</li><li>3</li><li>3</li><li>4</li><li>4</li><li>4</li><li>4</li><li>4</li><li>4</li><li>4</li><li>4</li><li>4</li><li>4</li><li>4</li><li>4</li><li>4</li><li>1</li><li>3</li><li>2</li><li>4</li><li>1</li><li>3</li><li>2</li><li>2</li><li>2</li><li>3</li><li>1</li><li>1</li><li>1</li><li>4</li><li>3</li><li>4</li><li>4</li><li>1</li><li>2</li><li>1</li><li>2</li><li>1</li><li>3</li><li>1</li><li>4</li><li>1</li><li>1</li><li>3</li><li>2</li><li>3</li><li>3</li><li>3</li><li>4</li><li>1</li><li>2</li><li>4</li><li>3</li><li>4</li><li>1</li><li>1</li><li>1</li><li>1</li><li>1</li><li>1</li><li>1</li><li>1</li><li>1</li><li>1</li><li>2</li><li>2</li><li>2</li><li>2</li><li>2</li><li>2</li><li>2</li><li>2</li><li>2</li><li>2</li><li>2</li><li>2</li><li>3</li><li>3</li><li>3</li><li>3</li><li>3</li><li>3</li><li>3</li><li>3</li><li>3</li><li>3</li><li>4</li><li>4</li><li>4</li><li>4</li><li>4</li><li>4</li></ol>\n"
      ],
      "text/latex": [
       "\\begin{enumerate*}\n",
       "\\item 1\n",
       "\\item 1\n",
       "\\item 1\n",
       "\\item 2\n",
       "\\item 2\n",
       "\\item 2\n",
       "\\item 2\n",
       "\\item 3\n",
       "\\item 3\n",
       "\\item 3\n",
       "\\item 4\n",
       "\\item 4\n",
       "\\item 4\n",
       "\\item 4\n",
       "\\item 1\n",
       "\\item 1\n",
       "\\item 1\n",
       "\\item 1\n",
       "\\item 2\n",
       "\\item 2\n",
       "\\item 2\n",
       "\\item 2\n",
       "\\item 2\n",
       "\\item 3\n",
       "\\item 3\n",
       "\\item 3\n",
       "\\item 3\n",
       "\\item 3\n",
       "\\item 3\n",
       "\\item 3\n",
       "\\item 3\n",
       "\\item 3\n",
       "\\item 3\n",
       "\\item 3\n",
       "\\item 3\n",
       "\\item 4\n",
       "\\item 4\n",
       "\\item 4\n",
       "\\item 4\n",
       "\\item 4\n",
       "\\item 4\n",
       "\\item 2\n",
       "\\item 2\n",
       "\\item 2\n",
       "\\item 2\n",
       "\\item 3\n",
       "\\item 3\n",
       "\\item 3\n",
       "\\item 3\n",
       "\\item 3\n",
       "\\item 4\n",
       "\\item 4\n",
       "\\item 4\n",
       "\\item 4\n",
       "\\item 4\n",
       "\\item 1\n",
       "\\item 1\n",
       "\\item 1\n",
       "\\item 1\n",
       "\\item 1\n",
       "\\item 2\n",
       "\\item 1\n",
       "\\item 1\n",
       "\\item 1\n",
       "\\item 1\n",
       "\\item 1\n",
       "\\item 1\n",
       "\\item 1\n",
       "\\item 1\n",
       "\\item 1\n",
       "\\item 1\n",
       "\\item 2\n",
       "\\item 2\n",
       "\\item 2\n",
       "\\item 2\n",
       "\\item 2\n",
       "\\item 2\n",
       "\\item 2\n",
       "\\item 2\n",
       "\\item 2\n",
       "\\item 3\n",
       "\\item 3\n",
       "\\item 4\n",
       "\\item 4\n",
       "\\item 4\n",
       "\\item 4\n",
       "\\item 4\n",
       "\\item 4\n",
       "\\item 4\n",
       "\\item 4\n",
       "\\item 1\n",
       "\\item 1\n",
       "\\item 1\n",
       "\\item 1\n",
       "\\item 1\n",
       "\\item 1\n",
       "\\item 1\n",
       "\\item 1\n",
       "\\item 1\n",
       "\\item 1\n",
       "\\item 1\n",
       "\\item 1\n",
       "\\item 2\n",
       "\\item 2\n",
       "\\item 2\n",
       "\\item 2\n",
       "\\item 2\n",
       "\\item 2\n",
       "\\item 2\n",
       "\\item 2\n",
       "\\item 2\n",
       "\\item 2\n",
       "\\item 3\n",
       "\\item 3\n",
       "\\item 3\n",
       "\\item 3\n",
       "\\item 3\n",
       "\\item 3\n",
       "\\item 3\n",
       "\\item 3\n",
       "\\item 3\n",
       "\\item 3\n",
       "\\item 4\n",
       "\\item 4\n",
       "\\item 4\n",
       "\\item 4\n",
       "\\item 4\n",
       "\\item 4\n",
       "\\item 1\n",
       "\\item 1\n",
       "\\item 1\n",
       "\\item 1\n",
       "\\item 1\n",
       "\\item 2\n",
       "\\item 2\n",
       "\\item 2\n",
       "\\item 2\n",
       "\\item 2\n",
       "\\item 3\n",
       "\\item 3\n",
       "\\item 3\n",
       "\\item 3\n",
       "\\item 3\n",
       "\\item 4\n",
       "\\item 4\n",
       "\\item 4\n",
       "\\item 4\n",
       "\\item 4\n",
       "\\item 4\n",
       "\\item 4\n",
       "\\item 4\n",
       "\\item 4\n",
       "\\item 4\n",
       "\\item 4\n",
       "\\item 4\n",
       "\\item 4\n",
       "\\item 4\n",
       "\\item 4\n",
       "\\item 1\n",
       "\\item 2\n",
       "\\item 2\n",
       "\\item 2\n",
       "\\item 2\n",
       "\\item 2\n",
       "\\item 2\n",
       "\\item 2\n",
       "\\item 2\n",
       "\\item 2\n",
       "\\item 2\n",
       "\\item 2\n",
       "\\item 2\n",
       "\\item 2\n",
       "\\item 2\n",
       "\\item 2\n",
       "\\item 2\n",
       "\\item 2\n",
       "\\item 2\n",
       "\\item 2\n",
       "\\item 2\n",
       "\\item 2\n",
       "\\item 1\n",
       "\\item 1\n",
       "\\item 1\n",
       "\\item 1\n",
       "\\item 1\n",
       "\\item 1\n",
       "\\item 1\n",
       "\\item 1\n",
       "\\item 1\n",
       "\\item 1\n",
       "\\item 1\n",
       "\\item 1\n",
       "\\item 1\n",
       "\\item 1\n",
       "\\item 1\n",
       "\\item 1\n",
       "\\item 1\n",
       "\\item 1\n",
       "\\item 1\n",
       "\\item 1\n",
       "\\item 3\n",
       "\\item 3\n",
       "\\item 3\n",
       "\\item 3\n",
       "\\item 1\n",
       "\\item 3\n",
       "\\item 3\n",
       "\\item 3\n",
       "\\item 3\n",
       "\\item 3\n",
       "\\item 3\n",
       "\\item 3\n",
       "\\item 3\n",
       "\\item 3\n",
       "\\item 3\n",
       "\\item 3\n",
       "\\item 3\n",
       "\\item 3\n",
       "\\item 3\n",
       "\\item 3\n",
       "\\item 3\n",
       "\\item 3\n",
       "\\item 2\n",
       "\\item 4\n",
       "\\item 4\n",
       "\\item 4\n",
       "\\item 4\n",
       "\\item 4\n",
       "\\item 3\n",
       "\\item 2\n",
       "\\item 2\n",
       "\\item 1\n",
       "\\item 1\n",
       "\\item 1\n",
       "\\item 1\n",
       "\\item 1\n",
       "\\item 1\n",
       "\\item 4\n",
       "\\item 4\n",
       "\\item 4\n",
       "\\item 4\n",
       "\\item 4\n",
       "\\item 4\n",
       "\\item 4\n",
       "\\item 3\n",
       "\\item 3\n",
       "\\item 3\n",
       "\\item 3\n",
       "\\item 3\n",
       "\\item 3\n",
       "\\item 3\n",
       "\\item 2\n",
       "\\item 2\n",
       "\\item 2\n",
       "\\item 2\n",
       "\\item 2\n",
       "\\item 2\n",
       "\\item 2\n",
       "\\item 2\n",
       "\\item 4\n",
       "\\item 1\n",
       "\\item 1\n",
       "\\item 1\n",
       "\\item 1\n",
       "\\item 1\n",
       "\\item 1\n",
       "\\item 1\n",
       "\\item 1\n",
       "\\item 1\n",
       "\\item 1\n",
       "\\item 1\n",
       "\\item 2\n",
       "\\item 2\n",
       "\\item 2\n",
       "\\item 2\n",
       "\\item 2\n",
       "\\item 2\n",
       "\\item 2\n",
       "\\item 2\n",
       "\\item 2\n",
       "\\item 3\n",
       "\\item 3\n",
       "\\item 3\n",
       "\\item 3\n",
       "\\item 3\n",
       "\\item 3\n",
       "\\item 3\n",
       "\\item 3\n",
       "\\item 3\n",
       "\\item 3\n",
       "\\item 4\n",
       "\\item 4\n",
       "\\item 4\n",
       "\\item 4\n",
       "\\item 4\n",
       "\\item 4\n",
       "\\item 4\n",
       "\\item 4\n",
       "\\item 4\n",
       "\\item 4\n",
       "\\item 1\n",
       "\\item 1\n",
       "\\item 1\n",
       "\\item 2\n",
       "\\item 2\n",
       "\\item 2\n",
       "\\item 2\n",
       "\\item 3\n",
       "\\item 3\n",
       "\\item 3\n",
       "\\item 3\n",
       "\\item 4\n",
       "\\item 4\n",
       "\\item 4\n",
       "\\item 4\n",
       "\\item 4\n",
       "\\item 4\n",
       "\\item 4\n",
       "\\item 4\n",
       "\\item 4\n",
       "\\item 4\n",
       "\\item 4\n",
       "\\item 4\n",
       "\\item 4\n",
       "\\item 1\n",
       "\\item 3\n",
       "\\item 2\n",
       "\\item 4\n",
       "\\item 1\n",
       "\\item 3\n",
       "\\item 2\n",
       "\\item 2\n",
       "\\item 2\n",
       "\\item 3\n",
       "\\item 1\n",
       "\\item 1\n",
       "\\item 1\n",
       "\\item 4\n",
       "\\item 3\n",
       "\\item 4\n",
       "\\item 4\n",
       "\\item 1\n",
       "\\item 2\n",
       "\\item 1\n",
       "\\item 2\n",
       "\\item 1\n",
       "\\item 3\n",
       "\\item 1\n",
       "\\item 4\n",
       "\\item 1\n",
       "\\item 1\n",
       "\\item 3\n",
       "\\item 2\n",
       "\\item 3\n",
       "\\item 3\n",
       "\\item 3\n",
       "\\item 4\n",
       "\\item 1\n",
       "\\item 2\n",
       "\\item 4\n",
       "\\item 3\n",
       "\\item 4\n",
       "\\item 1\n",
       "\\item 1\n",
       "\\item 1\n",
       "\\item 1\n",
       "\\item 1\n",
       "\\item 1\n",
       "\\item 1\n",
       "\\item 1\n",
       "\\item 1\n",
       "\\item 1\n",
       "\\item 2\n",
       "\\item 2\n",
       "\\item 2\n",
       "\\item 2\n",
       "\\item 2\n",
       "\\item 2\n",
       "\\item 2\n",
       "\\item 2\n",
       "\\item 2\n",
       "\\item 2\n",
       "\\item 2\n",
       "\\item 2\n",
       "\\item 3\n",
       "\\item 3\n",
       "\\item 3\n",
       "\\item 3\n",
       "\\item 3\n",
       "\\item 3\n",
       "\\item 3\n",
       "\\item 3\n",
       "\\item 3\n",
       "\\item 3\n",
       "\\item 4\n",
       "\\item 4\n",
       "\\item 4\n",
       "\\item 4\n",
       "\\item 4\n",
       "\\item 4\n",
       "\\end{enumerate*}\n"
      ],
      "text/markdown": [
       "1. 1\n",
       "2. 1\n",
       "3. 1\n",
       "4. 2\n",
       "5. 2\n",
       "6. 2\n",
       "7. 2\n",
       "8. 3\n",
       "9. 3\n",
       "10. 3\n",
       "11. 4\n",
       "12. 4\n",
       "13. 4\n",
       "14. 4\n",
       "15. 1\n",
       "16. 1\n",
       "17. 1\n",
       "18. 1\n",
       "19. 2\n",
       "20. 2\n",
       "21. 2\n",
       "22. 2\n",
       "23. 2\n",
       "24. 3\n",
       "25. 3\n",
       "26. 3\n",
       "27. 3\n",
       "28. 3\n",
       "29. 3\n",
       "30. 3\n",
       "31. 3\n",
       "32. 3\n",
       "33. 3\n",
       "34. 3\n",
       "35. 3\n",
       "36. 4\n",
       "37. 4\n",
       "38. 4\n",
       "39. 4\n",
       "40. 4\n",
       "41. 4\n",
       "42. 2\n",
       "43. 2\n",
       "44. 2\n",
       "45. 2\n",
       "46. 3\n",
       "47. 3\n",
       "48. 3\n",
       "49. 3\n",
       "50. 3\n",
       "51. 4\n",
       "52. 4\n",
       "53. 4\n",
       "54. 4\n",
       "55. 4\n",
       "56. 1\n",
       "57. 1\n",
       "58. 1\n",
       "59. 1\n",
       "60. 1\n",
       "61. 2\n",
       "62. 1\n",
       "63. 1\n",
       "64. 1\n",
       "65. 1\n",
       "66. 1\n",
       "67. 1\n",
       "68. 1\n",
       "69. 1\n",
       "70. 1\n",
       "71. 1\n",
       "72. 2\n",
       "73. 2\n",
       "74. 2\n",
       "75. 2\n",
       "76. 2\n",
       "77. 2\n",
       "78. 2\n",
       "79. 2\n",
       "80. 2\n",
       "81. 3\n",
       "82. 3\n",
       "83. 4\n",
       "84. 4\n",
       "85. 4\n",
       "86. 4\n",
       "87. 4\n",
       "88. 4\n",
       "89. 4\n",
       "90. 4\n",
       "91. 1\n",
       "92. 1\n",
       "93. 1\n",
       "94. 1\n",
       "95. 1\n",
       "96. 1\n",
       "97. 1\n",
       "98. 1\n",
       "99. 1\n",
       "100. 1\n",
       "101. 1\n",
       "102. 1\n",
       "103. 2\n",
       "104. 2\n",
       "105. 2\n",
       "106. 2\n",
       "107. 2\n",
       "108. 2\n",
       "109. 2\n",
       "110. 2\n",
       "111. 2\n",
       "112. 2\n",
       "113. 3\n",
       "114. 3\n",
       "115. 3\n",
       "116. 3\n",
       "117. 3\n",
       "118. 3\n",
       "119. 3\n",
       "120. 3\n",
       "121. 3\n",
       "122. 3\n",
       "123. 4\n",
       "124. 4\n",
       "125. 4\n",
       "126. 4\n",
       "127. 4\n",
       "128. 4\n",
       "129. 1\n",
       "130. 1\n",
       "131. 1\n",
       "132. 1\n",
       "133. 1\n",
       "134. 2\n",
       "135. 2\n",
       "136. 2\n",
       "137. 2\n",
       "138. 2\n",
       "139. 3\n",
       "140. 3\n",
       "141. 3\n",
       "142. 3\n",
       "143. 3\n",
       "144. 4\n",
       "145. 4\n",
       "146. 4\n",
       "147. 4\n",
       "148. 4\n",
       "149. 4\n",
       "150. 4\n",
       "151. 4\n",
       "152. 4\n",
       "153. 4\n",
       "154. 4\n",
       "155. 4\n",
       "156. 4\n",
       "157. 4\n",
       "158. 4\n",
       "159. 1\n",
       "160. 2\n",
       "161. 2\n",
       "162. 2\n",
       "163. 2\n",
       "164. 2\n",
       "165. 2\n",
       "166. 2\n",
       "167. 2\n",
       "168. 2\n",
       "169. 2\n",
       "170. 2\n",
       "171. 2\n",
       "172. 2\n",
       "173. 2\n",
       "174. 2\n",
       "175. 2\n",
       "176. 2\n",
       "177. 2\n",
       "178. 2\n",
       "179. 2\n",
       "180. 2\n",
       "181. 1\n",
       "182. 1\n",
       "183. 1\n",
       "184. 1\n",
       "185. 1\n",
       "186. 1\n",
       "187. 1\n",
       "188. 1\n",
       "189. 1\n",
       "190. 1\n",
       "191. 1\n",
       "192. 1\n",
       "193. 1\n",
       "194. 1\n",
       "195. 1\n",
       "196. 1\n",
       "197. 1\n",
       "198. 1\n",
       "199. 1\n",
       "200. 1\n",
       "201. 3\n",
       "202. 3\n",
       "203. 3\n",
       "204. 3\n",
       "205. 1\n",
       "206. 3\n",
       "207. 3\n",
       "208. 3\n",
       "209. 3\n",
       "210. 3\n",
       "211. 3\n",
       "212. 3\n",
       "213. 3\n",
       "214. 3\n",
       "215. 3\n",
       "216. 3\n",
       "217. 3\n",
       "218. 3\n",
       "219. 3\n",
       "220. 3\n",
       "221. 3\n",
       "222. 3\n",
       "223. 2\n",
       "224. 4\n",
       "225. 4\n",
       "226. 4\n",
       "227. 4\n",
       "228. 4\n",
       "229. 3\n",
       "230. 2\n",
       "231. 2\n",
       "232. 1\n",
       "233. 1\n",
       "234. 1\n",
       "235. 1\n",
       "236. 1\n",
       "237. 1\n",
       "238. 4\n",
       "239. 4\n",
       "240. 4\n",
       "241. 4\n",
       "242. 4\n",
       "243. 4\n",
       "244. 4\n",
       "245. 3\n",
       "246. 3\n",
       "247. 3\n",
       "248. 3\n",
       "249. 3\n",
       "250. 3\n",
       "251. 3\n",
       "252. 2\n",
       "253. 2\n",
       "254. 2\n",
       "255. 2\n",
       "256. 2\n",
       "257. 2\n",
       "258. 2\n",
       "259. 2\n",
       "260. 4\n",
       "261. 1\n",
       "262. 1\n",
       "263. 1\n",
       "264. 1\n",
       "265. 1\n",
       "266. 1\n",
       "267. 1\n",
       "268. 1\n",
       "269. 1\n",
       "270. 1\n",
       "271. 1\n",
       "272. 2\n",
       "273. 2\n",
       "274. 2\n",
       "275. 2\n",
       "276. 2\n",
       "277. 2\n",
       "278. 2\n",
       "279. 2\n",
       "280. 2\n",
       "281. 3\n",
       "282. 3\n",
       "283. 3\n",
       "284. 3\n",
       "285. 3\n",
       "286. 3\n",
       "287. 3\n",
       "288. 3\n",
       "289. 3\n",
       "290. 3\n",
       "291. 4\n",
       "292. 4\n",
       "293. 4\n",
       "294. 4\n",
       "295. 4\n",
       "296. 4\n",
       "297. 4\n",
       "298. 4\n",
       "299. 4\n",
       "300. 4\n",
       "301. 1\n",
       "302. 1\n",
       "303. 1\n",
       "304. 2\n",
       "305. 2\n",
       "306. 2\n",
       "307. 2\n",
       "308. 3\n",
       "309. 3\n",
       "310. 3\n",
       "311. 3\n",
       "312. 4\n",
       "313. 4\n",
       "314. 4\n",
       "315. 4\n",
       "316. 4\n",
       "317. 4\n",
       "318. 4\n",
       "319. 4\n",
       "320. 4\n",
       "321. 4\n",
       "322. 4\n",
       "323. 4\n",
       "324. 4\n",
       "325. 1\n",
       "326. 3\n",
       "327. 2\n",
       "328. 4\n",
       "329. 1\n",
       "330. 3\n",
       "331. 2\n",
       "332. 2\n",
       "333. 2\n",
       "334. 3\n",
       "335. 1\n",
       "336. 1\n",
       "337. 1\n",
       "338. 4\n",
       "339. 3\n",
       "340. 4\n",
       "341. 4\n",
       "342. 1\n",
       "343. 2\n",
       "344. 1\n",
       "345. 2\n",
       "346. 1\n",
       "347. 3\n",
       "348. 1\n",
       "349. 4\n",
       "350. 1\n",
       "351. 1\n",
       "352. 3\n",
       "353. 2\n",
       "354. 3\n",
       "355. 3\n",
       "356. 3\n",
       "357. 4\n",
       "358. 1\n",
       "359. 2\n",
       "360. 4\n",
       "361. 3\n",
       "362. 4\n",
       "363. 1\n",
       "364. 1\n",
       "365. 1\n",
       "366. 1\n",
       "367. 1\n",
       "368. 1\n",
       "369. 1\n",
       "370. 1\n",
       "371. 1\n",
       "372. 1\n",
       "373. 2\n",
       "374. 2\n",
       "375. 2\n",
       "376. 2\n",
       "377. 2\n",
       "378. 2\n",
       "379. 2\n",
       "380. 2\n",
       "381. 2\n",
       "382. 2\n",
       "383. 2\n",
       "384. 2\n",
       "385. 3\n",
       "386. 3\n",
       "387. 3\n",
       "388. 3\n",
       "389. 3\n",
       "390. 3\n",
       "391. 3\n",
       "392. 3\n",
       "393. 3\n",
       "394. 3\n",
       "395. 4\n",
       "396. 4\n",
       "397. 4\n",
       "398. 4\n",
       "399. 4\n",
       "400. 4\n",
       "\n",
       "\n"
      ],
      "text/plain": [
       "  [1] 1 1 1 2 2 2 2 3 3 3 4 4 4 4 1 1 1 1 2 2 2 2 2 3 3 3 3 3 3 3 3 3 3 3 3 4 4\n",
       " [38] 4 4 4 4 2 2 2 2 3 3 3 3 3 4 4 4 4 4 1 1 1 1 1 2 1 1 1 1 1 1 1 1 1 1 2 2 2\n",
       " [75] 2 2 2 2 2 2 3 3 4 4 4 4 4 4 4 4 1 1 1 1 1 1 1 1 1 1 1 1 2 2 2 2 2 2 2 2 2\n",
       "[112] 2 3 3 3 3 3 3 3 3 3 3 4 4 4 4 4 4 1 1 1 1 1 2 2 2 2 2 3 3 3 3 3 4 4 4 4 4\n",
       "[149] 4 4 4 4 4 4 4 4 4 4 1 2 2 2 2 2 2 2 2 2 2 2 2 2 2 2 2 2 2 2 2 2 1 1 1 1 1\n",
       "[186] 1 1 1 1 1 1 1 1 1 1 1 1 1 1 1 3 3 3 3 1 3 3 3 3 3 3 3 3 3 3 3 3 3 3 3 3 3\n",
       "[223] 2 4 4 4 4 4 3 2 2 1 1 1 1 1 1 4 4 4 4 4 4 4 3 3 3 3 3 3 3 2 2 2 2 2 2 2 2\n",
       "[260] 4 1 1 1 1 1 1 1 1 1 1 1 2 2 2 2 2 2 2 2 2 3 3 3 3 3 3 3 3 3 3 4 4 4 4 4 4\n",
       "[297] 4 4 4 4 1 1 1 2 2 2 2 3 3 3 3 4 4 4 4 4 4 4 4 4 4 4 4 4 1 3 2 4 1 3 2 2 2\n",
       "[334] 3 1 1 1 4 3 4 4 1 2 1 2 1 3 1 4 1 1 3 2 3 3 3 4 1 2 4 3 4 1 1 1 1 1 1 1 1\n",
       "[371] 1 1 2 2 2 2 2 2 2 2 2 2 2 2 3 3 3 3 3 3 3 3 3 3 4 4 4 4 4 4"
      ]
     },
     "metadata": {},
     "output_type": "display_data"
    }
   ],
   "source": [
    "enqete$grade"
   ]
  },
  {
   "cell_type": "code",
   "execution_count": 7,
   "id": "9b05cf61",
   "metadata": {},
   "outputs": [
    {
     "data": {
      "text/plain": [
       "\n",
       "  1   2   3   4 \n",
       "103 103 100  94 "
      ]
     },
     "metadata": {},
     "output_type": "display_data"
    }
   ],
   "source": [
    "table(enqete$grade)\n",
    "# 빈도를 구한다"
   ]
  },
  {
   "cell_type": "code",
   "execution_count": 9,
   "id": "10fd6820",
   "metadata": {},
   "outputs": [
    {
     "data": {
      "text/plain": [
       "gr1 gr2 gr3 gr4 \n",
       "103 103 100  94 "
      ]
     },
     "metadata": {},
     "output_type": "display_data"
    }
   ],
   "source": [
    "grade.freq = table(enqete$grade)\n",
    "names(grade.freq) = c('gr1','gr2','gr3','gr4')\n",
    "grade.freq"
   ]
  },
  {
   "cell_type": "code",
   "execution_count": 12,
   "id": "de79d743",
   "metadata": {},
   "outputs": [
    {
     "data": {
      "image/png": "[encoded data removed]",
      "text/plain": [
       "plot without title"
      ]
     },
     "metadata": {
      "image/png": {
       "height": 420,
       "width": 420
      }
     },
     "output_type": "display_data"
    }
   ],
   "source": [
    "par(mfrow=c(1,2))\n",
    "barplot(grade.freq, col=2:5)\n",
    "pie(grade.freq)"
   ]
  },
  {
   "cell_type": "code",
   "execution_count": 13,
   "id": "4c0ccaa3",
   "metadata": {},
   "outputs": [],
   "source": [
    "# 분할표"
   ]
  },
  {
   "cell_type": "code",
   "execution_count": 15,
   "id": "3c5735db",
   "metadata": {},
   "outputs": [
    {
     "data": {
      "text/plain": [
       "   \n",
       "     0  1  2\n",
       "  1  0 80 23\n",
       "  2  0 66 37\n",
       "  3  0 55 44\n",
       "  4  1 55 38"
      ]
     },
     "metadata": {},
     "output_type": "display_data"
    }
   ],
   "source": [
    "table(enqete$grade, enqete$q1)"
   ]
  },
  {
   "cell_type": "code",
   "execution_count": 17,
   "id": "439cc0ac",
   "metadata": {},
   "outputs": [
    {
     "data": {
      "text/html": [
       "<table class=\"dataframe\">\n",
       "<caption>A data.frame: 400 × 4</caption>\n",
       "<thead>\n",
       "\t<tr><th scope=col>college</th><th scope=col>grade</th><th scope=col>q1</th><th scope=col>q2</th></tr>\n",
       "\t<tr><th scope=col>&lt;chr&gt;</th><th scope=col>&lt;int&gt;</th><th scope=col>&lt;int&gt;</th><th scope=col>&lt;int&gt;</th></tr>\n",
       "</thead>\n",
       "<tbody>\n",
       "\t<tr><td>med</td><td>1</td><td>1</td><td>1</td></tr>\n",
       "\t<tr><td>med</td><td>1</td><td>1</td><td>1</td></tr>\n",
       "\t<tr><td>med</td><td>1</td><td>1</td><td>1</td></tr>\n",
       "\t<tr><td>med</td><td>2</td><td>1</td><td>2</td></tr>\n",
       "\t<tr><td>med</td><td>2</td><td>2</td><td>1</td></tr>\n",
       "\t<tr><td>med</td><td>2</td><td>1</td><td>1</td></tr>\n",
       "\t<tr><td>med</td><td>2</td><td>1</td><td>2</td></tr>\n",
       "\t<tr><td>med</td><td>3</td><td>1</td><td>2</td></tr>\n",
       "\t<tr><td>med</td><td>3</td><td>1</td><td>1</td></tr>\n",
       "\t<tr><td>med</td><td>3</td><td>1</td><td>1</td></tr>\n",
       "\t<tr><td>med</td><td>4</td><td>1</td><td>1</td></tr>\n",
       "\t<tr><td>med</td><td>4</td><td>2</td><td>1</td></tr>\n",
       "\t<tr><td>med</td><td>4</td><td>1</td><td>1</td></tr>\n",
       "\t<tr><td>med</td><td>4</td><td>1</td><td>1</td></tr>\n",
       "\t<tr><td>law</td><td>1</td><td>2</td><td>1</td></tr>\n",
       "\t<tr><td>law</td><td>1</td><td>1</td><td>1</td></tr>\n",
       "\t<tr><td>law</td><td>1</td><td>1</td><td>1</td></tr>\n",
       "\t<tr><td>law</td><td>1</td><td>1</td><td>1</td></tr>\n",
       "\t<tr><td>law</td><td>2</td><td>2</td><td>2</td></tr>\n",
       "\t<tr><td>law</td><td>2</td><td>1</td><td>1</td></tr>\n",
       "\t<tr><td>law</td><td>2</td><td>2</td><td>2</td></tr>\n",
       "\t<tr><td>law</td><td>2</td><td>1</td><td>1</td></tr>\n",
       "\t<tr><td>law</td><td>2</td><td>1</td><td>1</td></tr>\n",
       "\t<tr><td>law</td><td>3</td><td>1</td><td>1</td></tr>\n",
       "\t<tr><td>law</td><td>3</td><td>1</td><td>2</td></tr>\n",
       "\t<tr><td>law</td><td>3</td><td>2</td><td>2</td></tr>\n",
       "\t<tr><td>law</td><td>3</td><td>2</td><td>1</td></tr>\n",
       "\t<tr><td>law</td><td>3</td><td>2</td><td>2</td></tr>\n",
       "\t<tr><td>law</td><td>3</td><td>1</td><td>1</td></tr>\n",
       "\t<tr><td>law</td><td>3</td><td>1</td><td>1</td></tr>\n",
       "\t<tr><td>⋮</td><td>⋮</td><td>⋮</td><td>⋮</td></tr>\n",
       "\t<tr><td>nat</td><td>1</td><td>2</td><td>2</td></tr>\n",
       "\t<tr><td>nat</td><td>1</td><td>1</td><td>1</td></tr>\n",
       "\t<tr><td>nat</td><td>2</td><td>2</td><td>2</td></tr>\n",
       "\t<tr><td>nat</td><td>2</td><td>2</td><td>1</td></tr>\n",
       "\t<tr><td>nat</td><td>2</td><td>2</td><td>2</td></tr>\n",
       "\t<tr><td>nat</td><td>2</td><td>1</td><td>1</td></tr>\n",
       "\t<tr><td>nat</td><td>2</td><td>1</td><td>1</td></tr>\n",
       "\t<tr><td>nat</td><td>2</td><td>1</td><td>1</td></tr>\n",
       "\t<tr><td>nat</td><td>2</td><td>2</td><td>1</td></tr>\n",
       "\t<tr><td>nat</td><td>2</td><td>2</td><td>1</td></tr>\n",
       "\t<tr><td>nat</td><td>2</td><td>2</td><td>1</td></tr>\n",
       "\t<tr><td>nat</td><td>2</td><td>1</td><td>1</td></tr>\n",
       "\t<tr><td>nat</td><td>2</td><td>1</td><td>2</td></tr>\n",
       "\t<tr><td>nat</td><td>2</td><td>1</td><td>2</td></tr>\n",
       "\t<tr><td>nat</td><td>3</td><td>1</td><td>1</td></tr>\n",
       "\t<tr><td>nat</td><td>3</td><td>2</td><td>1</td></tr>\n",
       "\t<tr><td>nat</td><td>3</td><td>1</td><td>1</td></tr>\n",
       "\t<tr><td>nat</td><td>3</td><td>1</td><td>2</td></tr>\n",
       "\t<tr><td>nat</td><td>3</td><td>2</td><td>1</td></tr>\n",
       "\t<tr><td>nat</td><td>3</td><td>1</td><td>1</td></tr>\n",
       "\t<tr><td>nat</td><td>3</td><td>1</td><td>1</td></tr>\n",
       "\t<tr><td>nat</td><td>3</td><td>1</td><td>2</td></tr>\n",
       "\t<tr><td>nat</td><td>3</td><td>2</td><td>2</td></tr>\n",
       "\t<tr><td>nat</td><td>3</td><td>1</td><td>1</td></tr>\n",
       "\t<tr><td>nat</td><td>4</td><td>2</td><td>2</td></tr>\n",
       "\t<tr><td>nat</td><td>4</td><td>1</td><td>1</td></tr>\n",
       "\t<tr><td>nat</td><td>4</td><td>1</td><td>1</td></tr>\n",
       "\t<tr><td>nat</td><td>4</td><td>2</td><td>1</td></tr>\n",
       "\t<tr><td>nat</td><td>4</td><td>1</td><td>1</td></tr>\n",
       "\t<tr><td>nat</td><td>4</td><td>1</td><td>1</td></tr>\n",
       "</tbody>\n",
       "</table>\n"
      ],
      "text/latex": [
       "A data.frame: 400 × 4\n",
       "\\begin{tabular}{llll}\n",
       " college & grade & q1 & q2\\\\\n",
       " <chr> & <int> & <int> & <int>\\\\\n",
       "\\hline\n",
       "\t med & 1 & 1 & 1\\\\\n",
       "\t med & 1 & 1 & 1\\\\\n",
       "\t med & 1 & 1 & 1\\\\\n",
       "\t med & 2 & 1 & 2\\\\\n",
       "\t med & 2 & 2 & 1\\\\\n",
       "\t med & 2 & 1 & 1\\\\\n",
       "\t med & 2 & 1 & 2\\\\\n",
       "\t med & 3 & 1 & 2\\\\\n",
       "\t med & 3 & 1 & 1\\\\\n",
       "\t med & 3 & 1 & 1\\\\\n",
       "\t med & 4 & 1 & 1\\\\\n",
       "\t med & 4 & 2 & 1\\\\\n",
       "\t med & 4 & 1 & 1\\\\\n",
       "\t med & 4 & 1 & 1\\\\\n",
       "\t law & 1 & 2 & 1\\\\\n",
       "\t law & 1 & 1 & 1\\\\\n",
       "\t law & 1 & 1 & 1\\\\\n",
       "\t law & 1 & 1 & 1\\\\\n",
       "\t law & 2 & 2 & 2\\\\\n",
       "\t law & 2 & 1 & 1\\\\\n",
       "\t law & 2 & 2 & 2\\\\\n",
       "\t law & 2 & 1 & 1\\\\\n",
       "\t law & 2 & 1 & 1\\\\\n",
       "\t law & 3 & 1 & 1\\\\\n",
       "\t law & 3 & 1 & 2\\\\\n",
       "\t law & 3 & 2 & 2\\\\\n",
       "\t law & 3 & 2 & 1\\\\\n",
       "\t law & 3 & 2 & 2\\\\\n",
       "\t law & 3 & 1 & 1\\\\\n",
       "\t law & 3 & 1 & 1\\\\\n",
       "\t ⋮ & ⋮ & ⋮ & ⋮\\\\\n",
       "\t nat & 1 & 2 & 2\\\\\n",
       "\t nat & 1 & 1 & 1\\\\\n",
       "\t nat & 2 & 2 & 2\\\\\n",
       "\t nat & 2 & 2 & 1\\\\\n",
       "\t nat & 2 & 2 & 2\\\\\n",
       "\t nat & 2 & 1 & 1\\\\\n",
       "\t nat & 2 & 1 & 1\\\\\n",
       "\t nat & 2 & 1 & 1\\\\\n",
       "\t nat & 2 & 2 & 1\\\\\n",
       "\t nat & 2 & 2 & 1\\\\\n",
       "\t nat & 2 & 2 & 1\\\\\n",
       "\t nat & 2 & 1 & 1\\\\\n",
       "\t nat & 2 & 1 & 2\\\\\n",
       "\t nat & 2 & 1 & 2\\\\\n",
       "\t nat & 3 & 1 & 1\\\\\n",
       "\t nat & 3 & 2 & 1\\\\\n",
       "\t nat & 3 & 1 & 1\\\\\n",
       "\t nat & 3 & 1 & 2\\\\\n",
       "\t nat & 3 & 2 & 1\\\\\n",
       "\t nat & 3 & 1 & 1\\\\\n",
       "\t nat & 3 & 1 & 1\\\\\n",
       "\t nat & 3 & 1 & 2\\\\\n",
       "\t nat & 3 & 2 & 2\\\\\n",
       "\t nat & 3 & 1 & 1\\\\\n",
       "\t nat & 4 & 2 & 2\\\\\n",
       "\t nat & 4 & 1 & 1\\\\\n",
       "\t nat & 4 & 1 & 1\\\\\n",
       "\t nat & 4 & 2 & 1\\\\\n",
       "\t nat & 4 & 1 & 1\\\\\n",
       "\t nat & 4 & 1 & 1\\\\\n",
       "\\end{tabular}\n"
      ],
      "text/markdown": [
       "\n",
       "A data.frame: 400 × 4\n",
       "\n",
       "| college &lt;chr&gt; | grade &lt;int&gt; | q1 &lt;int&gt; | q2 &lt;int&gt; |\n",
       "|---|---|---|---|\n",
       "| med | 1 | 1 | 1 |\n",
       "| med | 1 | 1 | 1 |\n",
       "| med | 1 | 1 | 1 |\n",
       "| med | 2 | 1 | 2 |\n",
       "| med | 2 | 2 | 1 |\n",
       "| med | 2 | 1 | 1 |\n",
       "| med | 2 | 1 | 2 |\n",
       "| med | 3 | 1 | 2 |\n",
       "| med | 3 | 1 | 1 |\n",
       "| med | 3 | 1 | 1 |\n",
       "| med | 4 | 1 | 1 |\n",
       "| med | 4 | 2 | 1 |\n",
       "| med | 4 | 1 | 1 |\n",
       "| med | 4 | 1 | 1 |\n",
       "| law | 1 | 2 | 1 |\n",
       "| law | 1 | 1 | 1 |\n",
       "| law | 1 | 1 | 1 |\n",
       "| law | 1 | 1 | 1 |\n",
       "| law | 2 | 2 | 2 |\n",
       "| law | 2 | 1 | 1 |\n",
       "| law | 2 | 2 | 2 |\n",
       "| law | 2 | 1 | 1 |\n",
       "| law | 2 | 1 | 1 |\n",
       "| law | 3 | 1 | 1 |\n",
       "| law | 3 | 1 | 2 |\n",
       "| law | 3 | 2 | 2 |\n",
       "| law | 3 | 2 | 1 |\n",
       "| law | 3 | 2 | 2 |\n",
       "| law | 3 | 1 | 1 |\n",
       "| law | 3 | 1 | 1 |\n",
       "| ⋮ | ⋮ | ⋮ | ⋮ |\n",
       "| nat | 1 | 2 | 2 |\n",
       "| nat | 1 | 1 | 1 |\n",
       "| nat | 2 | 2 | 2 |\n",
       "| nat | 2 | 2 | 1 |\n",
       "| nat | 2 | 2 | 2 |\n",
       "| nat | 2 | 1 | 1 |\n",
       "| nat | 2 | 1 | 1 |\n",
       "| nat | 2 | 1 | 1 |\n",
       "| nat | 2 | 2 | 1 |\n",
       "| nat | 2 | 2 | 1 |\n",
       "| nat | 2 | 2 | 1 |\n",
       "| nat | 2 | 1 | 1 |\n",
       "| nat | 2 | 1 | 2 |\n",
       "| nat | 2 | 1 | 2 |\n",
       "| nat | 3 | 1 | 1 |\n",
       "| nat | 3 | 2 | 1 |\n",
       "| nat | 3 | 1 | 1 |\n",
       "| nat | 3 | 1 | 2 |\n",
       "| nat | 3 | 2 | 1 |\n",
       "| nat | 3 | 1 | 1 |\n",
       "| nat | 3 | 1 | 1 |\n",
       "| nat | 3 | 1 | 2 |\n",
       "| nat | 3 | 2 | 2 |\n",
       "| nat | 3 | 1 | 1 |\n",
       "| nat | 4 | 2 | 2 |\n",
       "| nat | 4 | 1 | 1 |\n",
       "| nat | 4 | 1 | 1 |\n",
       "| nat | 4 | 2 | 1 |\n",
       "| nat | 4 | 1 | 1 |\n",
       "| nat | 4 | 1 | 1 |\n",
       "\n"
      ],
      "text/plain": [
       "    college grade q1 q2\n",
       "1   med     1     1  1 \n",
       "2   med     1     1  1 \n",
       "3   med     1     1  1 \n",
       "4   med     2     1  2 \n",
       "5   med     2     2  1 \n",
       "6   med     2     1  1 \n",
       "7   med     2     1  2 \n",
       "8   med     3     1  2 \n",
       "9   med     3     1  1 \n",
       "10  med     3     1  1 \n",
       "11  med     4     1  1 \n",
       "12  med     4     2  1 \n",
       "13  med     4     1  1 \n",
       "14  med     4     1  1 \n",
       "15  law     1     2  1 \n",
       "16  law     1     1  1 \n",
       "17  law     1     1  1 \n",
       "18  law     1     1  1 \n",
       "19  law     2     2  2 \n",
       "20  law     2     1  1 \n",
       "21  law     2     2  2 \n",
       "22  law     2     1  1 \n",
       "23  law     2     1  1 \n",
       "24  law     3     1  1 \n",
       "25  law     3     1  2 \n",
       "26  law     3     2  2 \n",
       "27  law     3     2  1 \n",
       "28  law     3     2  2 \n",
       "29  law     3     1  1 \n",
       "30  law     3     1  1 \n",
       "⋮   ⋮       ⋮     ⋮  ⋮ \n",
       "371 nat     1     2  2 \n",
       "372 nat     1     1  1 \n",
       "373 nat     2     2  2 \n",
       "374 nat     2     2  1 \n",
       "375 nat     2     2  2 \n",
       "376 nat     2     1  1 \n",
       "377 nat     2     1  1 \n",
       "378 nat     2     1  1 \n",
       "379 nat     2     2  1 \n",
       "380 nat     2     2  1 \n",
       "381 nat     2     2  1 \n",
       "382 nat     2     1  1 \n",
       "383 nat     2     1  2 \n",
       "384 nat     2     1  2 \n",
       "385 nat     3     1  1 \n",
       "386 nat     3     2  1 \n",
       "387 nat     3     1  1 \n",
       "388 nat     3     1  2 \n",
       "389 nat     3     2  1 \n",
       "390 nat     3     1  1 \n",
       "391 nat     3     1  1 \n",
       "392 nat     3     1  2 \n",
       "393 nat     3     2  2 \n",
       "394 nat     3     1  1 \n",
       "395 nat     4     2  2 \n",
       "396 nat     4     1  1 \n",
       "397 nat     4     1  1 \n",
       "398 nat     4     2  1 \n",
       "399 nat     4     1  1 \n",
       "400 nat     4     1  1 "
      ]
     },
     "metadata": {},
     "output_type": "display_data"
    }
   ],
   "source": [
    "enqete[enqete==0] = NA\n",
    "enqete"
   ]
  },
  {
   "cell_type": "code",
   "execution_count": 19,
   "id": "5b962ab5",
   "metadata": {},
   "outputs": [
    {
     "data": {
      "text/html": [
       "<table class=\"dataframe\">\n",
       "<caption>A data.frame: 398 × 4</caption>\n",
       "<thead>\n",
       "\t<tr><th></th><th scope=col>college</th><th scope=col>grade</th><th scope=col>q1</th><th scope=col>q2</th></tr>\n",
       "\t<tr><th></th><th scope=col>&lt;chr&gt;</th><th scope=col>&lt;int&gt;</th><th scope=col>&lt;int&gt;</th><th scope=col>&lt;int&gt;</th></tr>\n",
       "</thead>\n",
       "<tbody>\n",
       "\t<tr><th scope=row>1</th><td>med</td><td>1</td><td>1</td><td>1</td></tr>\n",
       "\t<tr><th scope=row>2</th><td>med</td><td>1</td><td>1</td><td>1</td></tr>\n",
       "\t<tr><th scope=row>3</th><td>med</td><td>1</td><td>1</td><td>1</td></tr>\n",
       "\t<tr><th scope=row>4</th><td>med</td><td>2</td><td>1</td><td>2</td></tr>\n",
       "\t<tr><th scope=row>5</th><td>med</td><td>2</td><td>2</td><td>1</td></tr>\n",
       "\t<tr><th scope=row>6</th><td>med</td><td>2</td><td>1</td><td>1</td></tr>\n",
       "\t<tr><th scope=row>7</th><td>med</td><td>2</td><td>1</td><td>2</td></tr>\n",
       "\t<tr><th scope=row>8</th><td>med</td><td>3</td><td>1</td><td>2</td></tr>\n",
       "\t<tr><th scope=row>9</th><td>med</td><td>3</td><td>1</td><td>1</td></tr>\n",
       "\t<tr><th scope=row>10</th><td>med</td><td>3</td><td>1</td><td>1</td></tr>\n",
       "\t<tr><th scope=row>11</th><td>med</td><td>4</td><td>1</td><td>1</td></tr>\n",
       "\t<tr><th scope=row>12</th><td>med</td><td>4</td><td>2</td><td>1</td></tr>\n",
       "\t<tr><th scope=row>13</th><td>med</td><td>4</td><td>1</td><td>1</td></tr>\n",
       "\t<tr><th scope=row>14</th><td>med</td><td>4</td><td>1</td><td>1</td></tr>\n",
       "\t<tr><th scope=row>15</th><td>law</td><td>1</td><td>2</td><td>1</td></tr>\n",
       "\t<tr><th scope=row>16</th><td>law</td><td>1</td><td>1</td><td>1</td></tr>\n",
       "\t<tr><th scope=row>17</th><td>law</td><td>1</td><td>1</td><td>1</td></tr>\n",
       "\t<tr><th scope=row>18</th><td>law</td><td>1</td><td>1</td><td>1</td></tr>\n",
       "\t<tr><th scope=row>19</th><td>law</td><td>2</td><td>2</td><td>2</td></tr>\n",
       "\t<tr><th scope=row>20</th><td>law</td><td>2</td><td>1</td><td>1</td></tr>\n",
       "\t<tr><th scope=row>21</th><td>law</td><td>2</td><td>2</td><td>2</td></tr>\n",
       "\t<tr><th scope=row>22</th><td>law</td><td>2</td><td>1</td><td>1</td></tr>\n",
       "\t<tr><th scope=row>23</th><td>law</td><td>2</td><td>1</td><td>1</td></tr>\n",
       "\t<tr><th scope=row>24</th><td>law</td><td>3</td><td>1</td><td>1</td></tr>\n",
       "\t<tr><th scope=row>25</th><td>law</td><td>3</td><td>1</td><td>2</td></tr>\n",
       "\t<tr><th scope=row>26</th><td>law</td><td>3</td><td>2</td><td>2</td></tr>\n",
       "\t<tr><th scope=row>27</th><td>law</td><td>3</td><td>2</td><td>1</td></tr>\n",
       "\t<tr><th scope=row>28</th><td>law</td><td>3</td><td>2</td><td>2</td></tr>\n",
       "\t<tr><th scope=row>29</th><td>law</td><td>3</td><td>1</td><td>1</td></tr>\n",
       "\t<tr><th scope=row>30</th><td>law</td><td>3</td><td>1</td><td>1</td></tr>\n",
       "\t<tr><th scope=row>⋮</th><td>⋮</td><td>⋮</td><td>⋮</td><td>⋮</td></tr>\n",
       "\t<tr><th scope=row>371</th><td>nat</td><td>1</td><td>2</td><td>2</td></tr>\n",
       "\t<tr><th scope=row>372</th><td>nat</td><td>1</td><td>1</td><td>1</td></tr>\n",
       "\t<tr><th scope=row>373</th><td>nat</td><td>2</td><td>2</td><td>2</td></tr>\n",
       "\t<tr><th scope=row>374</th><td>nat</td><td>2</td><td>2</td><td>1</td></tr>\n",
       "\t<tr><th scope=row>375</th><td>nat</td><td>2</td><td>2</td><td>2</td></tr>\n",
       "\t<tr><th scope=row>376</th><td>nat</td><td>2</td><td>1</td><td>1</td></tr>\n",
       "\t<tr><th scope=row>377</th><td>nat</td><td>2</td><td>1</td><td>1</td></tr>\n",
       "\t<tr><th scope=row>378</th><td>nat</td><td>2</td><td>1</td><td>1</td></tr>\n",
       "\t<tr><th scope=row>379</th><td>nat</td><td>2</td><td>2</td><td>1</td></tr>\n",
       "\t<tr><th scope=row>380</th><td>nat</td><td>2</td><td>2</td><td>1</td></tr>\n",
       "\t<tr><th scope=row>381</th><td>nat</td><td>2</td><td>2</td><td>1</td></tr>\n",
       "\t<tr><th scope=row>382</th><td>nat</td><td>2</td><td>1</td><td>1</td></tr>\n",
       "\t<tr><th scope=row>383</th><td>nat</td><td>2</td><td>1</td><td>2</td></tr>\n",
       "\t<tr><th scope=row>384</th><td>nat</td><td>2</td><td>1</td><td>2</td></tr>\n",
       "\t<tr><th scope=row>385</th><td>nat</td><td>3</td><td>1</td><td>1</td></tr>\n",
       "\t<tr><th scope=row>386</th><td>nat</td><td>3</td><td>2</td><td>1</td></tr>\n",
       "\t<tr><th scope=row>387</th><td>nat</td><td>3</td><td>1</td><td>1</td></tr>\n",
       "\t<tr><th scope=row>388</th><td>nat</td><td>3</td><td>1</td><td>2</td></tr>\n",
       "\t<tr><th scope=row>389</th><td>nat</td><td>3</td><td>2</td><td>1</td></tr>\n",
       "\t<tr><th scope=row>390</th><td>nat</td><td>3</td><td>1</td><td>1</td></tr>\n",
       "\t<tr><th scope=row>391</th><td>nat</td><td>3</td><td>1</td><td>1</td></tr>\n",
       "\t<tr><th scope=row>392</th><td>nat</td><td>3</td><td>1</td><td>2</td></tr>\n",
       "\t<tr><th scope=row>393</th><td>nat</td><td>3</td><td>2</td><td>2</td></tr>\n",
       "\t<tr><th scope=row>394</th><td>nat</td><td>3</td><td>1</td><td>1</td></tr>\n",
       "\t<tr><th scope=row>395</th><td>nat</td><td>4</td><td>2</td><td>2</td></tr>\n",
       "\t<tr><th scope=row>396</th><td>nat</td><td>4</td><td>1</td><td>1</td></tr>\n",
       "\t<tr><th scope=row>397</th><td>nat</td><td>4</td><td>1</td><td>1</td></tr>\n",
       "\t<tr><th scope=row>398</th><td>nat</td><td>4</td><td>2</td><td>1</td></tr>\n",
       "\t<tr><th scope=row>399</th><td>nat</td><td>4</td><td>1</td><td>1</td></tr>\n",
       "\t<tr><th scope=row>400</th><td>nat</td><td>4</td><td>1</td><td>1</td></tr>\n",
       "</tbody>\n",
       "</table>\n"
      ],
      "text/latex": [
       "A data.frame: 398 × 4\n",
       "\\begin{tabular}{r|llll}\n",
       "  & college & grade & q1 & q2\\\\\n",
       "  & <chr> & <int> & <int> & <int>\\\\\n",
       "\\hline\n",
       "\t1 & med & 1 & 1 & 1\\\\\n",
       "\t2 & med & 1 & 1 & 1\\\\\n",
       "\t3 & med & 1 & 1 & 1\\\\\n",
       "\t4 & med & 2 & 1 & 2\\\\\n",
       "\t5 & med & 2 & 2 & 1\\\\\n",
       "\t6 & med & 2 & 1 & 1\\\\\n",
       "\t7 & med & 2 & 1 & 2\\\\\n",
       "\t8 & med & 3 & 1 & 2\\\\\n",
       "\t9 & med & 3 & 1 & 1\\\\\n",
       "\t10 & med & 3 & 1 & 1\\\\\n",
       "\t11 & med & 4 & 1 & 1\\\\\n",
       "\t12 & med & 4 & 2 & 1\\\\\n",
       "\t13 & med & 4 & 1 & 1\\\\\n",
       "\t14 & med & 4 & 1 & 1\\\\\n",
       "\t15 & law & 1 & 2 & 1\\\\\n",
       "\t16 & law & 1 & 1 & 1\\\\\n",
       "\t17 & law & 1 & 1 & 1\\\\\n",
       "\t18 & law & 1 & 1 & 1\\\\\n",
       "\t19 & law & 2 & 2 & 2\\\\\n",
       "\t20 & law & 2 & 1 & 1\\\\\n",
       "\t21 & law & 2 & 2 & 2\\\\\n",
       "\t22 & law & 2 & 1 & 1\\\\\n",
       "\t23 & law & 2 & 1 & 1\\\\\n",
       "\t24 & law & 3 & 1 & 1\\\\\n",
       "\t25 & law & 3 & 1 & 2\\\\\n",
       "\t26 & law & 3 & 2 & 2\\\\\n",
       "\t27 & law & 3 & 2 & 1\\\\\n",
       "\t28 & law & 3 & 2 & 2\\\\\n",
       "\t29 & law & 3 & 1 & 1\\\\\n",
       "\t30 & law & 3 & 1 & 1\\\\\n",
       "\t⋮ & ⋮ & ⋮ & ⋮ & ⋮\\\\\n",
       "\t371 & nat & 1 & 2 & 2\\\\\n",
       "\t372 & nat & 1 & 1 & 1\\\\\n",
       "\t373 & nat & 2 & 2 & 2\\\\\n",
       "\t374 & nat & 2 & 2 & 1\\\\\n",
       "\t375 & nat & 2 & 2 & 2\\\\\n",
       "\t376 & nat & 2 & 1 & 1\\\\\n",
       "\t377 & nat & 2 & 1 & 1\\\\\n",
       "\t378 & nat & 2 & 1 & 1\\\\\n",
       "\t379 & nat & 2 & 2 & 1\\\\\n",
       "\t380 & nat & 2 & 2 & 1\\\\\n",
       "\t381 & nat & 2 & 2 & 1\\\\\n",
       "\t382 & nat & 2 & 1 & 1\\\\\n",
       "\t383 & nat & 2 & 1 & 2\\\\\n",
       "\t384 & nat & 2 & 1 & 2\\\\\n",
       "\t385 & nat & 3 & 1 & 1\\\\\n",
       "\t386 & nat & 3 & 2 & 1\\\\\n",
       "\t387 & nat & 3 & 1 & 1\\\\\n",
       "\t388 & nat & 3 & 1 & 2\\\\\n",
       "\t389 & nat & 3 & 2 & 1\\\\\n",
       "\t390 & nat & 3 & 1 & 1\\\\\n",
       "\t391 & nat & 3 & 1 & 1\\\\\n",
       "\t392 & nat & 3 & 1 & 2\\\\\n",
       "\t393 & nat & 3 & 2 & 2\\\\\n",
       "\t394 & nat & 3 & 1 & 1\\\\\n",
       "\t395 & nat & 4 & 2 & 2\\\\\n",
       "\t396 & nat & 4 & 1 & 1\\\\\n",
       "\t397 & nat & 4 & 1 & 1\\\\\n",
       "\t398 & nat & 4 & 2 & 1\\\\\n",
       "\t399 & nat & 4 & 1 & 1\\\\\n",
       "\t400 & nat & 4 & 1 & 1\\\\\n",
       "\\end{tabular}\n"
      ],
      "text/markdown": [
       "\n",
       "A data.frame: 398 × 4\n",
       "\n",
       "| <!--/--> | college &lt;chr&gt; | grade &lt;int&gt; | q1 &lt;int&gt; | q2 &lt;int&gt; |\n",
       "|---|---|---|---|---|\n",
       "| 1 | med | 1 | 1 | 1 |\n",
       "| 2 | med | 1 | 1 | 1 |\n",
       "| 3 | med | 1 | 1 | 1 |\n",
       "| 4 | med | 2 | 1 | 2 |\n",
       "| 5 | med | 2 | 2 | 1 |\n",
       "| 6 | med | 2 | 1 | 1 |\n",
       "| 7 | med | 2 | 1 | 2 |\n",
       "| 8 | med | 3 | 1 | 2 |\n",
       "| 9 | med | 3 | 1 | 1 |\n",
       "| 10 | med | 3 | 1 | 1 |\n",
       "| 11 | med | 4 | 1 | 1 |\n",
       "| 12 | med | 4 | 2 | 1 |\n",
       "| 13 | med | 4 | 1 | 1 |\n",
       "| 14 | med | 4 | 1 | 1 |\n",
       "| 15 | law | 1 | 2 | 1 |\n",
       "| 16 | law | 1 | 1 | 1 |\n",
       "| 17 | law | 1 | 1 | 1 |\n",
       "| 18 | law | 1 | 1 | 1 |\n",
       "| 19 | law | 2 | 2 | 2 |\n",
       "| 20 | law | 2 | 1 | 1 |\n",
       "| 21 | law | 2 | 2 | 2 |\n",
       "| 22 | law | 2 | 1 | 1 |\n",
       "| 23 | law | 2 | 1 | 1 |\n",
       "| 24 | law | 3 | 1 | 1 |\n",
       "| 25 | law | 3 | 1 | 2 |\n",
       "| 26 | law | 3 | 2 | 2 |\n",
       "| 27 | law | 3 | 2 | 1 |\n",
       "| 28 | law | 3 | 2 | 2 |\n",
       "| 29 | law | 3 | 1 | 1 |\n",
       "| 30 | law | 3 | 1 | 1 |\n",
       "| ⋮ | ⋮ | ⋮ | ⋮ | ⋮ |\n",
       "| 371 | nat | 1 | 2 | 2 |\n",
       "| 372 | nat | 1 | 1 | 1 |\n",
       "| 373 | nat | 2 | 2 | 2 |\n",
       "| 374 | nat | 2 | 2 | 1 |\n",
       "| 375 | nat | 2 | 2 | 2 |\n",
       "| 376 | nat | 2 | 1 | 1 |\n",
       "| 377 | nat | 2 | 1 | 1 |\n",
       "| 378 | nat | 2 | 1 | 1 |\n",
       "| 379 | nat | 2 | 2 | 1 |\n",
       "| 380 | nat | 2 | 2 | 1 |\n",
       "| 381 | nat | 2 | 2 | 1 |\n",
       "| 382 | nat | 2 | 1 | 1 |\n",
       "| 383 | nat | 2 | 1 | 2 |\n",
       "| 384 | nat | 2 | 1 | 2 |\n",
       "| 385 | nat | 3 | 1 | 1 |\n",
       "| 386 | nat | 3 | 2 | 1 |\n",
       "| 387 | nat | 3 | 1 | 1 |\n",
       "| 388 | nat | 3 | 1 | 2 |\n",
       "| 389 | nat | 3 | 2 | 1 |\n",
       "| 390 | nat | 3 | 1 | 1 |\n",
       "| 391 | nat | 3 | 1 | 1 |\n",
       "| 392 | nat | 3 | 1 | 2 |\n",
       "| 393 | nat | 3 | 2 | 2 |\n",
       "| 394 | nat | 3 | 1 | 1 |\n",
       "| 395 | nat | 4 | 2 | 2 |\n",
       "| 396 | nat | 4 | 1 | 1 |\n",
       "| 397 | nat | 4 | 1 | 1 |\n",
       "| 398 | nat | 4 | 2 | 1 |\n",
       "| 399 | nat | 4 | 1 | 1 |\n",
       "| 400 | nat | 4 | 1 | 1 |\n",
       "\n"
      ],
      "text/plain": [
       "    college grade q1 q2\n",
       "1   med     1     1  1 \n",
       "2   med     1     1  1 \n",
       "3   med     1     1  1 \n",
       "4   med     2     1  2 \n",
       "5   med     2     2  1 \n",
       "6   med     2     1  1 \n",
       "7   med     2     1  2 \n",
       "8   med     3     1  2 \n",
       "9   med     3     1  1 \n",
       "10  med     3     1  1 \n",
       "11  med     4     1  1 \n",
       "12  med     4     2  1 \n",
       "13  med     4     1  1 \n",
       "14  med     4     1  1 \n",
       "15  law     1     2  1 \n",
       "16  law     1     1  1 \n",
       "17  law     1     1  1 \n",
       "18  law     1     1  1 \n",
       "19  law     2     2  2 \n",
       "20  law     2     1  1 \n",
       "21  law     2     2  2 \n",
       "22  law     2     1  1 \n",
       "23  law     2     1  1 \n",
       "24  law     3     1  1 \n",
       "25  law     3     1  2 \n",
       "26  law     3     2  2 \n",
       "27  law     3     2  1 \n",
       "28  law     3     2  2 \n",
       "29  law     3     1  1 \n",
       "30  law     3     1  1 \n",
       "⋮   ⋮       ⋮     ⋮  ⋮ \n",
       "371 nat     1     2  2 \n",
       "372 nat     1     1  1 \n",
       "373 nat     2     2  2 \n",
       "374 nat     2     2  1 \n",
       "375 nat     2     2  2 \n",
       "376 nat     2     1  1 \n",
       "377 nat     2     1  1 \n",
       "378 nat     2     1  1 \n",
       "379 nat     2     2  1 \n",
       "380 nat     2     2  1 \n",
       "381 nat     2     2  1 \n",
       "382 nat     2     1  1 \n",
       "383 nat     2     1  2 \n",
       "384 nat     2     1  2 \n",
       "385 nat     3     1  1 \n",
       "386 nat     3     2  1 \n",
       "387 nat     3     1  1 \n",
       "388 nat     3     1  2 \n",
       "389 nat     3     2  1 \n",
       "390 nat     3     1  1 \n",
       "391 nat     3     1  1 \n",
       "392 nat     3     1  2 \n",
       "393 nat     3     2  2 \n",
       "394 nat     3     1  1 \n",
       "395 nat     4     2  2 \n",
       "396 nat     4     1  1 \n",
       "397 nat     4     1  1 \n",
       "398 nat     4     2  1 \n",
       "399 nat     4     1  1 \n",
       "400 nat     4     1  1 "
      ]
     },
     "metadata": {},
     "output_type": "display_data"
    }
   ],
   "source": [
    "enqete = na.omit(enqete)\n",
    "enqete"
   ]
  },
  {
   "cell_type": "code",
   "execution_count": 20,
   "id": "faebe927",
   "metadata": {},
   "outputs": [
    {
     "data": {
      "text/plain": [
       "   \n",
       "     1  2\n",
       "  1 80 23\n",
       "  2 66 37\n",
       "  3 55 44\n",
       "  4 55 38"
      ]
     },
     "metadata": {},
     "output_type": "display_data"
    }
   ],
   "source": [
    "table(enqete$grade, enqete$q1)"
   ]
  },
  {
   "cell_type": "code",
   "execution_count": 22,
   "id": "3a62eacb",
   "metadata": {},
   "outputs": [
    {
     "data": {
      "text/plain": [
       "        \n",
       "         ans1 ans2\n",
       "  grade1   80   23\n",
       "  grade2   66   37\n",
       "  grade3   55   44\n",
       "  grade4   55   38"
      ]
     },
     "metadata": {},
     "output_type": "display_data"
    }
   ],
   "source": [
    "college = table(enqete$grade, enqete$q1)\n",
    "colnames(college) = c('ans1', 'ans2')\n",
    "rownames(college) = c('grade1', 'grade2', 'grade3', 'grade4')\n",
    "college"
   ]
  },
  {
   "cell_type": "code",
   "execution_count": 23,
   "id": "bdd64b0b",
   "metadata": {},
   "outputs": [
    {
     "data": {
      "text/plain": [
       "        Answer\n",
       "Grade    ans1 ans2\n",
       "  grade1   80   23\n",
       "  grade2   66   37\n",
       "  grade3   55   44\n",
       "  grade4   55   38"
      ]
     },
     "metadata": {},
     "output_type": "display_data"
    }
   ],
   "source": [
    "names(dimnames(college)) = c('Grade','Answer')\n",
    "college"
   ]
  },
  {
   "cell_type": "code",
   "execution_count": 24,
   "id": "5f0ca4c5",
   "metadata": {},
   "outputs": [
    {
     "data": {
      "text/plain": [
       "     q1\n",
       "grade  1  2\n",
       "    1 80 23\n",
       "    2 66 37\n",
       "    3 55 44\n",
       "    4 55 38"
      ]
     },
     "metadata": {},
     "output_type": "display_data"
    }
   ],
   "source": [
    "xtabs(~grade+q1, data=enqete)"
   ]
  },
  {
   "cell_type": "code",
   "execution_count": 30,
   "id": "8f5eebf1",
   "metadata": {},
   "outputs": [
    {
     "data": {
      "image/png": "[encoded data removed]",
      "text/plain": [
       "plot without title"
      ]
     },
     "metadata": {
      "image/png": {
       "height": 420,
       "width": 420
      }
     },
     "output_type": "display_data"
    }
   ],
   "source": [
    "par(mfrow=c(1,2))\n",
    "barplot(college, col=4:7)\n",
    "barplot(t(college),legend=c('ans1','ans2'), col=2:3)"
   ]
  },
  {
   "cell_type": "code",
   "execution_count": 33,
   "id": "314dc77a",
   "metadata": {},
   "outputs": [
    {
     "data": {
      "text/plain": [
       "\n",
       "\tPearson's Chi-squared test\n",
       "\n",
       "data:  college\n",
       "X-squared = 12.403, df = 3, p-value = 0.006123\n"
      ]
     },
     "metadata": {},
     "output_type": "display_data"
    }
   ],
   "source": [
    "chisq.test(college)"
   ]
  },
  {
   "cell_type": "code",
   "execution_count": null,
   "id": "743b45a1",
   "metadata": {},
   "outputs": [],
   "source": []
  }
 ],
 "metadata": {
  "kernelspec": {
   "display_name": "R",
   "language": "R",
   "name": "ir"
  },
  "language_info": {
   "codemirror_mode": "r",
   "file_extension": ".r",
   "mimetype": "text/x-r-source",
   "name": "R",
   "pygments_lexer": "r",
   "version": "4.0.3"
  }
 },
 "nbformat": 4,
 "nbformat_minor": 5
}
