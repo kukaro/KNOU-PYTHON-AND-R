{
 "cells": [
  {
   "cell_type": "code",
   "execution_count": 1,
   "id": "975aadcd",
   "metadata": {},
   "outputs": [],
   "source": [
    "import pandas as pd\n",
    "import numpy as np"
   ]
  },
  {
   "cell_type": "code",
   "execution_count": 2,
   "id": "9ef8fd02",
   "metadata": {},
   "outputs": [
    {
     "data": {
      "text/plain": [
       "'   25.8  24.6  26.1  22.9  25.1  27.3  24.0  24.5  23.9  26.2\\n   24.3  24.6  23.3  25.5  28.1  24.8  23.5  26.3  25.4  25.5\\n   23.9  27.0  24.8  22.9  25.4'"
      ]
     },
     "execution_count": 2,
     "metadata": {},
     "output_type": "execute_result"
    }
   ],
   "source": [
    "f = open('../data/crab.txt', 'r')\n",
    "crab = f.read()\n",
    "crab"
   ]
  },
  {
   "cell_type": "code",
   "execution_count": 3,
   "id": "f88cb8bd",
   "metadata": {},
   "outputs": [
    {
     "data": {
      "text/plain": [
       "str"
      ]
     },
     "execution_count": 3,
     "metadata": {},
     "output_type": "execute_result"
    }
   ],
   "source": [
    "type(crab)"
   ]
  },
  {
   "cell_type": "code",
   "execution_count": 4,
   "id": "e61505f5",
   "metadata": {},
   "outputs": [],
   "source": [
    "crab = crab.split()"
   ]
  },
  {
   "cell_type": "code",
   "execution_count": 6,
   "id": "cad1f42a",
   "metadata": {},
   "outputs": [
    {
     "data": {
      "text/plain": [
       "['25.8',\n",
       " '24.6',\n",
       " '26.1',\n",
       " '22.9',\n",
       " '25.1',\n",
       " '27.3',\n",
       " '24.0',\n",
       " '24.5',\n",
       " '23.9',\n",
       " '26.2',\n",
       " '24.3',\n",
       " '24.6',\n",
       " '23.3',\n",
       " '25.5',\n",
       " '28.1',\n",
       " '24.8',\n",
       " '23.5',\n",
       " '26.3',\n",
       " '25.4',\n",
       " '25.5',\n",
       " '23.9',\n",
       " '27.0',\n",
       " '24.8',\n",
       " '22.9',\n",
       " '25.4']"
      ]
     },
     "execution_count": 6,
     "metadata": {},
     "output_type": "execute_result"
    }
   ],
   "source": [
    "crab"
   ]
  },
  {
   "cell_type": "code",
   "execution_count": 7,
   "id": "3938058c",
   "metadata": {},
   "outputs": [],
   "source": [
    "fcrab = [float(x) for x in crab]"
   ]
  },
  {
   "cell_type": "code",
   "execution_count": 8,
   "id": "85dabceb",
   "metadata": {},
   "outputs": [
    {
     "data": {
      "text/plain": [
       "[25.8, 24.6, 26.1, 22.9, 25.1]"
      ]
     },
     "execution_count": 8,
     "metadata": {},
     "output_type": "execute_result"
    }
   ],
   "source": [
    "fcrab[0:5]"
   ]
  },
  {
   "cell_type": "code",
   "execution_count": 9,
   "id": "70c6f8b1",
   "metadata": {},
   "outputs": [],
   "source": [
    "from scipy import stats"
   ]
  },
  {
   "cell_type": "code",
   "execution_count": 11,
   "id": "863b55b5",
   "metadata": {},
   "outputs": [
    {
     "data": {
      "text/plain": [
       "Ttest_1sampResult(statistic=2.7127692953052716, pvalue=0.01214553724164843)"
      ]
     },
     "execution_count": 11,
     "metadata": {},
     "output_type": "execute_result"
    }
   ],
   "source": [
    "crab_ttest = stats.ttest_1samp(fcrab, 24.3)\n",
    "crab_ttest"
   ]
  },
  {
   "cell_type": "code",
   "execution_count": 12,
   "id": "b9b60e53",
   "metadata": {},
   "outputs": [
    {
     "data": {
      "text/plain": [
       "'T-value = 2.713, p-value = 0.012'"
      ]
     },
     "execution_count": 12,
     "metadata": {},
     "output_type": "execute_result"
    }
   ],
   "source": [
    "'T-value = %.3f, p-value = %.3f' % crab_ttest"
   ]
  },
  {
   "cell_type": "code",
   "execution_count": 15,
   "id": "078e1d96",
   "metadata": {},
   "outputs": [],
   "source": [
    "import pandas as pd\n",
    "from scipy import stats"
   ]
  },
  {
   "cell_type": "code",
   "execution_count": 16,
   "id": "4238b871",
   "metadata": {},
   "outputs": [
    {
     "data": {
      "text/plain": [
       "Index(['drug', 'time'], dtype='object')"
      ]
     },
     "execution_count": 16,
     "metadata": {},
     "output_type": "execute_result"
    }
   ],
   "source": [
    "drug = pd.read_csv('../data/drug.csv')\n",
    "drug.columns"
   ]
  },
  {
   "cell_type": "code",
   "execution_count": 17,
   "id": "37684499",
   "metadata": {},
   "outputs": [
    {
     "data": {
      "text/plain": [
       "0    8.8\n",
       "1    8.4\n",
       "2    7.9\n",
       "3    8.7\n",
       "4    9.1\n",
       "5    9.6\n",
       "Name: time, dtype: float64"
      ]
     },
     "execution_count": 17,
     "metadata": {},
     "output_type": "execute_result"
    }
   ],
   "source": [
    "drugB = drug.loc[drug.drug=='B', 'time']\n",
    "drugB"
   ]
  },
  {
   "cell_type": "code",
   "execution_count": 18,
   "id": "a6f735bf",
   "metadata": {},
   "outputs": [
    {
     "data": {
      "text/plain": [
       "6      9.9\n",
       "7      9.0\n",
       "8     11.1\n",
       "9      9.6\n",
       "10     8.7\n",
       "11    10.4\n",
       "12     9.5\n",
       "Name: time, dtype: float64"
      ]
     },
     "execution_count": 18,
     "metadata": {},
     "output_type": "execute_result"
    }
   ],
   "source": [
    "drugG = drug.loc[drug.drug=='G', 'time']\n",
    "drugG"
   ]
  },
  {
   "cell_type": "code",
   "execution_count": 20,
   "id": "6495995c",
   "metadata": {},
   "outputs": [
    {
     "data": {
      "text/plain": [
       "Ttest_indResult(statistic=-2.545400506120506, pvalue=0.027737003664852006)"
      ]
     },
     "execution_count": 20,
     "metadata": {},
     "output_type": "execute_result"
    }
   ],
   "source": [
    "drug_ttest = stats.ttest_ind(drugB, drugG, equal_var=False)\n",
    "drug_ttest"
   ]
  },
  {
   "cell_type": "code",
   "execution_count": 22,
   "id": "3fa99e77",
   "metadata": {},
   "outputs": [
    {
     "data": {
      "text/plain": [
       "'Not assuming equal variances : t-value = -2.545, p-value = 0.028'"
      ]
     },
     "execution_count": 22,
     "metadata": {},
     "output_type": "execute_result"
    }
   ],
   "source": [
    "'Not assuming equal variances : t-value = %.3f, p-value = %.3f' % drug_ttest"
   ]
  },
  {
   "cell_type": "code",
   "execution_count": 23,
   "id": "570de700",
   "metadata": {},
   "outputs": [],
   "source": [
    "# 두 독립표본 평균 검정: 분산 동일성 검정 후"
   ]
  },
  {
   "cell_type": "code",
   "execution_count": 24,
   "id": "4c18185a",
   "metadata": {},
   "outputs": [],
   "source": [
    "import pandas as pd\n",
    "from scipy import stats"
   ]
  },
  {
   "cell_type": "code",
   "execution_count": 25,
   "id": "40fddff1",
   "metadata": {},
   "outputs": [],
   "source": [
    "drug = pd.read_csv('../data/drug.csv')\n",
    "drugB = drug.loc[drug.drug=='B', 'time']\n",
    "drugG = drug.loc[drug.drug=='G', 'time']"
   ]
  },
  {
   "cell_type": "code",
   "execution_count": 26,
   "id": "70bacb1c",
   "metadata": {},
   "outputs": [
    {
     "data": {
      "text/plain": [
       "BartlettResult(statistic=0.5564475391423365, pvalue=0.4556951347329731)"
      ]
     },
     "execution_count": 26,
     "metadata": {},
     "output_type": "execute_result"
    }
   ],
   "source": [
    "stats.bartlett(drugB, drugG)"
   ]
  },
  {
   "cell_type": "code",
   "execution_count": 27,
   "id": "bcf1a696",
   "metadata": {},
   "outputs": [
    {
     "data": {
      "text/plain": [
       "LeveneResult(statistic=0.5208519677996435, pvalue=0.485536773334305)"
      ]
     },
     "execution_count": 27,
     "metadata": {},
     "output_type": "execute_result"
    }
   ],
   "source": [
    "stats.levene(drugB, drugG)"
   ]
  },
  {
   "cell_type": "code",
   "execution_count": 29,
   "id": "cec2f6b2",
   "metadata": {},
   "outputs": [],
   "source": [
    "drug_ttest = stats. ttest_ind(drugB, drugG, equal_var=True)"
   ]
  },
  {
   "cell_type": "code",
   "execution_count": 30,
   "id": "451533a4",
   "metadata": {},
   "outputs": [
    {
     "data": {
      "text/plain": [
       "'Assuming equal variances : t-value = -2.476, p-value = 0.031 '"
      ]
     },
     "execution_count": 30,
     "metadata": {},
     "output_type": "execute_result"
    }
   ],
   "source": [
    "'Assuming equal variances : t-value = %.3f, p-value = %.3f '%drug_ttest"
   ]
  },
  {
   "cell_type": "code",
   "execution_count": 31,
   "id": "7c40775d",
   "metadata": {},
   "outputs": [],
   "source": [
    "# 3.2 짝지어진 표본의 평균 검정"
   ]
  },
  {
   "cell_type": "code",
   "execution_count": 33,
   "id": "e5b2667b",
   "metadata": {},
   "outputs": [],
   "source": [
    "import pandas as pd\n",
    "from scipy import stats"
   ]
  },
  {
   "cell_type": "code",
   "execution_count": 34,
   "id": "71225698",
   "metadata": {},
   "outputs": [
    {
     "data": {
      "text/html": [
       "<div>\n",
       "<style scoped>\n",
       "    .dataframe tbody tr th:only-of-type {\n",
       "        vertical-align: middle;\n",
       "    }\n",
       "\n",
       "    .dataframe tbody tr th {\n",
       "        vertical-align: top;\n",
       "    }\n",
       "\n",
       "    .dataframe thead th {\n",
       "        text-align: right;\n",
       "    }\n",
       "</style>\n",
       "<table border=\"1\" class=\"dataframe\">\n",
       "  <thead>\n",
       "    <tr style=\"text-align: right;\">\n",
       "      <th></th>\n",
       "      <th>id</th>\n",
       "      <th>hleg</th>\n",
       "      <th>fleg</th>\n",
       "    </tr>\n",
       "  </thead>\n",
       "  <tbody>\n",
       "    <tr>\n",
       "      <th>0</th>\n",
       "      <td>1</td>\n",
       "      <td>142</td>\n",
       "      <td>138</td>\n",
       "    </tr>\n",
       "    <tr>\n",
       "      <th>1</th>\n",
       "      <td>2</td>\n",
       "      <td>140</td>\n",
       "      <td>136</td>\n",
       "    </tr>\n",
       "    <tr>\n",
       "      <th>2</th>\n",
       "      <td>3</td>\n",
       "      <td>144</td>\n",
       "      <td>147</td>\n",
       "    </tr>\n",
       "    <tr>\n",
       "      <th>3</th>\n",
       "      <td>4</td>\n",
       "      <td>144</td>\n",
       "      <td>139</td>\n",
       "    </tr>\n",
       "    <tr>\n",
       "      <th>4</th>\n",
       "      <td>5</td>\n",
       "      <td>142</td>\n",
       "      <td>143</td>\n",
       "    </tr>\n",
       "  </tbody>\n",
       "</table>\n",
       "</div>"
      ],
      "text/plain": [
       "   id  hleg  fleg\n",
       "0   1   142   138\n",
       "1   2   140   136\n",
       "2   3   144   147\n",
       "3   4   144   139\n",
       "4   5   142   143"
      ]
     },
     "execution_count": 34,
     "metadata": {},
     "output_type": "execute_result"
    }
   ],
   "source": [
    "deer = pd.read_csv('../data/deer.csv')\n",
    "deer.head()"
   ]
  },
  {
   "cell_type": "code",
   "execution_count": 35,
   "id": "55583b09",
   "metadata": {},
   "outputs": [
    {
     "data": {
      "text/plain": [
       "Ttest_relResult(statistic=3.413793103448276, pvalue=0.007703223347263766)"
      ]
     },
     "execution_count": 35,
     "metadata": {},
     "output_type": "execute_result"
    }
   ],
   "source": [
    "deer_pttest = stats.ttest_rel(deer.hleg, deer.fleg)\n",
    "deer_pttest"
   ]
  },
  {
   "cell_type": "code",
   "execution_count": 36,
   "id": "42902428",
   "metadata": {},
   "outputs": [
    {
     "data": {
      "text/plain": [
       "'T-value = 3.414, p-value = 0.008'"
      ]
     },
     "execution_count": 36,
     "metadata": {},
     "output_type": "execute_result"
    }
   ],
   "source": [
    "'T-value = %.3f, p-value = %.3f'%deer_pttest"
   ]
  },
  {
   "cell_type": "code",
   "execution_count": null,
   "id": "6d504adb",
   "metadata": {},
   "outputs": [],
   "source": []
  }
 ],
 "metadata": {
  "kernelspec": {
   "display_name": "Python 3 (ipykernel)",
   "language": "python",
   "name": "python3"
  },
  "language_info": {
   "codemirror_mode": {
    "name": "ipython",
    "version": 3
   },
   "file_extension": ".py",
   "mimetype": "text/x-python",
   "name": "python",
   "nbconvert_exporter": "python",
   "pygments_lexer": "ipython3",
   "version": "3.9.6"
  }
 },
 "nbformat": 4,
 "nbformat_minor": 5
}
