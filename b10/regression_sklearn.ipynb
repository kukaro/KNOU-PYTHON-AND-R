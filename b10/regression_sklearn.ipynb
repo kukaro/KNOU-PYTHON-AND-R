{
 "cells": [
  {
   "cell_type": "code",
   "execution_count": 3,
   "id": "e7f12406",
   "metadata": {},
   "outputs": [],
   "source": [
    "import pandas as pd\n",
    "from sklearn.linear_model import LinearRegression"
   ]
  },
  {
   "cell_type": "code",
   "execution_count": 4,
   "id": "550299b1",
   "metadata": {},
   "outputs": [],
   "source": [
    "health = pd.read_csv('../data/health.csv')"
   ]
  },
  {
   "cell_type": "code",
   "execution_count": 5,
   "id": "50cb7811",
   "metadata": {},
   "outputs": [],
   "source": [
    "X_cols = ['weight', 'pulse', 'muscle', 'quarter']"
   ]
  },
  {
   "cell_type": "code",
   "execution_count": 6,
   "id": "d7957df2",
   "metadata": {},
   "outputs": [],
   "source": [
    "X = health[X_cols]"
   ]
  },
  {
   "cell_type": "code",
   "execution_count": 7,
   "id": "9c98763a",
   "metadata": {},
   "outputs": [],
   "source": [
    "Y = health['time']"
   ]
  },
  {
   "cell_type": "code",
   "execution_count": 9,
   "id": "ee8a97bb",
   "metadata": {},
   "outputs": [
    {
     "data": {
      "text/html": [
       "<div>\n",
       "<style scoped>\n",
       "    .dataframe tbody tr th:only-of-type {\n",
       "        vertical-align: middle;\n",
       "    }\n",
       "\n",
       "    .dataframe tbody tr th {\n",
       "        vertical-align: top;\n",
       "    }\n",
       "\n",
       "    .dataframe thead th {\n",
       "        text-align: right;\n",
       "    }\n",
       "</style>\n",
       "<table border=\"1\" class=\"dataframe\">\n",
       "  <thead>\n",
       "    <tr style=\"text-align: right;\">\n",
       "      <th></th>\n",
       "      <th>weight</th>\n",
       "      <th>pulse</th>\n",
       "      <th>muscle</th>\n",
       "      <th>quarter</th>\n",
       "    </tr>\n",
       "  </thead>\n",
       "  <tbody>\n",
       "    <tr>\n",
       "      <th>0</th>\n",
       "      <td>217</td>\n",
       "      <td>67</td>\n",
       "      <td>260</td>\n",
       "      <td>91</td>\n",
       "    </tr>\n",
       "    <tr>\n",
       "      <th>1</th>\n",
       "      <td>141</td>\n",
       "      <td>52</td>\n",
       "      <td>190</td>\n",
       "      <td>66</td>\n",
       "    </tr>\n",
       "    <tr>\n",
       "      <th>2</th>\n",
       "      <td>152</td>\n",
       "      <td>58</td>\n",
       "      <td>203</td>\n",
       "      <td>68</td>\n",
       "    </tr>\n",
       "    <tr>\n",
       "      <th>3</th>\n",
       "      <td>153</td>\n",
       "      <td>56</td>\n",
       "      <td>183</td>\n",
       "      <td>70</td>\n",
       "    </tr>\n",
       "    <tr>\n",
       "      <th>4</th>\n",
       "      <td>180</td>\n",
       "      <td>66</td>\n",
       "      <td>170</td>\n",
       "      <td>77</td>\n",
       "    </tr>\n",
       "  </tbody>\n",
       "</table>\n",
       "</div>"
      ],
      "text/plain": [
       "   weight  pulse  muscle  quarter\n",
       "0     217     67     260       91\n",
       "1     141     52     190       66\n",
       "2     152     58     203       68\n",
       "3     153     56     183       70\n",
       "4     180     66     170       77"
      ]
     },
     "execution_count": 9,
     "metadata": {},
     "output_type": "execute_result"
    }
   ],
   "source": [
    "X.head(5)"
   ]
  },
  {
   "cell_type": "code",
   "execution_count": 15,
   "id": "f29930ab",
   "metadata": {},
   "outputs": [],
   "source": [
    "result = LinearRegression().fit(X,Y)"
   ]
  },
  {
   "cell_type": "code",
   "execution_count": 18,
   "id": "f192f23e",
   "metadata": {},
   "outputs": [
    {
     "data": {
      "text/plain": [
       "array([ 1.26763358, -0.52520605, -0.50502243,  3.90301223])"
      ]
     },
     "execution_count": 18,
     "metadata": {},
     "output_type": "execute_result"
    }
   ],
   "source": [
    "result.coef_"
   ]
  },
  {
   "cell_type": "code",
   "execution_count": 21,
   "id": "ce5a7a38",
   "metadata": {},
   "outputs": [
    {
     "data": {
      "text/plain": [
       "-3.618564278627275"
      ]
     },
     "execution_count": 21,
     "metadata": {},
     "output_type": "execute_result"
    }
   ],
   "source": [
    "result.intercept_\n",
    "# 상수항 의미"
   ]
  },
  {
   "cell_type": "code",
   "execution_count": 22,
   "id": "693f3a49",
   "metadata": {},
   "outputs": [],
   "source": [
    "predicted = result.predict(X)"
   ]
  },
  {
   "cell_type": "code",
   "execution_count": 23,
   "id": "b1bd26c6",
   "metadata": {},
   "outputs": [
    {
     "data": {
      "text/plain": [
       "array([460.13739766, 309.45160088, 321.48506679, 341.70958559,\n",
       "       404.57000898, 433.89809695, 375.61899823, 424.5382099 ,\n",
       "       444.81125151, 392.96278209, 426.24597835, 331.35321428,\n",
       "       284.74477021, 289.5347333 , 419.88316187, 285.63316663,\n",
       "       371.33499766, 434.50955278, 352.82045823, 301.16890029,\n",
       "       346.51330916, 279.10535822, 505.16723121, 471.95110494,\n",
       "       333.35804509, 336.86061134, 347.26755063, 429.40019279,\n",
       "       278.74119363, 393.22347081])"
      ]
     },
     "execution_count": 23,
     "metadata": {},
     "output_type": "execute_result"
    }
   ],
   "source": [
    "predicted"
   ]
  },
  {
   "cell_type": "code",
   "execution_count": 24,
   "id": "b269218c",
   "metadata": {},
   "outputs": [
    {
     "data": {
      "text/plain": [
       "0     481\n",
       "1     292\n",
       "2     338\n",
       "3     357\n",
       "4     396\n",
       "5     429\n",
       "6     345\n",
       "7     469\n",
       "8     425\n",
       "9     358\n",
       "10    393\n",
       "11    346\n",
       "12    279\n",
       "13    311\n",
       "14    401\n",
       "15    267\n",
       "16    404\n",
       "17    442\n",
       "18    368\n",
       "19    295\n",
       "20    391\n",
       "21    264\n",
       "22    487\n",
       "23    481\n",
       "24    374\n",
       "25    309\n",
       "26    367\n",
       "27    469\n",
       "28    252\n",
       "29    338\n",
       "Name: time, dtype: int64"
      ]
     },
     "execution_count": 24,
     "metadata": {},
     "output_type": "execute_result"
    }
   ],
   "source": [
    "Y"
   ]
  },
  {
   "cell_type": "code",
   "execution_count": null,
   "id": "af82e4e0",
   "metadata": {},
   "outputs": [],
   "source": []
  }
 ],
 "metadata": {
  "kernelspec": {
   "display_name": "Python 3 (ipykernel)",
   "language": "python",
   "name": "python3"
  },
  "language_info": {
   "codemirror_mode": {
    "name": "ipython",
    "version": 3
   },
   "file_extension": ".py",
   "mimetype": "text/x-python",
   "name": "python",
   "nbconvert_exporter": "python",
   "pygments_lexer": "ipython3",
   "version": "3.9.6"
  }
 },
 "nbformat": 4,
 "nbformat_minor": 5
}
