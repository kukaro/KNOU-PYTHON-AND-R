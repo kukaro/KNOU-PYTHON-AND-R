{
 "cells": [
  {
   "cell_type": "code",
   "execution_count": 2,
   "id": "c131c162",
   "metadata": {},
   "outputs": [],
   "source": [
    "health <- read.csv('../data/health.csv', header=T)"
   ]
  },
  {
   "cell_type": "code",
   "execution_count": 4,
   "id": "95eb3259",
   "metadata": {},
   "outputs": [
    {
     "data": {
      "text/html": [
       "<table class=\"dataframe\">\n",
       "<caption>A data.frame: 30 × 4</caption>\n",
       "<thead>\n",
       "\t<tr><th scope=col>pulse</th><th scope=col>muscle</th><th scope=col>quarter</th><th scope=col>time</th></tr>\n",
       "\t<tr><th scope=col>&lt;int&gt;</th><th scope=col>&lt;int&gt;</th><th scope=col>&lt;int&gt;</th><th scope=col>&lt;int&gt;</th></tr>\n",
       "</thead>\n",
       "<tbody>\n",
       "\t<tr><td>67</td><td>260</td><td>91</td><td>481</td></tr>\n",
       "\t<tr><td>52</td><td>190</td><td>66</td><td>292</td></tr>\n",
       "\t<tr><td>58</td><td>203</td><td>68</td><td>338</td></tr>\n",
       "\t<tr><td>56</td><td>183</td><td>70</td><td>357</td></tr>\n",
       "\t<tr><td>66</td><td>170</td><td>77</td><td>396</td></tr>\n",
       "\t<tr><td>71</td><td>178</td><td>82</td><td>429</td></tr>\n",
       "\t<tr><td>65</td><td>160</td><td>74</td><td>345</td></tr>\n",
       "\t<tr><td>80</td><td>170</td><td>84</td><td>469</td></tr>\n",
       "\t<tr><td>77</td><td>188</td><td>83</td><td>425</td></tr>\n",
       "\t<tr><td>74</td><td>170</td><td>79</td><td>358</td></tr>\n",
       "\t<tr><td>65</td><td>220</td><td>72</td><td>393</td></tr>\n",
       "\t<tr><td>68</td><td>158</td><td>68</td><td>346</td></tr>\n",
       "\t<tr><td>51</td><td>243</td><td>56</td><td>279</td></tr>\n",
       "\t<tr><td>64</td><td>198</td><td>59</td><td>311</td></tr>\n",
       "\t<tr><td>66</td><td>220</td><td>77</td><td>401</td></tr>\n",
       "\t<tr><td>70</td><td>180</td><td>62</td><td>267</td></tr>\n",
       "\t<tr><td>54</td><td>150</td><td>75</td><td>404</td></tr>\n",
       "\t<tr><td>76</td><td>228</td><td>88</td><td>442</td></tr>\n",
       "\t<tr><td>59</td><td>188</td><td>70</td><td>368</td></tr>\n",
       "\t<tr><td>58</td><td>160</td><td>66</td><td>295</td></tr>\n",
       "\t<tr><td>52</td><td>190</td><td>69</td><td>391</td></tr>\n",
       "\t<tr><td>62</td><td>163</td><td>59</td><td>264</td></tr>\n",
       "\t<tr><td>64</td><td>313</td><td>96</td><td>487</td></tr>\n",
       "\t<tr><td>72</td><td>225</td><td>84</td><td>481</td></tr>\n",
       "\t<tr><td>57</td><td>173</td><td>68</td><td>374</td></tr>\n",
       "\t<tr><td>57</td><td>173</td><td>65</td><td>309</td></tr>\n",
       "\t<tr><td>59</td><td>220</td><td>62</td><td>367</td></tr>\n",
       "\t<tr><td>70</td><td>218</td><td>69</td><td>469</td></tr>\n",
       "\t<tr><td>63</td><td>193</td><td>60</td><td>252</td></tr>\n",
       "\t<tr><td>53</td><td>183</td><td>75</td><td>338</td></tr>\n",
       "</tbody>\n",
       "</table>\n"
      ],
      "text/latex": [
       "A data.frame: 30 × 4\n",
       "\\begin{tabular}{llll}\n",
       " pulse & muscle & quarter & time\\\\\n",
       " <int> & <int> & <int> & <int>\\\\\n",
       "\\hline\n",
       "\t 67 & 260 & 91 & 481\\\\\n",
       "\t 52 & 190 & 66 & 292\\\\\n",
       "\t 58 & 203 & 68 & 338\\\\\n",
       "\t 56 & 183 & 70 & 357\\\\\n",
       "\t 66 & 170 & 77 & 396\\\\\n",
       "\t 71 & 178 & 82 & 429\\\\\n",
       "\t 65 & 160 & 74 & 345\\\\\n",
       "\t 80 & 170 & 84 & 469\\\\\n",
       "\t 77 & 188 & 83 & 425\\\\\n",
       "\t 74 & 170 & 79 & 358\\\\\n",
       "\t 65 & 220 & 72 & 393\\\\\n",
       "\t 68 & 158 & 68 & 346\\\\\n",
       "\t 51 & 243 & 56 & 279\\\\\n",
       "\t 64 & 198 & 59 & 311\\\\\n",
       "\t 66 & 220 & 77 & 401\\\\\n",
       "\t 70 & 180 & 62 & 267\\\\\n",
       "\t 54 & 150 & 75 & 404\\\\\n",
       "\t 76 & 228 & 88 & 442\\\\\n",
       "\t 59 & 188 & 70 & 368\\\\\n",
       "\t 58 & 160 & 66 & 295\\\\\n",
       "\t 52 & 190 & 69 & 391\\\\\n",
       "\t 62 & 163 & 59 & 264\\\\\n",
       "\t 64 & 313 & 96 & 487\\\\\n",
       "\t 72 & 225 & 84 & 481\\\\\n",
       "\t 57 & 173 & 68 & 374\\\\\n",
       "\t 57 & 173 & 65 & 309\\\\\n",
       "\t 59 & 220 & 62 & 367\\\\\n",
       "\t 70 & 218 & 69 & 469\\\\\n",
       "\t 63 & 193 & 60 & 252\\\\\n",
       "\t 53 & 183 & 75 & 338\\\\\n",
       "\\end{tabular}\n"
      ],
      "text/markdown": [
       "\n",
       "A data.frame: 30 × 4\n",
       "\n",
       "| pulse &lt;int&gt; | muscle &lt;int&gt; | quarter &lt;int&gt; | time &lt;int&gt; |\n",
       "|---|---|---|---|\n",
       "| 67 | 260 | 91 | 481 |\n",
       "| 52 | 190 | 66 | 292 |\n",
       "| 58 | 203 | 68 | 338 |\n",
       "| 56 | 183 | 70 | 357 |\n",
       "| 66 | 170 | 77 | 396 |\n",
       "| 71 | 178 | 82 | 429 |\n",
       "| 65 | 160 | 74 | 345 |\n",
       "| 80 | 170 | 84 | 469 |\n",
       "| 77 | 188 | 83 | 425 |\n",
       "| 74 | 170 | 79 | 358 |\n",
       "| 65 | 220 | 72 | 393 |\n",
       "| 68 | 158 | 68 | 346 |\n",
       "| 51 | 243 | 56 | 279 |\n",
       "| 64 | 198 | 59 | 311 |\n",
       "| 66 | 220 | 77 | 401 |\n",
       "| 70 | 180 | 62 | 267 |\n",
       "| 54 | 150 | 75 | 404 |\n",
       "| 76 | 228 | 88 | 442 |\n",
       "| 59 | 188 | 70 | 368 |\n",
       "| 58 | 160 | 66 | 295 |\n",
       "| 52 | 190 | 69 | 391 |\n",
       "| 62 | 163 | 59 | 264 |\n",
       "| 64 | 313 | 96 | 487 |\n",
       "| 72 | 225 | 84 | 481 |\n",
       "| 57 | 173 | 68 | 374 |\n",
       "| 57 | 173 | 65 | 309 |\n",
       "| 59 | 220 | 62 | 367 |\n",
       "| 70 | 218 | 69 | 469 |\n",
       "| 63 | 193 | 60 | 252 |\n",
       "| 53 | 183 | 75 | 338 |\n",
       "\n"
      ],
      "text/plain": [
       "   pulse muscle quarter time\n",
       "1  67    260    91      481 \n",
       "2  52    190    66      292 \n",
       "3  58    203    68      338 \n",
       "4  56    183    70      357 \n",
       "5  66    170    77      396 \n",
       "6  71    178    82      429 \n",
       "7  65    160    74      345 \n",
       "8  80    170    84      469 \n",
       "9  77    188    83      425 \n",
       "10 74    170    79      358 \n",
       "11 65    220    72      393 \n",
       "12 68    158    68      346 \n",
       "13 51    243    56      279 \n",
       "14 64    198    59      311 \n",
       "15 66    220    77      401 \n",
       "16 70    180    62      267 \n",
       "17 54    150    75      404 \n",
       "18 76    228    88      442 \n",
       "19 59    188    70      368 \n",
       "20 58    160    66      295 \n",
       "21 52    190    69      391 \n",
       "22 62    163    59      264 \n",
       "23 64    313    96      487 \n",
       "24 72    225    84      481 \n",
       "25 57    173    68      374 \n",
       "26 57    173    65      309 \n",
       "27 59    220    62      367 \n",
       "28 70    218    69      469 \n",
       "29 63    193    60      252 \n",
       "30 53    183    75      338 "
      ]
     },
     "metadata": {},
     "output_type": "display_data"
    }
   ],
   "source": [
    "health <- health[,-1]\n",
    "health"
   ]
  },
  {
   "cell_type": "code",
   "execution_count": 5,
   "id": "e1ae353a",
   "metadata": {},
   "outputs": [],
   "source": [
    "fit <- lm(time ~ . , data=health)"
   ]
  },
  {
   "cell_type": "code",
   "execution_count": 6,
   "id": "96f44957",
   "metadata": {},
   "outputs": [
    {
     "data": {
      "text/plain": [
       "\n",
       "Call:\n",
       "lm(formula = time ~ ., data = health)\n",
       "\n",
       "Coefficients:\n",
       "(Intercept)        pulse       muscle      quarter  \n",
       "  -105.7007       0.8125       0.2830       5.1011  \n"
      ]
     },
     "metadata": {},
     "output_type": "display_data"
    }
   ],
   "source": [
    "fit"
   ]
  },
  {
   "cell_type": "code",
   "execution_count": 7,
   "id": "d3cc1e5b",
   "metadata": {},
   "outputs": [
    {
     "data": {
      "text/plain": [
       "\n",
       "Call:\n",
       "lm(formula = time ~ ., data = health)\n",
       "\n",
       "Residuals:\n",
       "    Min      1Q  Median      3Q     Max \n",
       "-54.171 -27.692  -3.741  16.134 104.157 \n",
       "\n",
       "Coefficients:\n",
       "             Estimate Std. Error t value Pr(>|t|)    \n",
       "(Intercept) -105.7007    66.9050  -1.580    0.126    \n",
       "pulse          0.8125     1.0573   0.768    0.449    \n",
       "muscle         0.2830     0.2216   1.277    0.213    \n",
       "quarter        5.1011     0.9119   5.594 7.06e-06 ***\n",
       "---\n",
       "Signif. codes:  0 ‘***’ 0.001 ‘**’ 0.01 ‘*’ 0.05 ‘.’ 0.1 ‘ ’ 1\n",
       "\n",
       "Residual standard error: 37.52 on 26 degrees of freedom\n",
       "Multiple R-squared:  0.7384,\tAdjusted R-squared:  0.7082 \n",
       "F-statistic: 24.46 on 3 and 26 DF,  p-value: 9.79e-08\n"
      ]
     },
     "metadata": {},
     "output_type": "display_data"
    }
   ],
   "source": [
    "summary(fit)"
   ]
  },
  {
   "cell_type": "code",
   "execution_count": 8,
   "id": "bff9fb97",
   "metadata": {},
   "outputs": [
    {
     "data": {
      "text/html": [
       "<table class=\"dataframe\">\n",
       "<caption>A anova: 4 × 5</caption>\n",
       "<thead>\n",
       "\t<tr><th></th><th scope=col>Df</th><th scope=col>Sum Sq</th><th scope=col>Mean Sq</th><th scope=col>F value</th><th scope=col>Pr(&gt;F)</th></tr>\n",
       "\t<tr><th></th><th scope=col>&lt;int&gt;</th><th scope=col>&lt;dbl&gt;</th><th scope=col>&lt;dbl&gt;</th><th scope=col>&lt;dbl&gt;</th><th scope=col>&lt;dbl&gt;</th></tr>\n",
       "</thead>\n",
       "<tbody>\n",
       "\t<tr><th scope=row>pulse</th><td> 1</td><td>35134.88</td><td>35134.88</td><td>24.95729</td><td>3.398577e-05</td></tr>\n",
       "\t<tr><th scope=row>muscle</th><td> 1</td><td>24120.66</td><td>24120.66</td><td>17.13358</td><td>3.248557e-04</td></tr>\n",
       "\t<tr><th scope=row>quarter</th><td> 1</td><td>44053.52</td><td>44053.52</td><td>31.29245</td><td>7.061426e-06</td></tr>\n",
       "\t<tr><th scope=row>Residuals</th><td>26</td><td>36602.81</td><td> 1407.80</td><td>      NA</td><td>          NA</td></tr>\n",
       "</tbody>\n",
       "</table>\n"
      ],
      "text/latex": [
       "A anova: 4 × 5\n",
       "\\begin{tabular}{r|lllll}\n",
       "  & Df & Sum Sq & Mean Sq & F value & Pr(>F)\\\\\n",
       "  & <int> & <dbl> & <dbl> & <dbl> & <dbl>\\\\\n",
       "\\hline\n",
       "\tpulse &  1 & 35134.88 & 35134.88 & 24.95729 & 3.398577e-05\\\\\n",
       "\tmuscle &  1 & 24120.66 & 24120.66 & 17.13358 & 3.248557e-04\\\\\n",
       "\tquarter &  1 & 44053.52 & 44053.52 & 31.29245 & 7.061426e-06\\\\\n",
       "\tResiduals & 26 & 36602.81 &  1407.80 &       NA &           NA\\\\\n",
       "\\end{tabular}\n"
      ],
      "text/markdown": [
       "\n",
       "A anova: 4 × 5\n",
       "\n",
       "| <!--/--> | Df &lt;int&gt; | Sum Sq &lt;dbl&gt; | Mean Sq &lt;dbl&gt; | F value &lt;dbl&gt; | Pr(&gt;F) &lt;dbl&gt; |\n",
       "|---|---|---|---|---|---|\n",
       "| pulse |  1 | 35134.88 | 35134.88 | 24.95729 | 3.398577e-05 |\n",
       "| muscle |  1 | 24120.66 | 24120.66 | 17.13358 | 3.248557e-04 |\n",
       "| quarter |  1 | 44053.52 | 44053.52 | 31.29245 | 7.061426e-06 |\n",
       "| Residuals | 26 | 36602.81 |  1407.80 |       NA |           NA |\n",
       "\n"
      ],
      "text/plain": [
       "          Df Sum Sq   Mean Sq  F value  Pr(>F)      \n",
       "pulse      1 35134.88 35134.88 24.95729 3.398577e-05\n",
       "muscle     1 24120.66 24120.66 17.13358 3.248557e-04\n",
       "quarter    1 44053.52 44053.52 31.29245 7.061426e-06\n",
       "Residuals 26 36602.81  1407.80       NA           NA"
      ]
     },
     "metadata": {},
     "output_type": "display_data"
    }
   ],
   "source": [
    "anova(fit)"
   ]
  },
  {
   "cell_type": "code",
   "execution_count": 9,
   "id": "1d7711b1",
   "metadata": {},
   "outputs": [
    {
     "data": {
      "text/html": [
       "<table class=\"dataframe\">\n",
       "<caption>A matrix: 6 × 2 of type dbl</caption>\n",
       "<tbody>\n",
       "\t<tr><th scope=row>1</th><td>486.5153</td><td> -5.515330</td></tr>\n",
       "\t<tr><th scope=row>2</th><td>326.9907</td><td>-34.990741</td></tr>\n",
       "\t<tr><th scope=row>3</th><td>345.7469</td><td> -7.746902</td></tr>\n",
       "\t<tr><th scope=row>4</th><td>348.6640</td><td>  8.335959</td></tr>\n",
       "\t<tr><th scope=row>5</th><td>388.8176</td><td>  7.182448</td></tr>\n",
       "\t<tr><th scope=row>6</th><td>420.6495</td><td>  8.350547</td></tr>\n",
       "</tbody>\n",
       "</table>\n"
      ],
      "text/latex": [
       "A matrix: 6 × 2 of type dbl\n",
       "\\begin{tabular}{r|ll}\n",
       "\t1 & 486.5153 &  -5.515330\\\\\n",
       "\t2 & 326.9907 & -34.990741\\\\\n",
       "\t3 & 345.7469 &  -7.746902\\\\\n",
       "\t4 & 348.6640 &   8.335959\\\\\n",
       "\t5 & 388.8176 &   7.182448\\\\\n",
       "\t6 & 420.6495 &   8.350547\\\\\n",
       "\\end{tabular}\n"
      ],
      "text/markdown": [
       "\n",
       "A matrix: 6 × 2 of type dbl\n",
       "\n",
       "| 1 | 486.5153 |  -5.515330 |\n",
       "| 2 | 326.9907 | -34.990741 |\n",
       "| 3 | 345.7469 |  -7.746902 |\n",
       "| 4 | 348.6640 |   8.335959 |\n",
       "| 5 | 388.8176 |   7.182448 |\n",
       "| 6 | 420.6495 |   8.350547 |\n",
       "\n"
      ],
      "text/plain": [
       "  [,1]     [,2]      \n",
       "1 486.5153  -5.515330\n",
       "2 326.9907 -34.990741\n",
       "3 345.7469  -7.746902\n",
       "4 348.6640   8.335959\n",
       "5 388.8176   7.182448\n",
       "6 420.6495   8.350547"
      ]
     },
     "metadata": {},
     "output_type": "display_data"
    }
   ],
   "source": [
    "head(cbind(fitted(fit),residuals(fit)))"
   ]
  },
  {
   "cell_type": "code",
   "execution_count": 10,
   "id": "b51b7cd2",
   "metadata": {},
   "outputs": [
    {
     "data": {
      "text/html": [
       "<table class=\"dataframe\">\n",
       "<caption>A matrix: 4 × 2 of type dbl</caption>\n",
       "<thead>\n",
       "\t<tr><th></th><th scope=col>2.5 %</th><th scope=col>97.5 %</th></tr>\n",
       "</thead>\n",
       "<tbody>\n",
       "\t<tr><th scope=row>(Intercept)</th><td>-243.2258515</td><td>31.8243786</td></tr>\n",
       "\t<tr><th scope=row>pulse</th><td>  -1.3608011</td><td> 2.9857937</td></tr>\n",
       "\t<tr><th scope=row>muscle</th><td>  -0.1724969</td><td> 0.7385001</td></tr>\n",
       "\t<tr><th scope=row>quarter</th><td>   3.2266644</td><td> 6.9754982</td></tr>\n",
       "</tbody>\n",
       "</table>\n"
      ],
      "text/latex": [
       "A matrix: 4 × 2 of type dbl\n",
       "\\begin{tabular}{r|ll}\n",
       "  & 2.5 \\% & 97.5 \\%\\\\\n",
       "\\hline\n",
       "\t(Intercept) & -243.2258515 & 31.8243786\\\\\n",
       "\tpulse &   -1.3608011 &  2.9857937\\\\\n",
       "\tmuscle &   -0.1724969 &  0.7385001\\\\\n",
       "\tquarter &    3.2266644 &  6.9754982\\\\\n",
       "\\end{tabular}\n"
      ],
      "text/markdown": [
       "\n",
       "A matrix: 4 × 2 of type dbl\n",
       "\n",
       "| <!--/--> | 2.5 % | 97.5 % |\n",
       "|---|---|---|\n",
       "| (Intercept) | -243.2258515 | 31.8243786 |\n",
       "| pulse |   -1.3608011 |  2.9857937 |\n",
       "| muscle |   -0.1724969 |  0.7385001 |\n",
       "| quarter |    3.2266644 |  6.9754982 |\n",
       "\n"
      ],
      "text/plain": [
       "            2.5 %        97.5 %    \n",
       "(Intercept) -243.2258515 31.8243786\n",
       "pulse         -1.3608011  2.9857937\n",
       "muscle        -0.1724969  0.7385001\n",
       "quarter        3.2266644  6.9754982"
      ]
     },
     "metadata": {},
     "output_type": "display_data"
    }
   ],
   "source": [
    "confint(fit, level=0.95)"
   ]
  },
  {
   "cell_type": "code",
   "execution_count": null,
   "id": "b921bbf8",
   "metadata": {},
   "outputs": [],
   "source": []
  }
 ],
 "metadata": {
  "kernelspec": {
   "display_name": "R",
   "language": "R",
   "name": "ir"
  },
  "language_info": {
   "codemirror_mode": "r",
   "file_extension": ".r",
   "mimetype": "text/x-r-source",
   "name": "R",
   "pygments_lexer": "r",
   "version": "4.0.3"
  }
 },
 "nbformat": 4,
 "nbformat_minor": 5
}
